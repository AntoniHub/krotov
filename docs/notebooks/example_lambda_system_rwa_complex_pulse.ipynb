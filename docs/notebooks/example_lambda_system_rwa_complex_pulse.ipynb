{
 "cells": [
  {
   "cell_type": "markdown",
   "metadata": {},
   "source": [
    "# Optimisation of a state-to-state transfer in a lambda system with RWA"
   ]
  },
  {
   "cell_type": "code",
   "execution_count": 1,
   "metadata": {},
   "outputs": [
    {
     "name": "stdout",
     "output_type": "stream",
     "text": [
      "numpy       1.13.1\n",
      "scipy       0.19.1\n",
      "matplotlib  3.0.2\n",
      "matplotlib.pylab  1.13.1\n",
      "krotov      0.0.1\n",
      "qutip       4.3.1\n",
      "CPython 3.6.2\n",
      "IPython 7.1.1\n"
     ]
    }
   ],
   "source": [
    "# NBVAL_IGNORE_OUTPUT\n",
    "%load_ext watermark\n",
    "#import qutip\n",
    "import numpy as np\n",
    "import scipy\n",
    "import matplotlib\n",
    "import matplotlib.pylab as plt\n",
    "import krotov\n",
    "import qutip\n",
    "from qutip import Qobj\n",
    "%watermark -v --iversions"
   ]
  },
  {
   "cell_type": "markdown",
   "metadata": {},
   "source": [
    "$\\newcommand{tr}[0]{\\operatorname{tr}}\n",
    "\\newcommand{diag}[0]{\\operatorname{diag}}\n",
    "\\newcommand{abs}[0]{\\operatorname{abs}}\n",
    "\\newcommand{pop}[0]{\\operatorname{pop}}\n",
    "\\newcommand{aux}[0]{\\text{aux}}\n",
    "\\newcommand{opt}[0]{\\text{opt}}\n",
    "\\newcommand{tgt}[0]{\\text{tgt}}\n",
    "\\newcommand{init}[0]{\\text{init}}\n",
    "\\newcommand{lab}[0]{\\text{lab}}\n",
    "\\newcommand{rwa}[0]{\\text{rwa}}\n",
    "\\newcommand{bra}[1]{\\langle#1\\vert}\n",
    "\\newcommand{ket}[1]{\\vert#1\\rangle}\n",
    "\\newcommand{Bra}[1]{\\left\\langle#1\\right\\vert}\n",
    "\\newcommand{Ket}[1]{\\left\\vert#1\\right\\rangle}\n",
    "\\newcommand{Braket}[2]{\\left\\langle #1\\vphantom{#2} \\mid #2\\vphantom{#1}\\right\\rangle}\n",
    "\\newcommand{Ketbra}[2]{\\left\\vert#1\\vphantom{#2} \\right\\rangle \\hspace{-0.2em} \\left\\langle #2\\vphantom{#1} \\right\\vert}\n",
    "\\newcommand{op}[1]{\\hat{#1}}\n",
    "\\newcommand{Op}[1]{\\hat{#1}}\n",
    "\\newcommand{dd}[0]{\\,\\text{d}}\n",
    "\\newcommand{Liouville}[0]{\\mathcal{L}}\n",
    "\\newcommand{DynMap}[0]{\\mathcal{E}}\n",
    "\\newcommand{identity}[0]{\\mathbf{1}}\n",
    "\\newcommand{Norm}[1]{\\lVert#1\\rVert}\n",
    "\\newcommand{Abs}[1]{\\left\\vert#1\\right\\vert}\n",
    "\\newcommand{avg}[1]{\\langle#1\\rangle}\n",
    "\\newcommand{Avg}[1]{\\left\\langle#1\\right\\rangle}\n",
    "\\newcommand{AbsSq}[1]{\\left\\vert#1\\right\\vert^2}\n",
    "\\newcommand{Re}[0]{\\operatorname{Re}}\n",
    "\\newcommand{Im}[0]{\\operatorname{Im}}\n",
    "\\newcommand{toP}[0]{\\omega_{12}}\n",
    "\\newcommand{toS}[0]{\\omega_{23}}\n",
    "\\newcommand{oft}[0]{\\left(t\\right)}\n",
    "$"
   ]
  },
  {
   "cell_type": "markdown",
   "metadata": {},
   "source": [
    "The purpose of this example is to illustrate and test the use of complex control fields.\n",
    "Essentially, this is accomplished by rewriting the Hamiltonian as the sum of two independent controls (real and imaginary parts)."
   ]
  },
  {
   "cell_type": "markdown",
   "metadata": {},
   "source": [
    "## Define the Hamiltonian\n",
    "\n",
    "The Hamiltonian, guess field and states for a lambda system are defined below.\n",
    "\n",
    "The system consists of three levels $\\Ket{1}$, $\\Ket{2}$ and $\\Ket{3}$ with energy levels $E_{1}, E_{2}$ and $E_{3}$ which interact with a pair of pulses,\n",
    "with time-dependent frequencies of $\\omega_{P}=\\omega_{P}\\oft$ (pump laser) and \n",
    "$\\omega_{S} = \\omega_{S}\\oft$ (stokes laser) respectively.\n",
    "The pulses each have time-dependent envelopes $\\varepsilon_{P}\\oft$ and $\\varepsilon_{S}\\oft$.\n",
    "Furthermore, it is assumed that the frequencies are tuned\n",
    "such that $\\omega_{P}=\\omega_{P}\\oft$ selectively addresses\n",
    "the $\\Ket{1} \\leftrightarrow \\Ket{2}$ and \n",
    "$\\omega_{S}=\\omega_{S}\\oft$ addresses the $\\Ket{2} \\leftrightarrow \\Ket{3}$ transition.\n",
    "\n",
    "We transform into the interaction picture using the operator \n",
    "\\begin{equation*}\n",
    "    \\op{U}_{0} = \\Ketbra{1}{1} e^{-i\\left(E_{2} - \\toP\\right)t} + \\Ketbra{2}{2} e^{-iE_{2}t} + \\Ketbra{3}{3} e^{-i\\left(E_{2}-\\toS\\right)t}\\,\\,,\n",
    "\\end{equation*}\n",
    "where $\\toP$ and $\\toS$, the splittings between the first and second and between the second and third energy levels, are close to the central frequencies of $\\omega_{S}\\oft$\n",
    "and $\\omega_{P}\\oft$.\n",
    "In the rotating wave approximation, the fast rotating terms\n",
    "$e^{\\pm i\\left(\\toP + \\omega_{P}\\oft \\right)t}$ and \n",
    "$e^{\\pm i\\left(\\toS + \\omega_{S}\\oft \\right)t}$ can be neglegted.\n",
    " \n",
    "Consequently, \n",
    "\\begin{equation*}\n",
    "    \\op{H}_{0} = -2(\\Delta_{P} \\Ketbra{1}{1}  +\\Delta_{S} \\Ketbra{3}{3})\n",
    "\\end{equation*}\n",
    "describes the drift Hamiltonian of a system with the respective detunings \n",
    "$\\Delta_{P}=E_{1} + \\toP - E_{2}$ and \n",
    "$\\Delta_{S} = E_{3} + \\toS -E_{2}$.\n",
    "\n",
    "The control Hamiltonian is given by \n",
    "\\begin{equation*}\n",
    "    \\op{H}_{1}\\oft = \\op{H}_{1,P}\\oft + \\op{H}_{1,S}\\oft = \\Omega_{P}\\oft \\Ketbra{1}{2} + \\Omega_{S}\\oft\\Ketbra{2}{3} + \\text{h.c.}\\,\\,,\n",
    "\\end{equation*} \n",
    "where $\\Omega_{P} = \\Omega_{P}\\oft = \\frac{\\mu_{21} \\varepsilon_{P}\\oft}{2} e^{-i\\Phi_{S}\\oft t}$ and\n",
    "$\\Omega_{S} = \\Omega_{S}\\oft = \\frac{\\mu_{21} \\varepsilon_{S}\\oft}{2} e^{-i\\Phi_{P}\\oft t}$\n",
    "with the phases $\\Phi_{S}\\oft = \\toP - \\omega_{P}\\oft$ and $\\Phi_{S}\\oft = \\toS - \\omega_{S}\\oft$\n",
    "and $\\mu_{ij}$ the $ij^{\\text{th}}$ dipole-transition moment.\n",
    "\n",
    "In order to optimize, we rewrite $\\Omega_{P}\\oft = \\Omega_{P}^{\\Re}\\oft + i\\Omega_{P}^{\\Im}\\oft$\n",
    "and $\\Omega_{S}\\oft = \\Omega_{S}^{\\Re}\\oft + i\\Omega_{S}^{\\Im}\\oft$, such that optimization of the pulses involves only real functions, whilst the Hamiltonian matrix stores the complexity.\n"
   ]
  },
  {
   "cell_type": "code",
   "execution_count": 2,
   "metadata": {},
   "outputs": [],
   "source": [
    "def ham_and_states():\n",
    "    \"\"\"Lambda-system Hamiltonian    \n",
    "    \"\"\"\n",
    "    E1 = 0.\n",
    "    E2 = 5.\n",
    "    E3 = 10.\n",
    "    omega_P = 1.\n",
    "    omega_S = 1.\n",
    "    H0 = -2. * Qobj([[E1+omega_P-E2, 0., 0.], \\\n",
    "                     [0., 0., 0.], \\\n",
    "                     [0., 0., E3+omega_S-E2]])\n",
    "    \n",
    "    H1P_re = Qobj([[0.,1.,0.],[1.,0.,0.],[0.,0.,0.]])    \n",
    "    H1P_im = Qobj([[0.,1.j,0.],[-1.j,0.,0.],[0.,0.,0.]])\n",
    "    omegaP_re = lambda t, args: omega_P\n",
    "    omegaP_im = lambda t, args: omega_P\n",
    "    \n",
    "    H1S_re = Qobj([[0.,0.,0.],[0.,0.,1.],[0.,1.,0.]])\n",
    "    H1S_im = Qobj([[0.,0.,0.],[0.,0.,1.j],[0.,-1.j,0.]])\n",
    "    omegaS_re = lambda t, args: omega_S    \n",
    "    omegaS_im = lambda t, args: omega_S\n",
    "    \n",
    "    psi0 = qutip.Qobj(np.array([1.,0.,0.]))\n",
    "    psi1 = qutip.Qobj(np.array([0.,0.,1.]))    \n",
    "    \n",
    "    return ([H0, \\\n",
    "            [H1P_re, omegaP_re], [H1P_im, omegaP_im], \\\n",
    "            [H1S_re, omegaS_re], [H1S_im, omegaS_im]], \\\n",
    "            psi0, psi1)\n",
    "\n",
    "H, psi0, psi1 = ham_and_states()"
   ]
  },
  {
   "cell_type": "markdown",
   "metadata": {},
   "source": [
    "We introduce projectors for each of the three energy levels\n",
    "$\\op{P}_{i} = \\Ketbra{i}{i}$"
   ]
  },
  {
   "cell_type": "code",
   "execution_count": 3,
   "metadata": {},
   "outputs": [],
   "source": [
    "proj1 = Qobj([[1.,0.,0.],[0.,0.,0.],[0.,0.,0.]])\n",
    "proj2 = Qobj([[0.,0.,0.],[0.,1.,0.],[0.,0.,0.]])\n",
    "proj3 = Qobj([[0.,0.,0.],[0.,0.,0.],[0.,0.,1.]])"
   ]
  },
  {
   "cell_type": "markdown",
   "metadata": {},
   "source": [
    "## Define the optimisation target\n",
    "\n",
    "In the following we consider dynamics acting over a duration of $\\Delta_{t} = 5$, beginning at\n",
    "$t_{0} = 0$ and ending at $t_{1} = \\Delta_{t}$. \n",
    "The time grid is divided into $n_{t} = 500$ equidistant time steps."
   ]
  },
  {
   "cell_type": "code",
   "execution_count": 4,
   "metadata": {},
   "outputs": [],
   "source": [
    "tlist = np.linspace(0.,5.,500)"
   ]
  },
  {
   "cell_type": "markdown",
   "metadata": {},
   "source": [
    "Since the objective of this example is a state to state transfer from the initial state\n",
    "$\\Ket{\\Psi_{\\init}} = \\Ket{1}$ into the final state $\\Ket{\\Psi_{\\tgt}} = \\Ket{3}$ at the\n",
    "final time $t_{1}$, the optimisation objective is set as"
   ]
  },
  {
   "cell_type": "code",
   "execution_count": null,
   "metadata": {},
   "outputs": [],
   "source": [
    "objectives = [ krotov.Objective(initial_state=psi0, target_state=psi1, H=H) ]"
   ]
  },
  {
   "cell_type": "markdown",
   "metadata": {},
   "source": [
    "## Initial guess shapes\n",
    "\"stimulated Raman adiabatic passage\" (STIRAP) is a process in which population in $\\Ket{1}$ is transferred into\n",
    "$\\Ket{3}$ without having to pass through $\\Ket{2}$ (which could for instance be a rapidly decaying level).\n",
    "In order for this process to occur, a temporally finite Stokes pulse of sufficient amplitude driving the $\\Ket{2} \\leftrightarrow \\Ket{3}$ transition is applied first, whilst second pump pulse of similar intensity follows some time later such that the pulses still have a partial temporal overlap.\n",
    "\n",
    "In order to demonstrate the Krotov's optimization method however, we choose an initial guess consisting of two low intensity and real Blackman pulses which are temporally disjoint.\n",
    "\n",
    "For the real components of the matrix elements, we supply our guess pulses shaped as Blackman window functions `S(t,offset)`, with an offset ensuring that the two pulses don't overlap.\n",
    "The imaginary components are coupled to pulses that are zero at all times."
   ]
  },
  {
   "cell_type": "code",
   "execution_count": null,
   "metadata": {},
   "outputs": [],
   "source": [
    "def S(t,offset):\n",
    "    \"\"\"Shape envelope function for the field update\"\"\"\n",
    "    return krotov.shapes.blackman(t,1.+offset,4.+offset)\n",
    "\n",
    "def shape_field_real(eps,offset):\n",
    "    \"\"\"Applies the total pulse shape to the real part of a guess pulse\"\"\"\n",
    "    field_shaped = lambda t, args: eps(t, args)*S(t,offset)\n",
    "    return field_shaped\n",
    "\n",
    "def shape_field_imag(eps,offset):\n",
    "    \"\"\"Initializes the imaginary parts of the guess pulses to zero\"\"\"\n",
    "    field_shaped = lambda t, args: eps(t, args)*0.\n",
    "    return field_shaped\n",
    "\n",
    "H[1][1] = shape_field_real(H[1][1],1.)\n",
    "H[2][1] = shape_field_imag(H[2][1],1.)\n",
    "H[3][1] = shape_field_real(H[3][1],-1.)\n",
    "H[4][1] = shape_field_imag(H[4][1],-1.)"
   ]
  },
  {
   "cell_type": "markdown",
   "metadata": {},
   "source": [
    "We choose an appropriate update factor $\\lambda_{a}$ for the problem at hand and make sure Krotov considers pulses which start and end with zero amplitude."
   ]
  },
  {
   "cell_type": "code",
   "execution_count": null,
   "metadata": {},
   "outputs": [],
   "source": [
    "def update_shape(t):\n",
    "    \"\"\"Scales the Krotov methods update of the pulse value at the time t\"\"\"\n",
    "    return krotov.shapes.flattop(t,0.,5.,0.3,func='sinsq')"
   ]
  },
  {
   "cell_type": "code",
   "execution_count": null,
   "metadata": {},
   "outputs": [],
   "source": [
    "opt_lambda = 2.\n",
    "pulse_options = \\\n",
    "{ \n",
    "    H[1][1]: krotov.PulseOptions(lambda_a=opt_lambda, shape=update_shape),\n",
    "    H[2][1]: krotov.PulseOptions(lambda_a=opt_lambda, shape=update_shape),\n",
    "    H[3][1]: krotov.PulseOptions(lambda_a=opt_lambda, shape=update_shape),\n",
    "    H[4][1]: krotov.PulseOptions(lambda_a=opt_lambda, shape=update_shape)\n",
    "}"
   ]
  },
  {
   "cell_type": "markdown",
   "metadata": {},
   "source": [
    "We keep track of the fidelity during optimization by printing it after every iteration:"
   ]
  },
  {
   "cell_type": "code",
   "execution_count": null,
   "metadata": {},
   "outputs": [],
   "source": [
    "def print_fidelity(**args):\n",
    "    F_re = np.average(np.array(args['tau_vals']).real)\n",
    "    print(\"   F = %f\" % F_re)\n",
    "    return F_re"
   ]
  },
  {
   "cell_type": "markdown",
   "metadata": {},
   "source": [
    "## Simulate dynamics of the guess field"
   ]
  },
  {
   "cell_type": "code",
   "execution_count": null,
   "metadata": {},
   "outputs": [],
   "source": [
    "def plot_pulse(pulse, tlist):\n",
    "    fig, ax = plt.subplots()\n",
    "    if callable(pulse):\n",
    "        pulse = np.array([pulse(t, args=None) for t in tlist])\n",
    "    ax.plot(tlist, pulse)\n",
    "    ax.set_xlabel('time')\n",
    "    ax.set_ylabel('pulse amplitude')\n",
    "    plt.show(fig)"
   ]
  },
  {
   "cell_type": "code",
   "execution_count": null,
   "metadata": {},
   "outputs": [],
   "source": [
    "plot_pulse(H[1][1], tlist)\n",
    "plot_pulse(H[2][1], tlist)\n",
    "plot_pulse(H[3][1], tlist)\n",
    "plot_pulse(H[4][1], tlist)"
   ]
  },
  {
   "cell_type": "markdown",
   "metadata": {},
   "source": [
    "After assuring ourselves that our guess pulses appear as expected, we propagte the system using our guess. Since the pulses are temporally disjoint, we expect the first pulse to have no effect, whilst the second merely transfers population out of $\\Ket{1}$ into $\\Ket{2}$ and back again."
   ]
  },
  {
   "cell_type": "code",
   "execution_count": null,
   "metadata": {},
   "outputs": [],
   "source": [
    "guess_dynamics = objectives[0].mesolve(tlist, e_ops=[proj1,proj2,proj3])"
   ]
  },
  {
   "cell_type": "code",
   "execution_count": null,
   "metadata": {},
   "outputs": [],
   "source": [
    "def plot_population(result):\n",
    "    fig, ax = plt.subplots()\n",
    "    ax.plot(result.times, result.expect[0], label='1')\n",
    "    ax.plot(result.times, result.expect[1], label='2')\n",
    "    ax.plot(result.times, result.expect[2], label='3')\n",
    "    ax.legend()\n",
    "    ax.set_xlabel('time')\n",
    "    ax.set_ylabel('population')\n",
    "    plt.show(fig)"
   ]
  },
  {
   "cell_type": "code",
   "execution_count": null,
   "metadata": {},
   "outputs": [],
   "source": [
    "plot_population(guess_dynamics)"
   ]
  },
  {
   "cell_type": "markdown",
   "metadata": {},
   "source": [
    "## Optimize\n",
    "We now supply Krotov with all the information it needs to optimize, consisting of the `objectives` (maximize population in $\\Ket{3}$ at $t_{1}$), `pulse_options` (the initial shapes of our pulses and how they may be changed) as well as the `propagator` to use, optimization functional (`chi_constructor`), `info_hook` (processing occuring inbetween iterations of optimization) and the number of iterations to perform, `iter_stop`."
   ]
  },
  {
   "cell_type": "code",
   "execution_count": null,
   "metadata": {},
   "outputs": [],
   "source": [
    "oct_result = krotov.optimize_pulses(\n",
    "    objectives, pulse_options, tlist,\n",
    "    propagator=krotov.propagators.expm,\n",
    "    chi_constructor=krotov.functionals.chis_re,\n",
    "    info_hook=krotov.info_hooks.chain(\n",
    "        krotov.info_hooks.print_debug_information,\n",
    "        print_fidelity),\n",
    "    iter_stop=20\n",
    ")"
   ]
  },
  {
   "cell_type": "markdown",
   "metadata": {},
   "source": [
    "We appear to have found pulse-shapes that fulfill our objective, but what do they look like?"
   ]
  },
  {
   "cell_type": "code",
   "execution_count": null,
   "metadata": {},
   "outputs": [],
   "source": [
    "def plot_pulse_amplitude_and_phase(pulse_real, pulse_imaginary,tlist):\n",
    "    ax1 = plt.subplot(211)\n",
    "    ax2 = plt.subplot(212)\n",
    "    amplitudes = [np.sqrt(x*x + y*y) for x,y in zip(pulse_real,pulse_imaginary)]\n",
    "    phases = [np.arctan2(y,x) for x,y in zip(pulse_real,pulse_imaginary)]\n",
    "    ax1.plot(tlist,amplitudes)\n",
    "    ax1.set_xlabel('time')\n",
    "    ax1.set_ylabel('pulse amplitude')\n",
    "    ax2.plot(tlist,phases)\n",
    "    ax2.set_xlabel('time')\n",
    "    ax2.set_ylabel('pulse phase')    \n",
    "    plt.show()\n",
    "    \n",
    "print(\"pump pulse amplitude and phase:\")\n",
    "plot_pulse_amplitude_and_phase(oct_result.optimized_controls[0], oct_result.optimized_controls[1],tlist)\n",
    "print(\"Stokes pulse amplitude and phase:\")\n",
    "plot_pulse_amplitude_and_phase(oct_result.optimized_controls[2], oct_result.optimized_controls[3],tlist)"
   ]
  },
  {
   "cell_type": "markdown",
   "metadata": {},
   "source": [
    "And how does the population end up in $\\Ket{3}$?"
   ]
  },
  {
   "cell_type": "code",
   "execution_count": null,
   "metadata": {},
   "outputs": [],
   "source": [
    "opt_dynamics = oct_result.optimized_objectives[0].mesolve(tlist, e_ops=[proj1,proj2,proj3])"
   ]
  },
  {
   "cell_type": "code",
   "execution_count": null,
   "metadata": {},
   "outputs": [],
   "source": [
    "plot_population(opt_dynamics)"
   ]
  }
 ],
 "metadata": {
  "kernelspec": {
   "display_name": "Python 3",
   "language": "python",
   "name": "python3"
  },
  "language_info": {
   "codemirror_mode": {
    "name": "ipython",
    "version": 3
   },
   "file_extension": ".py",
   "mimetype": "text/x-python",
   "name": "python",
   "nbconvert_exporter": "python",
   "pygments_lexer": "ipython3",
   "version": "3.6.2"
  }
 },
 "nbformat": 4,
 "nbformat_minor": 2
}
