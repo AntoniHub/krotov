{
 "cells": [
  {
   "cell_type": "markdown",
   "metadata": {},
   "source": [
    "# Optimization of Dissipative Qubit Reset"
   ]
  },
  {
   "cell_type": "code",
   "execution_count": 1,
   "metadata": {
    "attributes": {
     "classes": [],
     "id": "",
     "n": "1"
    }
   },
   "outputs": [
    {
     "name": "stdout",
     "output_type": "stream",
     "text": [
      "matplotlib       3.0.2\n",
      "scipy            1.2.0\n",
      "numpy            1.15.4\n",
      "krotov           0.1.0.post1+dev\n",
      "qutip            4.3.1\n",
      "matplotlib.pylab 1.15.4\n",
      "CPython 3.6.8\n",
      "IPython 7.2.0\n"
     ]
    }
   ],
   "source": [
    "# NBVAL_IGNORE_OUTPUT\n",
    "%load_ext watermark\n",
    "import qutip\n",
    "import numpy as np\n",
    "import scipy\n",
    "import matplotlib\n",
    "import matplotlib.pylab as plt\n",
    "import krotov\n",
    "%watermark -v --iversions"
   ]
  },
  {
   "cell_type": "markdown",
   "metadata": {},
   "source": [
    "$\\newcommand{tr}[0]{\\operatorname{tr}}\n",
    "\\newcommand{diag}[0]{\\operatorname{diag}}\n",
    "\\newcommand{abs}[0]{\\operatorname{abs}}\n",
    "\\newcommand{pop}[0]{\\operatorname{pop}}\n",
    "\\newcommand{aux}[0]{\\text{aux}}\n",
    "\\newcommand{int}[0]{\\text{int}}\n",
    "\\newcommand{opt}[0]{\\text{opt}}\n",
    "\\newcommand{tgt}[0]{\\text{tgt}}\n",
    "\\newcommand{init}[0]{\\text{init}}\n",
    "\\newcommand{lab}[0]{\\text{lab}}\n",
    "\\newcommand{rwa}[0]{\\text{rwa}}\n",
    "\\newcommand{bra}[1]{\\langle#1\\vert}\n",
    "\\newcommand{ket}[1]{\\vert#1\\rangle}\n",
    "\\newcommand{Bra}[1]{\\left\\langle#1\\right\\vert}\n",
    "\\newcommand{Ket}[1]{\\left\\vert#1\\right\\rangle}\n",
    "\\newcommand{Braket}[2]{\\left\\langle #1\\vphantom{#2} \\mid\n",
    "#2\\vphantom{#1}\\right\\rangle}\n",
    "\\newcommand{op}[1]{\\hat{#1}}\n",
    "\\newcommand{Op}[1]{\\hat{#1}}\n",
    "\\newcommand{dd}[0]{\\,\\text{d}}\n",
    "\\newcommand{Liouville}[0]{\\mathcal{L}}\n",
    "\\newcommand{DynMap}[0]{\\mathcal{E}}\n",
    "\\newcommand{identity}[0]{\\mathbf{1}}\n",
    "\\newcommand{Norm}[1]{\\lVert#1\\rVert}\n",
    "\\newcommand{Abs}[1]{\\left\\vert#1\\right\\vert}\n",
    "\\newcommand{avg}[1]{\\langle#1\\rangle}\n",
    "\\newcommand{Avg}[1]{\\left\\langle#1\\right\\rangle}\n",
    "\\newcommand{AbsSq}[1]{\\left\\vert#1\\right\\vert^2}\n",
    "\\newcommand{Re}[0]{\\operatorname{Re}}\n",
    "\\newcommand{Im}[0]{\\operatorname{Im}}$\n",
    "This example provides an example for an optimization in an open quantum system,\n",
    "where the dynamics is governed by the Liouville-von Neumann equation. Hence,\n",
    "states are represented by density matrices $\\op{\\rho}(t)$ and the time-evolution\n",
    "operator is given by a general dynamical map $\\DynMap$.\n",
    "\n",
    "## Define parameters"
   ]
  },
  {
   "cell_type": "code",
   "execution_count": 2,
   "metadata": {
    "attributes": {
     "classes": [],
     "id": "",
     "n": "2"
    }
   },
   "outputs": [],
   "source": [
    "omega_q = 1.0  # qubit level splitting\n",
    "omega_T = 3.0  # TLS level splitting\n",
    "J       = 0.1  # qubit-TLS coupling\n",
    "kappa   = 0.04 # TLS decay rate\n",
    "beta    = 1.0  # inverse bath temperature\n",
    "T       = 25.0 # final time\n",
    "nt      = 2500 # number of time steps"
   ]
  },
  {
   "cell_type": "markdown",
   "metadata": {},
   "source": [
    "## Define the Liouvillian\n",
    "\n",
    "The system is given by a qubit with Hamiltonian\n",
    "$\\op{H}_{q}(t) = - \\omega_{q} \\op{\\sigma}_{z} - \\epsilon(t) \\op{\\sigma}_{z}$,\n",
    "where $\\omega_{q}$ is a static energy level splitting which can time-dependently\n",
    "be modified by $\\epsilon(t)$. This qubit couples strongly to another two-level\n",
    "system (TLS) with Hamiltonian $\\op{H}_{t} = - \\omega_{t} \\op{\\sigma}_{z}$ with\n",
    "static energy level splitting $\\omega_{t}$. The coupling strength between both\n",
    "systems is given by $J$ with the interaction Hamiltonian given by $\\op{H}_{\\int}\n",
    "= J \\op{\\sigma}_{x} \\otimes \\op{\\sigma}_{x}$. The Hamiltonian for the system of\n",
    "qubit and TLS is\n",
    "\n",
    "\\begin{equation}\n",
    "  \\op{H}(t) = \\op{H}_{q}(t) \\otimes\n",
    "\\identity_{t} + \\identity_{q} \\otimes \\op{H}_{t} + \\op{H}_{\\int}.\n",
    "\\end{equation}\n",
    "In addition, the TLS is embedded in a heat bath with inverse temperature\n",
    "$\\beta$. The TLS couples to the bath with rate $\\kappa$. In order to simulate\n",
    "the dissipation arising from this coupling, we consider the two Lindblad\n",
    "operators $\\op{L}_{1} =\n",
    "\\sqrt{\\kappa (N_{th}+1)} \\identity_{q} \\otimes\n",
    "\\ket{0}\\bra{1}$ and $\\op{L}_{2} =\n",
    "\\sqrt{\\kappa N_{th}} \\identity_{q} \\otimes\n",
    "\\ket{1}\\bra{0}$ with $N_{th} =\n",
    "1/(e^{\\beta \\omega_{t}} - 1)$. The dynamics of\n",
    "the qubit-TLS system state\n",
    "$\\op{\\rho}(t)$ is then governed by the Liouville-von\n",
    "Neumann equation\n",
    "\\begin{equation}\n",
    "  \\frac{\\partial}{\\partial t} \\op{\\rho}(t) =\n",
    "\\Liouville(t) \\op{\\rho}(t)\n",
    "=\n",
    "  - i \\left[\\op{H}(t), \\op{\\rho}(t)\\right]\n",
    "  +\n",
    "\\sum_{k=1,2} \\left(\n",
    "\\op{L}_{k} \\op{\\rho}(t) \\op{L}_{k}^\\dagger\n",
    "  - \\frac{1}{2}\n",
    "\\op{L}_{k}^\\dagger\n",
    "\\op{L}_{k} \\op{\\rho}(t)\n",
    "  - \\frac{1}{2} \\op{\\rho}(t)\n",
    "\\op{L}_{k}^\\dagger\n",
    "\\op{L}_{k}\n",
    "  \\right).\n",
    "\\end{equation}"
   ]
  },
  {
   "cell_type": "code",
   "execution_count": 3,
   "metadata": {
    "attributes": {
     "classes": [],
     "id": "",
     "n": "3"
    }
   },
   "outputs": [],
   "source": [
    "def liou_and_states(omega_q, omega_T, J, kappa, beta):\n",
    "    \"\"\"Liouvillian for the coupled system of qubit and TLS\"\"\"\n",
    "\n",
    "    # drift qubit Hamiltonian\n",
    "    H0_q = 0.5*omega_q*np.diag([-1,1])\n",
    "    # drive qubit Hamiltonian\n",
    "    H1_q = 0.5*np.diag([-1,1])\n",
    "\n",
    "    # drift TLS Hamiltonian\n",
    "    H0_T = 0.5*omega_T*np.diag([-1,1])\n",
    "\n",
    "    # Lift Hamiltonians to joint system operators\n",
    "    H0 = np.kron(H0_q, np.identity(2)) + np.kron(np.identity(2), H0_T)\n",
    "    H1 = np.kron(H1_q, np.identity(2))\n",
    "\n",
    "    # qubit-TLS interaction\n",
    "    H_int = J*np.fliplr(np.diag([0,1,1,0]))\n",
    "\n",
    "    # convert Hamiltonians to QuTiP objects\n",
    "    H0 = qutip.Qobj(H0+H_int)\n",
    "    H1 = qutip.Qobj(H1)\n",
    "\n",
    "    # Define Lindblad operators\n",
    "    N = 1.0/(np.exp(beta*omega_T)-1.0)\n",
    "    # Cooling on TLS\n",
    "    L1 = np.sqrt(kappa * (N+1))\\\n",
    "        * np.kron(np.identity(2), np.array([[0,1],[0,0]]))\n",
    "    # Heating on TLS\n",
    "    L2 = np.sqrt(kappa * N)\\\n",
    "        * np.kron(np.identity(2), np.array([[0,0],[1,0]]))\n",
    "\n",
    "    # convert Lindblad operators to QuTiP objects\n",
    "    L1 = qutip.Qobj(L1)\n",
    "    L2 = qutip.Qobj(L2)\n",
    "\n",
    "    # generate the Liouvillian\n",
    "    L0 = qutip.liouvillian(H=H0, c_ops=[L1,L2])\n",
    "    L1 = qutip.liouvillian(H=H1)\n",
    "\n",
    "    # define qubit-TLS basis in Hilbert space\n",
    "    psi_00 = qutip.Qobj(np.kron(np.array([1,0]), np.array([1,0])))\n",
    "    psi_01 = qutip.Qobj(np.kron(np.array([1,0]), np.array([0,1])))\n",
    "    psi_10 = qutip.Qobj(np.kron(np.array([0,1]), np.array([1,0])))\n",
    "    psi_11 = qutip.Qobj(np.kron(np.array([0,1]), np.array([0,1])))\n",
    "\n",
    "    # take as guess field a filed putting qubit and TLS into resonance\n",
    "    eps0 = lambda t, args: omega_T - omega_q\n",
    "\n",
    "    return ([L0, [L1, eps0]], psi_00, psi_01, psi_10, psi_11)\n",
    "\n",
    "L, psi_00, psi_01, psi_10, psi_11= liou_and_states(\n",
    "    omega_q=omega_q, omega_T=omega_T, J=J, kappa=kappa, beta=beta)"
   ]
  },
  {
   "cell_type": "code",
   "execution_count": 4,
   "metadata": {
    "attributes": {
     "classes": [],
     "id": "",
     "n": "4"
    }
   },
   "outputs": [],
   "source": [
    "proj_00 = psi_00 * psi_00.dag()\n",
    "proj_01 = psi_01 * psi_01.dag()\n",
    "proj_10 = psi_10 * psi_10.dag()\n",
    "proj_11 = psi_11 * psi_11.dag()"
   ]
  },
  {
   "cell_type": "markdown",
   "metadata": {},
   "source": [
    "## Define the optimization target\n",
    "\n",
    "The time grid is given by `nt` equidistant\n",
    "time steps between $t=0$ and $t=T$."
   ]
  },
  {
   "cell_type": "code",
   "execution_count": 5,
   "metadata": {
    "attributes": {
     "classes": [],
     "id": "",
     "n": "5"
    }
   },
   "outputs": [],
   "source": [
    "tlist = np.linspace(0, T, nt)"
   ]
  },
  {
   "cell_type": "markdown",
   "metadata": {},
   "source": [
    "The initial state of qubit and TLS are assumed to be in thermal equilibrium with\n",
    "the heat bath (although only the TLS is directly interacting with the bath).\n",
    "Both states are given by\n",
    "\n",
    "\\begin{equation}\n",
    "  \\op{\\rho}_{\\alpha}^{th} =\n",
    "\\frac{e^{x_{\\alpha}} \\ket{0}\\bra{0} + e^{-x_{\\alpha}} \\ket{1}\\bra{1}}{2\n",
    "\\cosh(x_{\\alpha})},\n",
    "  \\qquad\n",
    "  x_{\\alpha} = \\frac{\\omega_{\\alpha} \\beta}{2},\n",
    "\\end{equation}\n",
    "\n",
    "with $\\alpha = q,t$. The initial state of the bipartite system\n",
    "of qubit and TLS is given by the thermal state $\\op{\\rho}_{th} =\n",
    "\\op{\\rho}_{q}^{th} \\otimes \\op{\\rho}_{t}^{th}$."
   ]
  },
  {
   "cell_type": "code",
   "execution_count": 6,
   "metadata": {
    "attributes": {
     "classes": [],
     "id": "",
     "n": "6"
    }
   },
   "outputs": [],
   "source": [
    "x_q = omega_q*beta/2.0\n",
    "rho_q_th = np.diag([np.exp(x_q),np.exp(-x_q)])/(2*np.cosh(x_q))\n",
    "\n",
    "x_T = omega_T*beta/2.0\n",
    "rho_T_th = np.diag([np.exp(x_T),np.exp(-x_T)])/(2*np.cosh(x_T))\n",
    "\n",
    "rho_th = qutip.Qobj(np.kron(rho_q_th, rho_T_th))"
   ]
  },
  {
   "cell_type": "markdown",
   "metadata": {},
   "source": [
    "Since we are in the end only interested in the state of the qubit, we define\n",
    "`trace_TLS`, which calculates the partial trace over the TLS degrees of freedom.\n",
    "Hence, by passing the state $\\op{\\rho}$ of the bipartite system of qubit and\n",
    "TLS, it returns the reduced state of the qubit, $\\op{\\rho}_{q} =\n",
    "\\tr_{t}\\{\\op{\\rho}\\}$."
   ]
  },
  {
   "cell_type": "code",
   "execution_count": 7,
   "metadata": {
    "attributes": {
     "classes": [],
     "id": "",
     "n": "7"
    }
   },
   "outputs": [],
   "source": [
    "def trace_TLS(rho):\n",
    "    \"\"\"Partial trace over the TLS degrees of freedom\"\"\"\n",
    "    rho_q = np.zeros(shape=(2,2), dtype=np.complex_)\n",
    "    rho_q[0,0] = rho[0,0] + rho[1,1]\n",
    "    rho_q[0,1] = rho[0,2] + rho[1,3]\n",
    "    rho_q[1,0] = rho[2,0] + rho[3,1]\n",
    "    rho_q[1,1] = rho[2,2] + rho[3,3]\n",
    "    return qutip.Qobj(rho_q)"
   ]
  },
  {
   "cell_type": "markdown",
   "metadata": {},
   "source": [
    "As target state we take (temporarily) the ground state of the bipartite system,\n",
    "i.e., $\\op{\\rho}_{\\tgt} = \\ket{00}\\bra{00}$. Note that in the end we will only\n",
    "optimize the reduced state of the qubit."
   ]
  },
  {
   "cell_type": "code",
   "execution_count": 8,
   "metadata": {
    "attributes": {
     "classes": [],
     "id": "",
     "n": "8"
    }
   },
   "outputs": [],
   "source": [
    "rho_q_trg = np.diag([1,0])\n",
    "rho_T_trg = np.diag([1,0])\n",
    "rho_trg = np.kron(rho_q_trg, rho_T_trg)\n",
    "rho_trg = qutip.Qobj(rho_trg)"
   ]
  },
  {
   "cell_type": "markdown",
   "metadata": {},
   "source": [
    "Next, the list of `objectives` is defined, which contains the initial and target\n",
    "state and the Liouvillian $\\Liouville(t)$ determining the evolution of the\n",
    "system."
   ]
  },
  {
   "cell_type": "code",
   "execution_count": 9,
   "metadata": {
    "attributes": {
     "classes": [],
     "id": "",
     "n": "9"
    }
   },
   "outputs": [],
   "source": [
    "objectives = [\n",
    "    krotov.Objective(initial_state=rho_th, target=rho_trg, H=L)\n",
    "]"
   ]
  },
  {
   "cell_type": "markdown",
   "metadata": {},
   "source": [
    "In the following, we define the shape function $S(t)$, which we use in order to\n",
    "ensure a smooth switch on and off in the beginning and end. Note that at times\n",
    "$t$ where $S(t)$ vanishes, the updates of the field is suppressed. A priori,\n",
    "this has\n",
    "nothing to do with the shape of the field on input."
   ]
  },
  {
   "cell_type": "code",
   "execution_count": 10,
   "metadata": {
    "attributes": {
     "classes": [],
     "id": "",
     "n": "10"
    }
   },
   "outputs": [],
   "source": [
    "def S(t):\n",
    "    \"\"\"Shape function for the field update\"\"\"\n",
    "    return krotov.shapes.flattop(\n",
    "        t, t_start=0, t_stop=T,\n",
    "        t_rise=0.05*T, t_fall=0.05*T,\n",
    "        func='sinsq')"
   ]
  },
  {
   "cell_type": "markdown",
   "metadata": {},
   "source": [
    "However, we also want to start with a shaped field on input. Hence, we use the\n",
    "previously defined shape function $S(t)$ to shape $\\epsilon_{0}(t)$."
   ]
  },
  {
   "cell_type": "code",
   "execution_count": 11,
   "metadata": {
    "attributes": {
     "classes": [],
     "id": "",
     "n": "11"
    }
   },
   "outputs": [],
   "source": [
    "def shape_field(eps0):\n",
    "    \"\"\"Applies the shape function S(t) to the guess field\"\"\"\n",
    "    eps0_shaped = lambda t, args: eps0(t, args)*S(t)\n",
    "    return eps0_shaped\n",
    "\n",
    "L[1][1] = shape_field(L[1][1])"
   ]
  },
  {
   "cell_type": "markdown",
   "metadata": {},
   "source": [
    "At last, before heading to the actual optimization below, we assign the shape\n",
    "function $S(t)$ to the OCT parameters of the control and choose `lambda_a`, a\n",
    "numerical\n",
    "parameter that controls the field update magnitude in each iteration."
   ]
  },
  {
   "cell_type": "code",
   "execution_count": 12,
   "metadata": {},
   "outputs": [],
   "source": [
    "pulse_options = {\n",
    "    L[1][1]: dict(lambda_a=0.01, shape=S)\n",
    "}"
   ]
  },
  {
   "cell_type": "markdown",
   "metadata": {},
   "source": [
    "## Simulate the dynamics of the guess field"
   ]
  },
  {
   "cell_type": "code",
   "execution_count": 13,
   "metadata": {
    "attributes": {
     "classes": [],
     "id": "",
     "n": "13"
    }
   },
   "outputs": [],
   "source": [
    "def plot_pulse(pulse, tlist):\n",
    "    fig, ax = plt.subplots()\n",
    "    if callable(pulse):\n",
    "        pulse = np.array([pulse(t, args=None) for t in tlist])\n",
    "    ax.plot(tlist, pulse)\n",
    "    ax.set_xlabel('time')\n",
    "    ax.set_ylabel('pulse amplitude')\n",
    "    plt.show(fig)"
   ]
  },
  {
   "cell_type": "markdown",
   "metadata": {},
   "source": [
    "The following plot shows the guess field $\\epsilon_{0}(t)$, which is, as chosen\n",
    "above, just a constant field that puts qubit and TLS into resonance (with a\n",
    "smooth switch-on and switch-off)"
   ]
  },
  {
   "cell_type": "code",
   "execution_count": 14,
   "metadata": {
    "attributes": {
     "classes": [],
     "id": "",
     "n": "14"
    }
   },
   "outputs": [
    {
     "data": {
      "image/png": "[encoded data removed]",
      "text/plain": [
       "<Figure size 432x288 with 1 Axes>"
      ]
     },
     "metadata": {
      "needs_background": "light"
     },
     "output_type": "display_data"
    }
   ],
   "source": [
    "plot_pulse(L[1][1], tlist)"
   ]
  },
  {
   "cell_type": "markdown",
   "metadata": {},
   "source": [
    "Before optimizing, we solve the equation of motion for the guess field\n",
    "$\\epsilon_{0}(t)$."
   ]
  },
  {
   "cell_type": "code",
   "execution_count": 15,
   "metadata": {
    "attributes": {
     "classes": [],
     "id": "",
     "n": "15"
    }
   },
   "outputs": [],
   "source": [
    "guess_dynamics = objectives[0].mesolve(\n",
    "    tlist, e_ops=[proj_00, proj_01, proj_10, proj_11])"
   ]
  },
  {
   "cell_type": "markdown",
   "metadata": {},
   "source": [
    "By inspecting the population dynamics of qubit and TLS ground state, we see that\n",
    "both are oscillating and especially the qubit's ground state population reaches\n",
    "a maximal value at intermediate times $t < T$. This maximum is indeed the\n",
    "maximum that is physically possible. However, we want to reach this maximum at\n",
    "final time $T$ (not before), so the guess field is not doing the right thing so\n",
    "far."
   ]
  },
  {
   "cell_type": "code",
   "execution_count": 16,
   "metadata": {
    "attributes": {
     "classes": [],
     "id": "",
     "n": "16"
    }
   },
   "outputs": [
    {
     "data": {
      "image/png": "[encoded data removed]",
      "text/plain": [
       "<Figure size 432x288 with 1 Axes>"
      ]
     },
     "metadata": {
      "needs_background": "light"
     },
     "output_type": "display_data"
    }
   ],
   "source": [
    "def plot_population(result):\n",
    "    fig, ax = plt.subplots()\n",
    "    ax.plot(result.times, np.array(result.expect[0])+np.array(result.expect[1]),\n",
    "            label='qubit 0')\n",
    "    ax.plot(result.times, np.array(result.expect[0])+np.array(result.expect[2]),\n",
    "            label='TLS 0')\n",
    "    ax.legend()\n",
    "    ax.set_xlabel('time')\n",
    "    ax.set_ylabel('population')\n",
    "    plt.show(fig)\n",
    "\n",
    "plot_population(guess_dynamics)"
   ]
  },
  {
   "cell_type": "markdown",
   "metadata": {},
   "source": [
    "## Optimize"
   ]
  },
  {
   "cell_type": "markdown",
   "metadata": {},
   "source": [
    "Our optimization target is the ground state $\\ket{\\Psi_{q}^{\\tgt}}\n",
    "= \\ket{0}$ of the qubit, irrespective of the state of the TLS. Thus, our\n",
    "optimization functional reads\n",
    "\n",
    "\\begin{equation}\n",
    "  F_{re} = 1 -\n",
    "\\Braket{\\Psi_{q}^{\\tgt}}{\\tr_{t}\\{\\op{\\rho}(T)\\} \\,|\\; \\Psi_{q}^{\\tgt}}\n",
    "\\end{equation}\n",
    "\n",
    "and we first define `print_qubit_error`, which prints out the\n",
    "above functional after each iteration."
   ]
  },
  {
   "cell_type": "code",
   "execution_count": 17,
   "metadata": {},
   "outputs": [],
   "source": [
    "def print_qubit_error(**args):\n",
    "    \"\"\"Utility function writing the qubit error to screen\"\"\"\n",
    "    taus = []\n",
    "    for state_T in args['fw_states_T']:\n",
    "        state_q_T = trace_TLS(state_T)\n",
    "        taus.append(state_q_T[0,0].real)\n",
    "    J_T_re = 1 - np.average(taus)\n",
    "    print(\"Iteration %d: \\tJ_T = %.2e\" % (args['iteration'], J_T_re))\n",
    "    return J_T_re"
   ]
  },
  {
   "cell_type": "markdown",
   "metadata": {},
   "source": [
    "In order to minimize the above functional, we need to provide the correct\n",
    "`chi_constructor` for the Krotov optimization, as it contains all necessary\n",
    "information. Given our bipartite system and choice of $F_{re}$, the\n",
    "$\\op{\\chi}(T)$ reads\n",
    "\n",
    "\\begin{equation}\n",
    "  \\op{\\chi}(T) =\n",
    "  \\sum_{k=0,1} a_{k}\n",
    "\\op{\\rho}_{q}^{\\tgt} \\otimes \\ket{k}\\bra{k}\n",
    "\\end{equation}\n",
    "\n",
    "with $\\{\\ket{k}\\}$ a\n",
    "basis for the TLS Hilbert space."
   ]
  },
  {
   "cell_type": "code",
   "execution_count": 18,
   "metadata": {
    "attributes": {
     "classes": [],
     "id": "",
     "n": "18"
    }
   },
   "outputs": [],
   "source": [
    "def TLS_onb_trg():\n",
    "    \"\"\"Returns the tensor product of qubit target state\n",
    "    and a basis for the TLS Hilbert space\"\"\"\n",
    "    rho1 = qutip.Qobj(np.kron(rho_q_trg, np.diag([1,0])))\n",
    "    rho2 = qutip.Qobj(np.kron(rho_q_trg, np.diag([0,1])))\n",
    "    return [rho1, rho2]\n",
    "\n",
    "TLS_onb = TLS_onb_trg()\n",
    "\n",
    "def chis_qubit(states_T, objectives, tau_vals):\n",
    "    \"\"\"Calculate chis for the chosen functional\"\"\"\n",
    "    chis = []\n",
    "    for state_i_T in states_T:\n",
    "        chis_i = np.zeros(shape=(4,4), dtype=np.complex_)\n",
    "        for state_k in TLS_onb:\n",
    "            a_i_k = krotov.optimize._overlap(state_i_T, state_k)\n",
    "            chis_i += a_i_k * state_k\n",
    "        chis.append(qutip.Qobj(chis_i))\n",
    "    return chis"
   ]
  },
  {
   "cell_type": "markdown",
   "metadata": {},
   "source": [
    "The following carries out the optimization."
   ]
  },
  {
   "cell_type": "code",
   "execution_count": 19,
   "metadata": {
    "attributes": {
     "classes": [],
     "id": "",
     "n": "19"
    }
   },
   "outputs": [
    {
     "name": "stdout",
     "output_type": "stream",
     "text": [
      "Iteration 0: \tJ_T = 1.11e-01\n",
      "Iteration 1: \tJ_T = 1.06e-01\n",
      "Iteration 2: \tJ_T = 6.71e-02\n",
      "Iteration 3: \tJ_T = 5.01e-02\n",
      "Iteration 4: \tJ_T = 4.92e-02\n",
      "Iteration 5: \tJ_T = 4.85e-02\n"
     ]
    }
   ],
   "source": [
    "oct_result = krotov.optimize_pulses(\n",
    "    objectives, pulse_options, tlist,\n",
    "    propagator=krotov.propagators.DensityMatrixODEPropagator(),\n",
    "    chi_constructor=chis_qubit,\n",
    "    info_hook=krotov.info_hooks.chain(\n",
    "        print_qubit_error),\n",
    "    check_convergence=krotov.convergence.check_monotonic_error,\n",
    "    iter_stop=5)"
   ]
  },
  {
   "cell_type": "code",
   "execution_count": 20,
   "metadata": {
    "attributes": {
     "classes": [],
     "id": "",
     "n": "20"
    }
   },
   "outputs": [
    {
     "data": {
      "text/plain": [
       "Krotov Optimization Result\n",
       "--------------------------\n",
       "- Started at 2019-02-04 16:45:58\n",
       "- Number of objectives: 1\n",
       "- Number of iterations: 5\n",
       "- Reason for termination: Reached 5 iterations\n",
       "- Ended at 2019-02-04 16:46:10"
      ]
     },
     "execution_count": 20,
     "metadata": {},
     "output_type": "execute_result"
    }
   ],
   "source": [
    "oct_result"
   ]
  },
  {
   "cell_type": "markdown",
   "metadata": {},
   "source": [
    "## Simulate the dynamics of the optimized field\n",
    "\n",
    "The plot of the optimized field\n",
    "shows, that the optimization slightly shifts the field such that qubit and TLS\n",
    "are no longer perfectly in resonance."
   ]
  },
  {
   "cell_type": "code",
   "execution_count": 21,
   "metadata": {
    "attributes": {
     "classes": [],
     "id": "",
     "n": "21"
    }
   },
   "outputs": [
    {
     "data": {
      "image/png": "[encoded data removed]",
      "text/plain": [
       "<Figure size 432x288 with 1 Axes>"
      ]
     },
     "metadata": {
      "needs_background": "light"
     },
     "output_type": "display_data"
    }
   ],
   "source": [
    "plot_pulse(oct_result.optimized_controls[0], tlist)"
   ]
  },
  {
   "cell_type": "markdown",
   "metadata": {},
   "source": [
    "This slight shift of qubit and TLS out of resonance delays the population\n",
    "oscillations between\n",
    "qubit and TLS ground state such that the qubit ground state\n",
    "is maximally\n",
    "populated at final time $T$."
   ]
  },
  {
   "cell_type": "code",
   "execution_count": 22,
   "metadata": {
    "attributes": {
     "classes": [],
     "id": "",
     "n": "22"
    }
   },
   "outputs": [
    {
     "data": {
      "image/png": "[encoded data removed]",
      "text/plain": [
       "<Figure size 432x288 with 1 Axes>"
      ]
     },
     "metadata": {
      "needs_background": "light"
     },
     "output_type": "display_data"
    }
   ],
   "source": [
    "optimized_dynamics = oct_result.optimized_objectives[0].mesolve(\n",
    "    tlist, e_ops=[proj_00, proj_01, proj_10, proj_11])\n",
    "\n",
    "plot_population(optimized_dynamics)"
   ]
  }
 ],
 "metadata": {
  "jupytext": {
   "formats": "",
   "main_language": "python"
  },
  "language_info": {
   "codemirror_mode": {
    "name": "ipython",
    "version": 3
   },
   "file_extension": ".py",
   "mimetype": "text/x-python",
   "name": "python",
   "nbconvert_exporter": "python",
   "pygments_lexer": "ipython3",
   "version": "3.6.8"
  }
 },
 "nbformat": 4,
 "nbformat_minor": 2
}
