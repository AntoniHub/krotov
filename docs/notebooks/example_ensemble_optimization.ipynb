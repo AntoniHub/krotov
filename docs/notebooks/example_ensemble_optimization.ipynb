{
 "cells": [
  {
   "cell_type": "markdown",
   "metadata": {},
   "source": [
    "# Ensemble optimization"
   ]
  },
  {
   "cell_type": "markdown",
   "metadata": {},
   "source": [
    "This notebook is an example on how to perform an ensemble optimization. It closly follows the procedure described in  \n",
    ">['Goerz et al. *Physical Review A 90*, 032329 (2014)'](https://doi.org/10.1103/PhysRevA.90.032329)\n",
    "\n",
    "ToDo: Add futher text"
   ]
  },
  {
   "cell_type": "code",
   "execution_count": 1,
   "metadata": {},
   "outputs": [
    {
     "name": "stdout",
     "output_type": "stream",
     "text": [
      "qutip       4.3.1\n",
      "numpy       1.15.4\n",
      "scipy       1.1.0\n",
      "matplotlib  3.0.2\n",
      "matplotlib.pylab  1.15.4\n",
      "CPython 3.6.7\n",
      "IPython 7.2.0\n"
     ]
    }
   ],
   "source": [
    "# NBVAL_IGNORE_OUTPUT\n",
    "%load_ext watermark\n",
    "import qutip\n",
    "import numpy as np\n",
    "import scipy\n",
    "import matplotlib\n",
    "import matplotlib.pylab as plt\n",
    "%watermark -v --iversions"
   ]
  },
  {
   "cell_type": "code",
   "execution_count": 2,
   "metadata": {},
   "outputs": [],
   "source": [
    "import krotov\n",
    "import itertools"
   ]
  },
  {
   "cell_type": "markdown",
   "metadata": {},
   "source": [
    "$\\newcommand{tr}[0]{\\operatorname{tr}}\n",
    "\\newcommand{diag}[0]{\\operatorname{diag}}\n",
    "\\newcommand{abs}[0]{\\operatorname{abs}}\n",
    "\\newcommand{pop}[0]{\\operatorname{pop}}\n",
    "\\newcommand{aux}[0]{\\text{aux}}\n",
    "\\newcommand{opt}[0]{\\text{opt}}\n",
    "\\newcommand{tgt}[0]{\\text{tgt}}\n",
    "\\newcommand{init}[0]{\\text{init}}\n",
    "\\newcommand{lab}[0]{\\text{lab}}\n",
    "\\newcommand{rwa}[0]{\\text{rwa}}\n",
    "\\newcommand{bra}[1]{\\langle#1\\vert}\n",
    "\\newcommand{ket}[1]{\\vert#1\\rangle}\n",
    "\\newcommand{Bra}[1]{\\left\\langle#1\\right\\vert}\n",
    "\\newcommand{Ket}[1]{\\left\\vert#1\\right\\rangle}\n",
    "\\newcommand{Braket}[2]{\\left\\langle #1\\vphantom{#2} \\mid #2\\vphantom{#1}\\right\\rangle}\n",
    "\\newcommand{op}[1]{\\hat{#1}}\n",
    "\\newcommand{Op}[1]{\\hat{#1}}\n",
    "\\newcommand{dd}[0]{\\,\\text{d}}\n",
    "\\newcommand{Liouville}[0]{\\mathcal{L}}\n",
    "\\newcommand{DynMap}[0]{\\mathcal{E}}\n",
    "\\newcommand{identity}[0]{\\mathbf{1}}\n",
    "\\newcommand{Norm}[1]{\\lVert#1\\rVert}\n",
    "\\newcommand{Abs}[1]{\\left\\vert#1\\right\\vert}\n",
    "\\newcommand{avg}[1]{\\langle#1\\rangle}\n",
    "\\newcommand{Avg}[1]{\\left\\langle#1\\right\\rangle}\n",
    "\\newcommand{AbsSq}[1]{\\left\\vert#1\\right\\vert^2}\n",
    "\\newcommand{Re}[0]{\\operatorname{Re}}\n",
    "\\newcommand{Im}[0]{\\operatorname{Im}}$"
   ]
  },
  {
   "cell_type": "markdown",
   "metadata": {},
   "source": [
    "## Model\n",
    "\n",
    "### One qubit Hamiltonian\n",
    "\n",
    "The qubits are realized in two hyperfine levels of a cesium atom. In addition to that, we also have an intermediate and a Rydberg level. The levels are depicted below:\n",
    "<center><img src=\"https://journals.aps.org/pra/article/10.1103/PhysRevA.90.032329/figures/1/medium\" width=\"300\"/></center>\n",
    "\n",
    "This is Fig. 1 from the publication.\n",
    "\n"
   ]
  },
  {
   "cell_type": "markdown",
   "metadata": {},
   "source": [
    "We label use qutip to get the individual states and the unity matrix for one qubit:"
   ]
  },
  {
   "cell_type": "code",
   "execution_count": 3,
   "metadata": {},
   "outputs": [],
   "source": [
    "rydberg = qutip.basis(4,3)    # Rydberg level |r>\n",
    "intermd = qutip.basis(4,2)    # intermediate level |i>\n",
    "qb_excited = qutip.basis(4,1) # qubit excited state |1>\n",
    "qb_ground  = qutip.basis(4,0) # qubit ground state |0>\n",
    "\n",
    "unity_1q = qutip.qeye(4)"
   ]
  },
  {
   "cell_type": "markdown",
   "metadata": {},
   "source": [
    "Now we set set up the parameters according to the paper and construct the Hamiltonian according to the paper:\n",
    "\n",
    "\\begin{align*}\n",
    "\\hat{\\mathcal{H}}_{\\mathrm{1q}} &=  \\begin{pmatrix}\n",
    "0 & 0 & \\Omega_{\\mathrm{B}}(t) & 0 \\\\\n",
    "0 & E_1 & 0 & 0 \\\\\n",
    "\\Omega_{\\mathrm{B}}(t) & 0 & \\Delta_1 & \\Omega_{\\mathrm{R}}(t) \\\\\n",
    "0 & 0 & \\Omega_{\\mathrm{R}}(t) & \\Delta_2 \n",
    "\\end{pmatrix} \\\\\n",
    "&= \\Omega_{\\mathrm{B}}(t)\\bigg( \\ket{0}\\bra{i} + \\ket{i}\\bra{0} \\bigg) \\ \n",
    "        + \\ \\Omega_{\\mathrm{R}}(t)\\bigg( \\ket{r}\\bra{i} + \\ket{i}\\bra{r} \\bigg) \\ \n",
    "        + \\ \\text{diag}(0,E_1,\\Delta_1,\\Delta_2) \n",
    "\\end{align*}"
   ]
  },
  {
   "cell_type": "code",
   "execution_count": 4,
   "metadata": {},
   "outputs": [],
   "source": [
    "# Omega blue\n",
    "rabi_freq_blue = .1715 # in GHz\n",
    "\n",
    "# Omega red\n",
    "rabi_freq_red = .1484 # in GHz\n",
    "\n",
    "# Diagonal\n",
    "e1      = 9.100 # in GHz\n",
    "delta_1 = 1.273 # in GHz\n",
    "delta_2 = 0     # in GHz\n",
    "\n",
    "def get1qHams(rabi_freq_blue=rabi_freq_blue, rabi_freq_red=rabi_freq_red, diag=[0,e1,delta_1,delta_2]):\n",
    "    global rydberg, intermd, qb_excited, qb_ground\n",
    "    blue_driving_hamiltonian = rabi_freq_blue * (qb_ground*intermd.dag() +  intermd*qb_ground.dag())\n",
    "    red_driving_hamiltonian = rabi_freq_red * (rydberg*intermd.dag() +  intermd*rydberg.dag())\n",
    "    eigen_ham = qutip.qdiags(diag,0)\n",
    "    \n",
    "    return eigen_ham, blue_driving_hamiltonian, red_driving_hamiltonian"
   ]
  },
  {
   "cell_type": "markdown",
   "metadata": {},
   "source": [
    "### Two qubit Hamiltonian"
   ]
  },
  {
   "cell_type": "markdown",
   "metadata": {},
   "source": [
    "We define the controls for the left atom and compose the left atom single qubit hamiltonian:\n",
    "\\\\[ \\op{\\mathcal{H}}_{\\text{1q}}^{\\ \\text{left}} = \\op{\\mathcal{H}}_{\\text{1q}} \\otimes \\mathbb{1} \\\\]"
   ]
  },
  {
   "cell_type": "code",
   "execution_count": 5,
   "metadata": {},
   "outputs": [],
   "source": [
    "def getHam1qL(red_control_l, blue_control_l, **kwargs):\n",
    "    global unity_1q\n",
    "        \n",
    "    eigen_ham, blue_driving_hamiltonian, red_driving_hamiltonian = get1qHams(**kwargs)\n",
    "    return qutip.tensor(eigen_ham,unity_1q), \\\n",
    "              [[qutip.tensor(blue_driving_hamiltonian,unity_1q), blue_control_l],\n",
    "              [qutip.tensor(red_driving_hamiltonian,unity_1q), red_control_l]]"
   ]
  },
  {
   "cell_type": "markdown",
   "metadata": {},
   "source": [
    "We define the controls for the right atom and compose the right atom single qubit hamiltonian:\n",
    "\\\\[ \\op{\\mathcal{H}}_{\\text{1q}}^{\\ \\text{right}} = \\mathbb{1} \\otimes \\op{\\mathcal{H}}_{\\text{1q}}  \\\\]"
   ]
  },
  {
   "cell_type": "code",
   "execution_count": 6,
   "metadata": {},
   "outputs": [],
   "source": [
    "def getHam1qR(red_control_r, blue_control_r, **kwargs):\n",
    "    global unity_1q\n",
    "    \n",
    "    eigen_ham, blue_driving_hamiltonian, red_driving_hamiltonian = get1qHams(**kwargs)\n",
    "    return qutip.tensor(unity_1q,eigen_ham), \\\n",
    "              [[qutip.tensor(unity_1q,blue_driving_hamiltonian), blue_control_r],\n",
    "              [qutip.tensor(unity_1q,red_driving_hamiltonian), red_control_r]]"
   ]
  },
  {
   "cell_type": "markdown",
   "metadata": {},
   "source": [
    "Define the two quibit hamiltonian:\n",
    "\\\\[ \\op{\\mathcal{H}}_{\\text{2q}} = \\op{\\mathcal{H}}_{\\text{1q}}^{\\ \\text{right}} \n",
    "                               + \\op{\\mathcal{H}}_{\\text{1q}}^{\\ \\text{left}}\n",
    "                               - u \\ket{rr}\\bra{rr}\\\\]"
   ]
  },
  {
   "cell_type": "code",
   "execution_count": 7,
   "metadata": {},
   "outputs": [],
   "source": [
    "rydberg_coupling = .05726 # in GHz\n",
    "\n",
    "def getHam2q(left_atom_pulses, right_atom_pulses, u=rydberg_coupling, **kwargs):\n",
    "    global rydberg\n",
    "    rr_ket = qutip.tensor(rydberg,rydberg)\n",
    "    rr_rr_ineraction = u * rr_ket*rr_ket.dag()\n",
    "    \n",
    "    ham_1q_r_0, ham_1q_r_1 = getHam1qR(*right_atom_pulses, **kwargs)\n",
    "    ham_1q_l_0, ham_1q_l_1 = getHam1qL(*left_atom_pulses , **kwargs)\n",
    "    \n",
    "    # get H_0 Hamiltonian (no controls) ...\n",
    "    ham_2q_0 = ham_1q_r_0 + ham_1q_r_0 + rr_rr_ineraction\n",
    "    # ... and add the controls\n",
    "    ham_2q = [ham_2q_0,*ham_1q_l_1,*ham_1q_r_1]\n",
    "    return ham_2q\n"
   ]
  },
  {
   "cell_type": "markdown",
   "metadata": {},
   "source": [
    "Note: we at first have split up the not time dependent part of each hamiltonian and then added the controls of the each qubit"
   ]
  },
  {
   "cell_type": "markdown",
   "metadata": {},
   "source": [
    "### Liouvillian"
   ]
  },
  {
   "cell_type": "markdown",
   "metadata": {},
   "source": [
    "Now we get the dissipators for Lindblad equation:"
   ]
  },
  {
   "cell_type": "code",
   "execution_count": 8,
   "metadata": {},
   "outputs": [],
   "source": [
    "#lindblatt operators for the left atom (notation follows PRA90,032329(2014))\n",
    "decay = qb_ground * intermd.dag()\n",
    "A_1 = qutip.tensor(decay, unity_1q)\n",
    "A_2 = qutip.tensor(unity_1q, decay)\n"
   ]
  },
  {
   "cell_type": "markdown",
   "metadata": {},
   "source": [
    "The Lindblad dissipators:\n",
    "\\\\[ \\mathcal{L}_{\\mathrm{D}}(\\op{\\rho}) = \\mathcal{L}_{\\mathrm{D}}^{1}(\\op{\\rho}) + \\mathcal{L}_{\\mathrm{D}}^{2}(\\op{\\rho}) \\\\]\n",
    "with\n",
    "\\\\[ \\mathcal{L}_{\\mathrm{D}}^{i}(\\op{\\rho}) = \\op{C}_i \\op{\\rho} \\op{C}^\\dagger_i - \\frac{1}{2}\\{\\op{C}_i\\op{C}^\\dagger_i, \\op{\\rho} \\}\\\\]"
   ]
  },
  {
   "cell_type": "markdown",
   "metadata": {},
   "source": [
    "with the collapse operators \n",
    "\\\\[ \\op{C}_i = \\sqrt{\\gamma} \\op{A}_i\\\\]\n",
    "with $\\gamma = \\frac{1}{\\tau}$, $\\op{A}_1 = \\ket{0}\\bra{i} \\otimes \\mathbb{1}$ and $\\op{A}_2 =  \\mathbb{1} \\otimes \\ket{0}\\bra{i}$"
   ]
  },
  {
   "cell_type": "code",
   "execution_count": 9,
   "metadata": {},
   "outputs": [],
   "source": [
    "tau = 150.0 # decay time (in ns)\n",
    "\n",
    "collapse_op_1 = (1/np.sqrt(tau)) * A_1\n",
    "collapse_op_2 = (1/np.sqrt(tau)) * A_2"
   ]
  },
  {
   "cell_type": "code",
   "execution_count": 10,
   "metadata": {},
   "outputs": [],
   "source": [
    "c_ops = [collapse_op_1,collapse_op_2]"
   ]
  },
  {
   "cell_type": "markdown",
   "metadata": {},
   "source": [
    "*This is introduced to create a Liouvillian from a Hamiltonian with the collapse operators defined in the cell directly above*"
   ]
  },
  {
   "cell_type": "code",
   "execution_count": 11,
   "metadata": {},
   "outputs": [],
   "source": [
    "def liouvillianize(ham):\n",
    "    global c_ops\n",
    "    lio_2q = []\n",
    "    lio_2q.append(qutip.liouvillian(ham[0],c_ops=c_ops))\n",
    "    for h in ham[1:]:\n",
    "        lio_2q.append([qutip.liouvillian(h[0]),h[1]])\n",
    "    return lio_2q"
   ]
  },
  {
   "cell_type": "markdown",
   "metadata": {},
   "source": [
    "### Cphase gate"
   ]
  },
  {
   "cell_type": "code",
   "execution_count": 12,
   "metadata": {},
   "outputs": [
    {
     "data": {
      "text/latex": [
       "Quantum object: dims = [[2, 2], [2, 2]], shape = (4, 4), type = oper, isherm = True\\begin{equation*}\\left(\\begin{array}{*{11}c}1.0 & 0.0 & 0.0 & 0.0\\\\0.0 & 1.0 & 0.0 & 0.0\\\\0.0 & 0.0 & 1.0 & 0.0\\\\0.0 & 0.0 & 0.0 & -1.0\\\\\\end{array}\\right)\\end{equation*}"
      ],
      "text/plain": [
       "Quantum object: dims = [[2, 2], [2, 2]], shape = (4, 4), type = oper, isherm = True\n",
       "Qobj data =\n",
       "[[ 1.  0.  0.  0.]\n",
       " [ 0.  1.  0.  0.]\n",
       " [ 0.  0.  1.  0.]\n",
       " [ 0.  0.  0. -1.]]"
      ]
     },
     "execution_count": 12,
     "metadata": {},
     "output_type": "execute_result"
    }
   ],
   "source": [
    "O = qutip.qip.cphase(np.pi)\n",
    "O"
   ]
  },
  {
   "cell_type": "markdown",
   "metadata": {},
   "source": [
    "## Optimization without ensembles"
   ]
  },
  {
   "cell_type": "code",
   "execution_count": 13,
   "metadata": {},
   "outputs": [],
   "source": [
    "t_start, t_stop, length = 0, 800, 1600 # in ns\n",
    "tlist = np.linspace(t_start, t_stop, length)\n",
    "\n",
    "left_atom_pi_duration = 450 # in ns\n",
    "\n",
    "right_atom_pulse = lambda t,args: krotov.shapes.blackman(t,t_start,t_stop) +1e-16 #account for rounding\n",
    "left_atom_pulse = lambda t,args: krotov.shapes.blackman(t,t_start,t_start+left_atom_pi_duration)+\\\n",
    "                                krotov.shapes.blackman(t,t_stop-left_atom_pi_duration,t_stop) +2e-16 #account for rounding\n"
   ]
  },
  {
   "cell_type": "code",
   "execution_count": 14,
   "metadata": {},
   "outputs": [],
   "source": [
    "Ham = getHam2q([left_atom_pulse,left_atom_pulse], [right_atom_pulse,right_atom_pulse])\n",
    "L = liouvillianize(Ham)\n",
    "basis_states = [qutip.tensor(A,B)*qutip.tensor(A,B).dag() for A,B in itertools.product([qb_ground,qb_excited],repeat=2)]\n",
    "basis_proj = [state*state.dag() for state in basis_states]"
   ]
  },
  {
   "cell_type": "code",
   "execution_count": 15,
   "metadata": {},
   "outputs": [],
   "source": [
    "objectives = krotov.gate_objectives(\n",
    "    basis_states=basis_states, gate=O, H=L)"
   ]
  },
  {
   "cell_type": "code",
   "execution_count": 16,
   "metadata": {},
   "outputs": [],
   "source": [
    "lambda_11 = lambda_21 = lambda_31 = lambda_41 = .1\n",
    "\n",
    "pulse_options = {\n",
    "    L[1][1]: krotov.PulseOptions(lambda_a=lambda_11, shape=lambda t: Ham[1][1](t,None)),\n",
    "    L[2][1]: krotov.PulseOptions(lambda_a=lambda_21, shape=lambda t: Ham[2][1](t,None)),\n",
    "    L[3][1]: krotov.PulseOptions(lambda_a=lambda_31, shape=lambda t: Ham[3][1](t,None)),\n",
    "    L[4][1]: krotov.PulseOptions(lambda_a=lambda_41, shape=lambda t: Ham[4][1](t,None)),\n",
    "}\n",
    "\n",
    "def print_fidelity(**args): \n",
    "    F_re = np.average(np.array(args['tau_vals']).real)\n",
    "    print(\"Iteration %d: \\tF = %f\" % (args['iteration'], F_re))\n",
    "    return F_re"
   ]
  },
  {
   "cell_type": "code",
   "execution_count": 17,
   "metadata": {},
   "outputs": [],
   "source": [
    "def plot_pulse(pulse, tlist, label):\n",
    "    fig, ax = plt.subplots()\n",
    "    if callable(pulse):\n",
    "        pulse = np.array([pulse(t, args=None) for t in tlist])\n",
    "    ax.plot(tlist, pulse)\n",
    "    ax.set_xlabel('time')\n",
    "    ax.set_ylabel('%s pulse amplitude' % label)\n",
    "    plt.show(fig)"
   ]
  },
  {
   "cell_type": "code",
   "execution_count": 18,
   "metadata": {},
   "outputs": [
    {
     "data": {
      "image/png": "[encoded data removed]",
      "text/plain": [
       "<Figure size 432x288 with 1 Axes>"
      ]
     },
     "metadata": {
      "needs_background": "light"
     },
     "output_type": "display_data"
    },
    {
     "data": {
      "image/png": "[encoded data removed]",
      "text/plain": [
       "<Figure size 432x288 with 1 Axes>"
      ]
     },
     "metadata": {
      "needs_background": "light"
     },
     "output_type": "display_data"
    }
   ],
   "source": [
    "plot_pulse(L[1][1], tlist, 'Ωₚ')\n",
    "plot_pulse(L[3][1], tlist, 'Ωₚ')"
   ]
  },
  {
   "cell_type": "markdown",
   "metadata": {},
   "source": [
    "## Optimize"
   ]
  },
  {
   "cell_type": "markdown",
   "metadata": {},
   "source": [
    "<div class=\"alert alert-block alert-danger\">\n",
    "    \n",
    "**Here we have a problem!!!**\n",
    "\n",
    "This does currently not work (on my machine). It does not give an error, but shuts down the kernel...\n",
    "\n",
    "</div>\n",
    "I also had trouble running notebook 04!"
   ]
  },
  {
   "cell_type": "code",
   "execution_count": null,
   "metadata": {},
   "outputs": [],
   "source": [
    "oct_result = krotov.optimize_pulses(\n",
    "    objectives, pulse_options, tlist,\n",
    "    propagator=krotov.propagators.expm,\n",
    "    chi_constructor=krotov.functionals.chis_re,\n",
    "    info_hook=print_fidelity, iter_stop=3)"
   ]
  },
  {
   "cell_type": "markdown",
   "metadata": {},
   "source": [
    "<div class=\"alert alert-block alert-danger\">\n",
    "\n",
    "**Warning!**\n",
    "\n",
    "This also makes Jupyter crash!\n",
    "\n",
    "</div>\n"
   ]
  },
  {
   "cell_type": "code",
   "execution_count": null,
   "metadata": {},
   "outputs": [],
   "source": [
    "import qutip\n",
    "psi = qutip.tensor(qutip.basis(2, 0), qutip.basis(2, 1))\n",
    "psi.ptrace(0)"
   ]
  },
  {
   "cell_type": "code",
   "execution_count": null,
   "metadata": {},
   "outputs": [],
   "source": []
  },
  {
   "cell_type": "code",
   "execution_count": null,
   "metadata": {},
   "outputs": [],
   "source": []
  },
  {
   "cell_type": "code",
   "execution_count": null,
   "metadata": {},
   "outputs": [],
   "source": []
  },
  {
   "cell_type": "code",
   "execution_count": null,
   "metadata": {},
   "outputs": [],
   "source": []
  },
  {
   "cell_type": "code",
   "execution_count": null,
   "metadata": {},
   "outputs": [],
   "source": []
  }
 ],
 "metadata": {
  "kernelspec": {
   "display_name": "Python 3",
   "language": "python",
   "name": "python3"
  },
  "language_info": {
   "codemirror_mode": {
    "name": "ipython",
    "version": 3
   },
   "file_extension": ".py",
   "mimetype": "text/x-python",
   "name": "python",
   "nbconvert_exporter": "python",
   "pygments_lexer": "ipython3",
   "version": "3.6.7"
  }
 },
 "nbformat": 4,
 "nbformat_minor": 2
}
