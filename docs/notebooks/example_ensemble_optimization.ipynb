{
 "cells": [
  {
   "cell_type": "markdown",
   "metadata": {},
   "source": [
    "# Ensemble optimization"
   ]
  },
  {
   "cell_type": "markdown",
   "metadata": {},
   "source": [
    "This notebook is an example on how to perform an ensemble optimization. It closly follows the procedure described in  \n",
    ">['Goerz et al. *Physical Review A 90*, 032329 (2014)'](https://doi.org/10.1103/PhysRevA.90.032329)\n",
    "\n",
    "ToDo: Add futher text"
   ]
  },
  {
   "cell_type": "code",
   "execution_count": 1,
   "metadata": {},
   "outputs": [
    {
     "name": "stdout",
     "output_type": "stream",
     "text": [
      "qutip       4.4.0.dev0+48770fff\n",
      "numpy       1.15.4\n",
      "scipy       1.1.0\n",
      "matplotlib  3.0.2\n",
      "matplotlib.pylab  1.15.4\n",
      "CPython 3.6.7\n",
      "IPython 7.2.0\n"
     ]
    }
   ],
   "source": [
    "# NBVAL_IGNORE_OUTPUT\n",
    "%load_ext watermark\n",
    "import qutip\n",
    "import numpy as np\n",
    "import scipy\n",
    "import matplotlib\n",
    "import matplotlib.pylab as plt\n",
    "%watermark -v --iversions"
   ]
  },
  {
   "cell_type": "code",
   "execution_count": 2,
   "metadata": {},
   "outputs": [],
   "source": [
    "import krotov\n",
    "import itertools"
   ]
  },
  {
   "cell_type": "markdown",
   "metadata": {},
   "source": [
    "$\\newcommand{tr}[0]{\\operatorname{tr}}\n",
    "\\newcommand{diag}[0]{\\operatorname{diag}}\n",
    "\\newcommand{abs}[0]{\\operatorname{abs}}\n",
    "\\newcommand{pop}[0]{\\operatorname{pop}}\n",
    "\\newcommand{aux}[0]{\\text{aux}}\n",
    "\\newcommand{opt}[0]{\\text{opt}}\n",
    "\\newcommand{tgt}[0]{\\text{tgt}}\n",
    "\\newcommand{init}[0]{\\text{init}}\n",
    "\\newcommand{lab}[0]{\\text{lab}}\n",
    "\\newcommand{rwa}[0]{\\text{rwa}}\n",
    "\\newcommand{bra}[1]{\\langle#1\\vert}\n",
    "\\newcommand{ket}[1]{\\vert#1\\rangle}\n",
    "\\newcommand{Bra}[1]{\\left\\langle#1\\right\\vert}\n",
    "\\newcommand{Ket}[1]{\\left\\vert#1\\right\\rangle}\n",
    "\\newcommand{Braket}[2]{\\left\\langle #1\\vphantom{#2} \\mid #2\\vphantom{#1}\\right\\rangle}\n",
    "\\newcommand{op}[1]{\\hat{#1}}\n",
    "\\newcommand{Op}[1]{\\hat{#1}}\n",
    "\\newcommand{dd}[0]{\\,\\text{d}}\n",
    "\\newcommand{Liouville}[0]{\\mathcal{L}}\n",
    "\\newcommand{DynMap}[0]{\\mathcal{E}}\n",
    "\\newcommand{identity}[0]{\\mathbf{1}}\n",
    "\\newcommand{Norm}[1]{\\lVert#1\\rVert}\n",
    "\\newcommand{Abs}[1]{\\left\\vert#1\\right\\vert}\n",
    "\\newcommand{avg}[1]{\\langle#1\\rangle}\n",
    "\\newcommand{Avg}[1]{\\left\\langle#1\\right\\rangle}\n",
    "\\newcommand{AbsSq}[1]{\\left\\vert#1\\right\\vert^2}\n",
    "\\newcommand{Re}[0]{\\operatorname{Re}}\n",
    "\\newcommand{Im}[0]{\\operatorname{Im}}$"
   ]
  },
  {
   "cell_type": "markdown",
   "metadata": {},
   "source": [
    "## Model\n",
    "\n",
    "### One qubit Hamiltonian\n",
    "\n",
    "The qubits are realized in two hyperfine levels of a cesium atom. In addition to that, we also have an intermediate and a Rydberg level. The levels are depicted below:\n",
    "<center><img src=\"https://journals.aps.org/pra/article/10.1103/PhysRevA.90.032329/figures/1/medium\" width=\"300\"/></center>\n",
    "\n",
    "This is Fig. 1 from the publication.\n",
    "\n"
   ]
  },
  {
   "cell_type": "markdown",
   "metadata": {},
   "source": [
    "We label use qutip to get the individual states and the unity matrix for one qubit:"
   ]
  },
  {
   "cell_type": "code",
   "execution_count": 3,
   "metadata": {},
   "outputs": [],
   "source": [
    "rydberg = qutip.basis(4,3)    # Rydberg level |r>\n",
    "intermd = qutip.basis(4,2)    # intermediate level |i>\n",
    "qb_excited = qutip.basis(4,1) # qubit excited state |1>\n",
    "qb_ground  = qutip.basis(4,0) # qubit ground state |0>\n",
    "\n",
    "unity_1q = qutip.qeye(4)"
   ]
  },
  {
   "cell_type": "markdown",
   "metadata": {},
   "source": [
    "Now we set set up the parameters according to the paper and construct the Hamiltonian according to the paper:\n",
    "\n",
    "\\begin{align*}\n",
    "\\hat{\\mathcal{H}}_{\\mathrm{1q}} &=  \\begin{pmatrix}\n",
    "0 & 0 & \\Omega_{\\mathrm{B}}(t) & 0 \\\\\n",
    "0 & E_1 & 0 & 0 \\\\\n",
    "\\Omega_{\\mathrm{B}}(t) & 0 & \\Delta_1 & \\Omega_{\\mathrm{R}}(t) \\\\\n",
    "0 & 0 & \\Omega_{\\mathrm{R}}(t) & \\Delta_2 \n",
    "\\end{pmatrix} \\\\\n",
    "&= \\Omega_{\\mathrm{B}}(t)\\bigg( \\ket{0}\\bra{i} + \\ket{i}\\bra{0} \\bigg) \\ \n",
    "        + \\ \\Omega_{\\mathrm{R}}(t)\\bigg( \\ket{r}\\bra{i} + \\ket{i}\\bra{r} \\bigg) \\ \n",
    "        + \\ \\text{diag}(0,E_1,\\Delta_1,\\Delta_2) \n",
    "\\end{align*}"
   ]
  },
  {
   "cell_type": "markdown",
   "metadata": {},
   "source": [
    "<div class=\"alert alert-block alert-info\">MK: \n",
    "    I have never worked with non hermitian Hamiltonians before, so this needs to be double checked\n",
    "</div>"
   ]
  },
  {
   "cell_type": "markdown",
   "metadata": {},
   "source": [
    "To account for the decay of the intermediate level, we add a coefficient $-i\\gamma$, with $\\gamma=\\frac{1}{\\tau}>0$ to the intermediate level, leading to a non hermitian hamiltonian (also c.f. [the notebook on the lambda system with non hermitian hamiltonian](03_example_lambda_system_rwa_non_hermitian.ipynb)) :"
   ]
  },
  {
   "cell_type": "markdown",
   "metadata": {},
   "source": [
    "\\begin{align*}\n",
    "\\hat{\\mathcal{H}}_{\\mathrm{1q}} &=  \\begin{pmatrix}\n",
    "0 & 0 & \\Omega_{\\mathrm{B}}(t) & 0 \\\\\n",
    "0 & E_1 & 0 & 0 \\\\\n",
    "\\Omega_{\\mathrm{B}}(t) & 0 & \\Delta_1-i\\gamma & \\Omega_{\\mathrm{R}}(t) \\\\\n",
    "0 & 0 & \\Omega_{\\mathrm{R}}(t) & \\Delta_2 \n",
    "\\end{pmatrix} \n",
    "\\end{align*}"
   ]
  },
  {
   "cell_type": "code",
   "execution_count": 4,
   "metadata": {},
   "outputs": [],
   "source": [
    "# Omega blue\n",
    "rabi_freq_blue = .1715 # in GHz\n",
    "\n",
    "# Omega red\n",
    "rabi_freq_red = .1484 # in GHz\n",
    "\n",
    "# Diagonal\n",
    "e1      = 9.100 # in GHz\n",
    "delta_1 = 1.273 # in GHz\n",
    "delta_2 = 0     # in GHz\n",
    "\n",
    "# decay time (in ns)\n",
    "tau = 150.0 \n",
    "\n",
    "def get_1q_hams(rabi_freq_blue=rabi_freq_blue, rabi_freq_red=rabi_freq_red, \n",
    "                diag=[0,e1,delta_1,delta_2], gamma=1./tau                   \n",
    "                ):\n",
    "    \n",
    "    blue_driving_hamiltonian = rabi_freq_blue * (qb_ground*intermd.dag() +  intermd*qb_ground.dag())\n",
    "    red_driving_hamiltonian = rabi_freq_red * (rydberg*intermd.dag() +  intermd*rydberg.dag())\n",
    "    \n",
    "    # adding diagonal + dissipation   \n",
    "    eigen_ham = qutip.qdiags(diag,0) + qutip.qdiags([0,0,-1.j*gamma,0],0)\n",
    "        \n",
    "    return eigen_ham, blue_driving_hamiltonian, red_driving_hamiltonian"
   ]
  },
  {
   "cell_type": "markdown",
   "metadata": {},
   "source": [
    "<div class=\"alert alert-block alert-success\">MG: The usual convention for Python function names is get_1q_hams, instead of camel case. Also \"global\" isn't strictly necessary unless you write to those variables inside the function (but if you prefer to keep it for now, in order to track which non-local variables the function refers to, I don't mind).\n",
    "</div>"
   ]
  },
  {
   "cell_type": "markdown",
   "metadata": {},
   "source": [
    "### Two qubit Hamiltonian"
   ]
  },
  {
   "cell_type": "markdown",
   "metadata": {},
   "source": [
    "We define the controls for the left atom and compose the left and right atom single qubit hamiltonian:\n",
    "\\begin{align}\n",
    "    \\op{\\mathcal{H}}_{\\text{1q}}^{\\ \\text{left }} &= \\op{\\mathcal{H}}_{\\text{1q}} \\otimes \\mathbb{1} & \n",
    "    \\op{\\mathcal{H}}_{\\text{1q}}^{\\ \\text{right}} &= \\mathbb{1} \\otimes \\op{\\mathcal{H}}_{\\text{1q}}\n",
    "\\end{align}\n",
    "\n",
    "and combine them to the two qubit hamiltonian\n",
    "\n",
    "\\begin{equation}\n",
    "    \\op{\\mathcal{H}}_{\\text{2q}} = \\op{\\mathcal{H}}_{\\text{1q}}^{\\ \\text{right}} \n",
    "                                       + \\op{\\mathcal{H}}_{\\text{1q}}^{\\ \\text{left}}\n",
    "                                       - u \\ket{rr}\\bra{rr} \n",
    "\\end{equation}\n"
   ]
  },
  {
   "cell_type": "code",
   "execution_count": 5,
   "metadata": {},
   "outputs": [],
   "source": [
    "rydberg_coupling = .05726 # in GHz\n",
    "\n",
    "def get_ham_2q(u=rydberg_coupling, **kwargs):\n",
    "    \"\"\"  \"\"\"\n",
    "    \n",
    "    rr_ket = qutip.tensor(rydberg,rydberg)\n",
    "    rr_rr_ineraction = u * rr_ket*rr_ket.dag()\n",
    "    \n",
    "    #Get one qubit Hamiltonian\n",
    "    eigen_ham, blue_driving_hamiltonian, red_driving_hamiltonian = get_1q_hams(**kwargs)\n",
    "    \n",
    "    #Left atom hamiltonian\n",
    "    ### get the non controlled part of the left atom hamiltonian\n",
    "    ham_1q_l_0 = qutip.tensor(eigen_ham,unity_1q)\n",
    "    ### ... and the controlled parts\n",
    "    ham_1q_l_1_blue = [ qutip.tensor( blue_driving_hamiltonian, unity_1q ), lambda x: 1 ]\n",
    "    ham_1q_l_1_red  = [ qutip.tensor( red_driving_hamiltonian , unity_1q ), lambda x: 1 ]\n",
    "                 \n",
    "    #right atom hamiltonian\n",
    "    ### get the non controlled part of the left atom hamiltonian\n",
    "    ham_1q_r_0 = qutip.tensor(unity_1q,eigen_ham)\n",
    "    ### ... and the controlled parts\n",
    "    ham_1q_r_1_blue = [ qutip.tensor( unity_1q, blue_driving_hamiltonian ) , lambda x: 1 ]\n",
    "    ham_1q_r_1_red  = [ qutip.tensor( unity_1q,  red_driving_hamiltonian ) , lambda x: 1 ]\n",
    "    \n",
    "    \n",
    "    # get H_0 Hamiltonian (no controls) ...\n",
    "    ham_2q_0 = ham_1q_r_0 + ham_1q_r_0 - rr_rr_ineraction\n",
    "    # ... and add the controls\n",
    "    ham_2q = [ham_2q_0,  ham_1q_l_1_blue, ham_1q_l_1_red,  ham_1q_r_1_blue, ham_1q_r_1_red]\n",
    "    \n",
    "    \n",
    "    return ham_2q\n"
   ]
  },
  {
   "cell_type": "markdown",
   "metadata": {},
   "source": [
    "<div class=\"alert alert-block alert-success\">MG: This might be a bit too much. I'd just have get_1q_hams, and then a single additional routine that returns the complete (H, c_ops). In particular, getHam1qL and getHam1qR aren't really necessary.\n",
    "</div>"
   ]
  },
  {
   "cell_type": "markdown",
   "metadata": {},
   "source": [
    "<div class=\"alert alert-block alert-info\">MK: I think that should be better. .\n",
    "</div>"
   ]
  },
  {
   "cell_type": "code",
   "execution_count": 6,
   "metadata": {},
   "outputs": [],
   "source": [
    "Ham = get_ham_2q()"
   ]
  },
  {
   "cell_type": "markdown",
   "metadata": {},
   "source": [
    "### Liouvillian\n",
    "..."
   ]
  },
  {
   "cell_type": "markdown",
   "metadata": {},
   "source": [
    "<div class=\"alert alert-block alert-warning\">MG: I didn't realize that qutip.liouvillian doesn't work for the nested lists of time-dependent operators. Thus, we should probably define a more general krotov.objectives.liouvillian that does what the above routine does. I think I'll also just want to do the entire conversion (ham, c_ops) -> Liouvillian in krotov.gate_objectives.\n",
    "</div>"
   ]
  },
  {
   "cell_type": "markdown",
   "metadata": {},
   "source": [
    "<div class=\"alert alert-block alert-info\">MK: \n",
    "    As discussed in the \"Issue\" section of github, we omit this part and (as already described above) \n",
    "    implement the dissipation by using a non hermitian hamiltonian.\n",
    "</div>"
   ]
  },
  {
   "cell_type": "markdown",
   "metadata": {},
   "source": [
    "### Cphase gate"
   ]
  },
  {
   "cell_type": "markdown",
   "metadata": {},
   "source": [
    "The classical cphase gate is given as follows"
   ]
  },
  {
   "cell_type": "code",
   "execution_count": 7,
   "metadata": {},
   "outputs": [
    {
     "data": {
      "text/plain": [
       "(<Figure size 576x432 with 2 Axes>,\n",
       " <matplotlib.axes._subplots.AxesSubplot at 0x7fbdf3405908>)"
      ]
     },
     "execution_count": 7,
     "metadata": {},
     "output_type": "execute_result"
    },
    {
     "data": {
      "image/png": "[encoded data removed]",
      "text/plain": [
       "<Figure size 576x432 with 2 Axes>"
      ]
     },
     "metadata": {
      "needs_background": "light"
     },
     "output_type": "display_data"
    }
   ],
   "source": [
    "O = qutip.qip.cphase(np.pi)\n",
    "O\n",
    "qutip.hinton(O)"
   ]
  },
  {
   "cell_type": "markdown",
   "metadata": {},
   "source": [
    "However, since we do not only have our qubits with two energy levels, but with four, we have to define the cphase gate as:\n",
    "\\begin{equation}\n",
    "    \\ket{00}\\bra{00} + \\ket{01}\\bra{01} + \\ket{10}\\bra{10} - \\ket{11}\\bra{11}\n",
    "\\end{equation}"
   ]
  },
  {
   "cell_type": "code",
   "execution_count": 8,
   "metadata": {},
   "outputs": [
    {
     "data": {
      "text/plain": [
       "(<Figure size 576x432 with 2 Axes>,\n",
       " <matplotlib.axes._subplots.AxesSubplot at 0x7fbdf304c278>)"
      ]
     },
     "execution_count": 8,
     "metadata": {},
     "output_type": "execute_result"
    },
    {
     "data": {
      "image/png": "[encoded data removed]",
      "text/plain": [
       "<Figure size 576x432 with 2 Axes>"
      ]
     },
     "metadata": {
      "needs_background": "light"
     },
     "output_type": "display_data"
    }
   ],
   "source": [
    "logical_basis=[qutip.tensor(A,B)*qutip.tensor(A,B).dag() for A,B in itertools.product([qb_ground,qb_excited],repeat=2)]\n",
    "\n",
    "O = sum(logical_basis[:3]) - logical_basis[3]\n",
    "qutip.hinton(O)"
   ]
  },
  {
   "cell_type": "markdown",
   "metadata": {},
   "source": [
    "<div class=\"alert alert-block alert-info\">MK: \n",
    "    I had problems creating these gates! Is there a more elegant way of doing that?\n",
    "</div>"
   ]
  },
  {
   "cell_type": "markdown",
   "metadata": {},
   "source": [
    "## Optimization without ensembles"
   ]
  },
  {
   "cell_type": "markdown",
   "metadata": {},
   "source": [
    "For the pulse optimization, we define define two guess pulses for each of the atoms:"
   ]
  },
  {
   "cell_type": "code",
   "execution_count": 9,
   "metadata": {},
   "outputs": [],
   "source": [
    "t_start, t_stop, length = 0, 800, 1600 # in ns\n",
    "tlist = np.linspace(t_start, t_stop, length)\n",
    "\n",
    "left_atom_pi_duration = 450 # in ns\n",
    "\n",
    "def right_atom_pulse(t_start,t_stop):\n",
    "    func = lambda t,args: krotov.shapes.blackman(t,t_start,t_stop) +1e-16 #account for rounding\n",
    "    return func\n",
    "\n",
    "def left_atom_pulse(t_start,t_stop, pi_duration=left_atom_pi_duration):\n",
    "    func = lambda t,args: krotov.shapes.blackman(t,t_start,t_start+pi_duration)+ \\\n",
    "                          krotov.shapes.blackman(t,t_stop-pi_duration,t_stop)  + 2e-16 #account for rounding\n",
    "    return func"
   ]
  },
  {
   "cell_type": "markdown",
   "metadata": {},
   "source": [
    "Which looks like"
   ]
  },
  {
   "cell_type": "code",
   "execution_count": 10,
   "metadata": {},
   "outputs": [
    {
     "data": {
      "image/png": "[encoded data removed]",
      "text/plain": [
       "<Figure size 432x288 with 1 Axes>"
      ]
     },
     "metadata": {
      "needs_background": "light"
     },
     "output_type": "display_data"
    }
   ],
   "source": [
    "fig, ax = plt.subplots()\n",
    "ax.plot(tlist, right_atom_pulse(t_start,t_stop)(tlist,None),label='Right atom')\n",
    "ax.plot(tlist,  left_atom_pulse(t_start,t_stop)(tlist,None),label='Left atom' )\n",
    "plt.legend()\n",
    "ax.set_xlabel('time')\n",
    "ax.set_ylabel('amplitude')\n",
    "plt.show()"
   ]
  },
  {
   "cell_type": "markdown",
   "metadata": {},
   "source": [
    "And add the pulses to the Hamiltonian"
   ]
  },
  {
   "cell_type": "code",
   "execution_count": 11,
   "metadata": {},
   "outputs": [],
   "source": [
    "Ham[1][1] =  left_atom_pulse(t_start,t_stop) #  left atom blue\n",
    "Ham[2][1] =  left_atom_pulse(t_start,t_stop) #  left atom red\n",
    "Ham[3][1] = right_atom_pulse(t_start,t_stop) # right atom blue\n",
    "Ham[4][1] = right_atom_pulse(t_start,t_stop) # right atom red"
   ]
  },
  {
   "cell_type": "markdown",
   "metadata": {},
   "source": [
    "### Taking into account the gate"
   ]
  },
  {
   "cell_type": "markdown",
   "metadata": {},
   "source": [
    "In general we would need to define the whole basis of the density matrix of the logical subspace of the system, which is\n",
    "\\begin{align}\n",
    "    \\ket{ij}&\\bra{kl} & \\forall i,j,k,l \\in \\{0,1\\}\n",
    "\\end{align}\n",
    "\n",
    "However, Goerz et al. could show, that this in general could be done by using only three density matrices for all gates.\n",
    "For diagonal gates, this could even be done with two gates.  \n",
    "&rarr;For furher information c.f. [Goerz et al. PhysRevA.90.032329](http://dx.doi.org/10.1103/PhysRevA.90.032329)"
   ]
  },
  {
   "cell_type": "markdown",
   "metadata": {},
   "source": [
    "We define the two relevant density matrices"
   ]
  },
  {
   "cell_type": "markdown",
   "metadata": {},
   "source": [
    "<div class=\"alert alert-block alert-info\">MK: \n",
    "    It might be nice to have a function to generate these density matrices! \n",
    "</div>"
   ]
  },
  {
   "cell_type": "code",
   "execution_count": 12,
   "metadata": {},
   "outputs": [
    {
     "data": {
      "text/plain": [
       "(<Figure size 576x432 with 2 Axes>,\n",
       " <matplotlib.axes._subplots.AxesSubplot at 0x7fbdf2c37a58>)"
      ]
     },
     "execution_count": 12,
     "metadata": {},
     "output_type": "execute_result"
    },
    {
     "data": {
      "image/png": "[encoded data removed]",
      "text/plain": [
       "<Figure size 576x432 with 2 Axes>"
      ]
     },
     "metadata": {
      "needs_background": "light"
     },
     "output_type": "display_data"
    }
   ],
   "source": [
    "d=4 #Dimension of the hilbert space\n",
    "\n",
    "# define one atom dm\n",
    "dm2_array = np.zeros([4,4])\n",
    "dm2_array[np.ix_([0,1],[0,1])] = 1\n",
    "dm2_1q = qutip.Qobj(dm2_array)\n",
    "\n",
    "rho_2 = qutip.tensor(dm2_1q,dm2_1q) * 1/d\n",
    "qutip.hinton(rho_2)"
   ]
  },
  {
   "cell_type": "code",
   "execution_count": 13,
   "metadata": {},
   "outputs": [
    {
     "data": {
      "text/plain": [
       "(<Figure size 576x432 with 2 Axes>,\n",
       " <matplotlib.axes._subplots.AxesSubplot at 0x7fbdf2c568d0>)"
      ]
     },
     "execution_count": 13,
     "metadata": {},
     "output_type": "execute_result"
    },
    {
     "data": {
      "image/png": "[encoded data removed]",
      "text/plain": [
       "<Figure size 576x432 with 2 Axes>"
      ]
     },
     "metadata": {
      "needs_background": "light"
     },
     "output_type": "display_data"
    }
   ],
   "source": [
    "d=4 #Dimension of the hilbert space\n",
    "\n",
    "# define one atom dm\n",
    "dm3_array = np.zeros([4,4])\n",
    "dm3_array[[0,1],[0,1]] = 1\n",
    "dm3_1q = qutip.Qobj(dm3_array)\n",
    "\n",
    "rho_3 = qutip.tensor(dm3_1q,dm3_1q) * 1/d\n",
    "qutip.hinton(rho_3)"
   ]
  },
  {
   "cell_type": "markdown",
   "metadata": {},
   "source": [
    "For the target states, we set\n",
    "\\begin{align}\n",
    "    \\rho_2 &\\longrightarrow \\op{O} \\rho_2 \\op{O}^\\dagger \\\\\n",
    "    \\rho_3 &\\longrightarrow \\op{O} \\rho_3 \\op{O}^\\dagger\n",
    "\\end{align}"
   ]
  },
  {
   "cell_type": "code",
   "execution_count": 14,
   "metadata": {},
   "outputs": [],
   "source": [
    "objectives = []\n",
    "objectives.append(\n",
    "    krotov.objectives.Objective(initial_state=rho_2, H=Ham, target=O*rho_2*O.dag())\n",
    ")\n",
    "objectives.append(\n",
    "    krotov.objectives.Objective(initial_state=rho_3, H=Ham, target=O*rho_3*O.dag())\n",
    ")"
   ]
  },
  {
   "cell_type": "code",
   "execution_count": 15,
   "metadata": {},
   "outputs": [
    {
     "data": {
      "text/plain": [
       "'[NonHerm[4⊗4,4⊗4], [Herm[4⊗4,4⊗4], u1(t)], [Herm[4⊗4,4⊗4], u2(t)], [Herm[4⊗4,4⊗4], u3(t)], [Herm[4⊗4,4⊗4], u4(t)]]'"
      ]
     },
     "execution_count": 15,
     "metadata": {},
     "output_type": "execute_result"
    }
   ],
   "source": [
    "krotov.objectives.summarize_qobj(Ham)"
   ]
  },
  {
   "cell_type": "markdown",
   "metadata": {},
   "source": [
    "<div class=\"alert alert-block alert-success\">MG: There seems to be something wrong here. These should be 4 independent pulses, but it appears that there are only two them are independent (u1 and u2 both appear twice)\n",
    "</div>"
   ]
  },
  {
   "cell_type": "code",
   "execution_count": 16,
   "metadata": {},
   "outputs": [
    {
     "data": {
      "text/plain": [
       "2"
      ]
     },
     "execution_count": 16,
     "metadata": {},
     "output_type": "execute_result"
    }
   ],
   "source": [
    "len(objectives)"
   ]
  },
  {
   "cell_type": "markdown",
   "metadata": {},
   "source": [
    "<div class=\"alert alert-block alert-success\">MG: So this is definitely not correct. You cannot optimize a dissipative gate by tracking the density matrices corresponding to the canonical basis states. You need either 16 density matrices corresponding to the canonical states, or 2 specially chosen states (see discussion above Eq 14)\n",
    "</div>"
   ]
  },
  {
   "cell_type": "markdown",
   "metadata": {},
   "source": [
    "<div class=\"alert alert-block alert-info\">MK: \n",
    "    I now generated the objectives on my own.\n",
    "    Do you think it would be a good idea to also show how to use the `gate_objective` routine (for the 16 dm)?\n",
    "    Or should we change this as soon as the `gate_objective` routine is aware of returning the 2 (or 3) dms?\n",
    "</div>"
   ]
  },
  {
   "cell_type": "code",
   "execution_count": 17,
   "metadata": {},
   "outputs": [],
   "source": [
    "lambda_11 = lambda_21 = lambda_31 = lambda_41 = .1\n",
    "\n",
    "pulse_options = {\n",
    "    Ham[1][1]: krotov.PulseOptions(lambda_a=lambda_11, shape=lambda t: Ham[1][1](t,None)),\n",
    "    Ham[2][1]: krotov.PulseOptions(lambda_a=lambda_21, shape=lambda t: Ham[2][1](t,None)),\n",
    "    Ham[3][1]: krotov.PulseOptions(lambda_a=lambda_31, shape=lambda t: Ham[3][1](t,None)),\n",
    "    Ham[4][1]: krotov.PulseOptions(lambda_a=lambda_41, shape=lambda t: Ham[4][1](t,None)),\n",
    "}\n",
    "\n",
    "def print_fidelity(**args): \n",
    "    F_re = np.average(np.array(args['tau_vals']).real)\n",
    "    print(\"Iteration %d: \\tF = %f\" % (args['iteration'], F_re))\n",
    "    return F_re"
   ]
  },
  {
   "cell_type": "code",
   "execution_count": 18,
   "metadata": {},
   "outputs": [],
   "source": [
    "def plot_pulse(pulse, tlist, label):\n",
    "    fig, ax = plt.subplots()\n",
    "    if callable(pulse):\n",
    "        pulse = np.array([pulse(t, args=None) for t in tlist])\n",
    "    ax.plot(tlist, pulse)\n",
    "    ax.set_xlabel('time')\n",
    "    ax.set_ylabel('%s pulse amplitude' % label)\n",
    "    plt.show(fig)"
   ]
  },
  {
   "cell_type": "code",
   "execution_count": 19,
   "metadata": {},
   "outputs": [
    {
     "data": {
      "image/png": "[encoded data removed]",
      "text/plain": [
       "<Figure size 432x288 with 1 Axes>"
      ]
     },
     "metadata": {
      "needs_background": "light"
     },
     "output_type": "display_data"
    },
    {
     "data": {
      "image/png": "[encoded data removed]",
      "text/plain": [
       "<Figure size 432x288 with 1 Axes>"
      ]
     },
     "metadata": {
      "needs_background": "light"
     },
     "output_type": "display_data"
    }
   ],
   "source": [
    "plot_pulse(Ham[1][1], tlist, 'Ωₚ')\n",
    "plot_pulse(Ham[3][1], tlist, 'Ωₚ')"
   ]
  },
  {
   "cell_type": "markdown",
   "metadata": {},
   "source": [
    "## Optimize"
   ]
  },
  {
   "cell_type": "markdown",
   "metadata": {},
   "source": [
    "<div class=\"alert alert-block alert-success\">\n",
    "    \n",
    "**Here we have a problem!!!**\n",
    "\n",
    "This does currently not work (on my machine). It does not give an error, but shuts down the kernel...\n",
    "\n",
    "**MG**: I'm assuming you were able to fix this by not installing qutip through conda (see comment in the `Makefile`)\n",
    "</div>\n"
   ]
  },
  {
   "cell_type": "markdown",
   "metadata": {},
   "source": [
    "<div class=\"alert alert-block alert-info\">MK: \n",
    "    Yes I did!\n",
    "</div>"
   ]
  },
  {
   "cell_type": "code",
   "execution_count": 20,
   "metadata": {},
   "outputs": [
    {
     "ename": "NotImplementedError",
     "evalue": "Cannot handle argument types A:oper, state:oper",
     "output_type": "error",
     "traceback": [
      "\u001b[0;31m---------------------------------------------------------------------------\u001b[0m",
      "\u001b[0;31mNotImplementedError\u001b[0m                       Traceback (most recent call last)",
      "\u001b[0;32m<ipython-input-20-141448b5bac2>\u001b[0m in \u001b[0;36m<module>\u001b[0;34m\u001b[0m\n\u001b[1;32m      3\u001b[0m     \u001b[0mpropagator\u001b[0m\u001b[0;34m=\u001b[0m\u001b[0mkrotov\u001b[0m\u001b[0;34m.\u001b[0m\u001b[0mpropagators\u001b[0m\u001b[0;34m.\u001b[0m\u001b[0mexpm\u001b[0m\u001b[0;34m,\u001b[0m\u001b[0;34m\u001b[0m\u001b[0;34m\u001b[0m\u001b[0m\n\u001b[1;32m      4\u001b[0m     \u001b[0mchi_constructor\u001b[0m\u001b[0;34m=\u001b[0m\u001b[0mkrotov\u001b[0m\u001b[0;34m.\u001b[0m\u001b[0mfunctionals\u001b[0m\u001b[0;34m.\u001b[0m\u001b[0mchis_re\u001b[0m\u001b[0;34m,\u001b[0m\u001b[0;34m\u001b[0m\u001b[0;34m\u001b[0m\u001b[0m\n\u001b[0;32m----> 5\u001b[0;31m     info_hook=print_fidelity, iter_stop=3)\n\u001b[0m",
      "\u001b[0;32m~/krotov_library/krotov/src/krotov/optimize.py\u001b[0m in \u001b[0;36moptimize_pulses\u001b[0;34m(objectives, pulse_options, tlist, propagator, chi_constructor, mu, sigma, iter_start, iter_stop, check_convergence, state_dependent_constraint, info_hook, modify_params_after_iter, storage, parallel_map, store_all_pulses)\u001b[0m\n\u001b[1;32m    175\u001b[0m         \u001b[0m_forward_propagation\u001b[0m\u001b[0;34m,\u001b[0m\u001b[0;34m\u001b[0m\u001b[0;34m\u001b[0m\u001b[0m\n\u001b[1;32m    176\u001b[0m         \u001b[0mlist\u001b[0m\u001b[0;34m(\u001b[0m\u001b[0mrange\u001b[0m\u001b[0;34m(\u001b[0m\u001b[0mlen\u001b[0m\u001b[0;34m(\u001b[0m\u001b[0mobjectives\u001b[0m\u001b[0;34m)\u001b[0m\u001b[0;34m)\u001b[0m\u001b[0;34m)\u001b[0m\u001b[0;34m,\u001b[0m\u001b[0;34m\u001b[0m\u001b[0;34m\u001b[0m\u001b[0m\n\u001b[0;32m--> 177\u001b[0;31m         \u001b[0;34m(\u001b[0m\u001b[0mobjectives\u001b[0m\u001b[0;34m,\u001b[0m \u001b[0mguess_pulses\u001b[0m\u001b[0;34m,\u001b[0m \u001b[0mpulses_mapping\u001b[0m\u001b[0;34m,\u001b[0m \u001b[0mtlist\u001b[0m\u001b[0;34m,\u001b[0m \u001b[0mpropagator\u001b[0m\u001b[0;34m,\u001b[0m \u001b[0mstorage\u001b[0m\u001b[0;34m)\u001b[0m\u001b[0;34m,\u001b[0m\u001b[0;34m\u001b[0m\u001b[0;34m\u001b[0m\u001b[0m\n\u001b[0m\u001b[1;32m    178\u001b[0m     )\n\u001b[1;32m    179\u001b[0m     \u001b[0mtoc\u001b[0m \u001b[0;34m=\u001b[0m \u001b[0mtime\u001b[0m\u001b[0;34m.\u001b[0m\u001b[0mtime\u001b[0m\u001b[0;34m(\u001b[0m\u001b[0;34m)\u001b[0m\u001b[0;34m\u001b[0m\u001b[0;34m\u001b[0m\u001b[0m\n",
      "\u001b[0;32m~/krotov_library/krotov/.venv/py36/lib/python3.6/site-packages/qutip/parallel.py\u001b[0m in \u001b[0;36mserial_map\u001b[0;34m(task, values, task_args, task_kwargs, **kwargs)\u001b[0m\n\u001b[1;32m    181\u001b[0m     \u001b[0;32mfor\u001b[0m \u001b[0mn\u001b[0m\u001b[0;34m,\u001b[0m \u001b[0mvalue\u001b[0m \u001b[0;32min\u001b[0m \u001b[0menumerate\u001b[0m\u001b[0;34m(\u001b[0m\u001b[0mvalues\u001b[0m\u001b[0;34m)\u001b[0m\u001b[0;34m:\u001b[0m\u001b[0;34m\u001b[0m\u001b[0;34m\u001b[0m\u001b[0m\n\u001b[1;32m    182\u001b[0m         \u001b[0mprogress_bar\u001b[0m\u001b[0;34m.\u001b[0m\u001b[0mupdate\u001b[0m\u001b[0;34m(\u001b[0m\u001b[0mn\u001b[0m\u001b[0;34m)\u001b[0m\u001b[0;34m\u001b[0m\u001b[0;34m\u001b[0m\u001b[0m\n\u001b[0;32m--> 183\u001b[0;31m         \u001b[0mresult\u001b[0m \u001b[0;34m=\u001b[0m \u001b[0mtask\u001b[0m\u001b[0;34m(\u001b[0m\u001b[0mvalue\u001b[0m\u001b[0;34m,\u001b[0m \u001b[0;34m*\u001b[0m\u001b[0mtask_args\u001b[0m\u001b[0;34m,\u001b[0m \u001b[0;34m**\u001b[0m\u001b[0mtask_kwargs\u001b[0m\u001b[0;34m)\u001b[0m\u001b[0;34m\u001b[0m\u001b[0;34m\u001b[0m\u001b[0m\n\u001b[0m\u001b[1;32m    184\u001b[0m         \u001b[0mresults\u001b[0m\u001b[0;34m.\u001b[0m\u001b[0mappend\u001b[0m\u001b[0;34m(\u001b[0m\u001b[0mresult\u001b[0m\u001b[0;34m)\u001b[0m\u001b[0;34m\u001b[0m\u001b[0;34m\u001b[0m\u001b[0m\n\u001b[1;32m    185\u001b[0m     \u001b[0mprogress_bar\u001b[0m\u001b[0;34m.\u001b[0m\u001b[0mfinished\u001b[0m\u001b[0;34m(\u001b[0m\u001b[0;34m)\u001b[0m\u001b[0;34m\u001b[0m\u001b[0;34m\u001b[0m\u001b[0m\n",
      "\u001b[0;32m~/krotov_library/krotov/src/krotov/optimize.py\u001b[0m in \u001b[0;36m_forward_propagation\u001b[0;34m(i_objective, objectives, pulses, pulses_mapping, tlist, propagator, storage, store_all)\u001b[0m\n\u001b[1;32m    420\u001b[0m         ]\n\u001b[1;32m    421\u001b[0m         \u001b[0mdt\u001b[0m \u001b[0;34m=\u001b[0m \u001b[0mtlist\u001b[0m\u001b[0;34m[\u001b[0m\u001b[0mtime_index\u001b[0m \u001b[0;34m+\u001b[0m \u001b[0;36m1\u001b[0m\u001b[0;34m]\u001b[0m \u001b[0;34m-\u001b[0m \u001b[0mtlist\u001b[0m\u001b[0;34m[\u001b[0m\u001b[0mtime_index\u001b[0m\u001b[0;34m]\u001b[0m\u001b[0;34m\u001b[0m\u001b[0;34m\u001b[0m\u001b[0m\n\u001b[0;32m--> 422\u001b[0;31m         \u001b[0mstate\u001b[0m \u001b[0;34m=\u001b[0m \u001b[0mpropagator\u001b[0m\u001b[0;34m(\u001b[0m\u001b[0mH\u001b[0m\u001b[0;34m,\u001b[0m \u001b[0mstate\u001b[0m\u001b[0;34m,\u001b[0m \u001b[0mdt\u001b[0m\u001b[0;34m,\u001b[0m \u001b[0mc_ops\u001b[0m\u001b[0;34m)\u001b[0m\u001b[0;34m\u001b[0m\u001b[0;34m\u001b[0m\u001b[0m\n\u001b[0m\u001b[1;32m    423\u001b[0m         \u001b[0;32mif\u001b[0m \u001b[0mstore_all\u001b[0m\u001b[0;34m:\u001b[0m\u001b[0;34m\u001b[0m\u001b[0;34m\u001b[0m\u001b[0m\n\u001b[1;32m    424\u001b[0m             \u001b[0mstorage_array\u001b[0m\u001b[0;34m[\u001b[0m\u001b[0mtime_index\u001b[0m \u001b[0;34m+\u001b[0m \u001b[0;36m1\u001b[0m\u001b[0;34m]\u001b[0m \u001b[0;34m=\u001b[0m \u001b[0mstate\u001b[0m\u001b[0;34m\u001b[0m\u001b[0;34m\u001b[0m\u001b[0m\n",
      "\u001b[0;32m~/krotov_library/krotov/src/krotov/propagators.py\u001b[0m in \u001b[0;36mexpm\u001b[0;34m(H, state, dt, c_ops, backwards)\u001b[0m\n\u001b[1;32m     35\u001b[0m         raise NotImplementedError(\n\u001b[1;32m     36\u001b[0m             \u001b[0;34m\"Cannot handle argument types A:%s, state:%s\"\u001b[0m\u001b[0;34m\u001b[0m\u001b[0;34m\u001b[0m\u001b[0m\n\u001b[0;32m---> 37\u001b[0;31m             \u001b[0;34m%\u001b[0m \u001b[0;34m(\u001b[0m\u001b[0mA\u001b[0m\u001b[0;34m.\u001b[0m\u001b[0mtype\u001b[0m\u001b[0;34m,\u001b[0m \u001b[0mstate\u001b[0m\u001b[0;34m.\u001b[0m\u001b[0mtype\u001b[0m\u001b[0;34m)\u001b[0m\u001b[0;34m\u001b[0m\u001b[0;34m\u001b[0m\u001b[0m\n\u001b[0m\u001b[1;32m     38\u001b[0m         )\n",
      "\u001b[0;31mNotImplementedError\u001b[0m: Cannot handle argument types A:oper, state:oper"
     ]
    }
   ],
   "source": [
    "oct_result = krotov.optimize_pulses(\n",
    "    objectives, pulse_options, tlist,\n",
    "    propagator=krotov.propagators.expm,\n",
    "    chi_constructor=krotov.functionals.chis_re,\n",
    "    info_hook=print_fidelity, iter_stop=3)"
   ]
  },
  {
   "cell_type": "markdown",
   "metadata": {},
   "source": [
    "<div class=\"alert alert-block alert-danger\">\n",
    "MG: this might actually be a bug... ham_mapping might be wrong. Needs some further analysis.\n",
    "</div>"
   ]
  },
  {
   "cell_type": "markdown",
   "metadata": {},
   "source": [
    "<div class=\"alert alert-block alert-info\">\n",
    "MK: Now I have a problem using the density matrix in the objectives.\n",
    "    I haven't found anything similar to that in the other notebooks\n",
    "    (except for 04, where the Liouvillian is used.)\n",
    "    Sould I also convert the Hamiltonian to a Liouvillian? Or will this feaure come soon?\n",
    "</div>"
   ]
  },
  {
   "cell_type": "code",
   "execution_count": null,
   "metadata": {},
   "outputs": [],
   "source": []
  }
 ],
 "metadata": {
  "kernelspec": {
   "display_name": "Python 3",
   "language": "python",
   "name": "python3"
  },
  "language_info": {
   "codemirror_mode": {
    "name": "ipython",
    "version": 3
   },
   "file_extension": ".py",
   "mimetype": "text/x-python",
   "name": "python",
   "nbconvert_exporter": "python",
   "pygments_lexer": "ipython3",
   "version": "3.6.7"
  }
 },
 "nbformat": 4,
 "nbformat_minor": 2
}
