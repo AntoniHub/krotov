{
 "cells": [
  {
   "cell_type": "markdown",
   "metadata": {},
   "source": [
    "# Ensemble optimization"
   ]
  },
  {
   "cell_type": "markdown",
   "metadata": {},
   "source": [
    "This notebook is an example on how to perform an ensemble optimization. It closly follows the procedure described in  \n",
    ">['Goerz et al. *Physical Review A 90*, 032329 (2014)'](https://doi.org/10.1103/PhysRevA.90.032329)\n",
    "\n",
    "The main goal is to present a robust optimization of the two-quibt gate in a system with two coupled Rydberg qubits. This is achived by using ensemble optimization, which is desribed in more detail [below](#Optimization-with-ensembles)."
   ]
  },
  {
   "cell_type": "code",
   "execution_count": 1,
   "metadata": {},
   "outputs": [
    {
     "name": "stdout",
     "output_type": "stream",
     "text": [
      "matplotlib.pylab 1.15.4\n",
      "matplotlib       3.0.2\n",
      "numpy            1.15.4\n",
      "scipy            1.2.0\n",
      "qutip            4.3.1\n",
      "CPython 3.6.8\n",
      "IPython 7.2.0\n"
     ]
    }
   ],
   "source": [
    "# NBVAL_IGNORE_OUTPUT\n",
    "%load_ext watermark\n",
    "import qutip\n",
    "import numpy as np\n",
    "import scipy\n",
    "import matplotlib\n",
    "import matplotlib.pylab as plt\n",
    "%watermark -v --iversions"
   ]
  },
  {
   "cell_type": "code",
   "execution_count": 2,
   "metadata": {},
   "outputs": [],
   "source": [
    "import krotov\n",
    "import itertools"
   ]
  },
  {
   "cell_type": "markdown",
   "metadata": {},
   "source": [
    "$\\newcommand{tr}[0]{\\operatorname{tr}}\n",
    "\\newcommand{diag}[0]{\\operatorname{diag}}\n",
    "\\newcommand{abs}[0]{\\operatorname{abs}}\n",
    "\\newcommand{pop}[0]{\\operatorname{pop}}\n",
    "\\newcommand{aux}[0]{\\text{aux}}\n",
    "\\newcommand{opt}[0]{\\text{opt}}\n",
    "\\newcommand{tgt}[0]{\\text{tgt}}\n",
    "\\newcommand{init}[0]{\\text{init}}\n",
    "\\newcommand{lab}[0]{\\text{lab}}\n",
    "\\newcommand{rwa}[0]{\\text{rwa}}\n",
    "\\newcommand{bra}[1]{\\langle#1\\vert}\n",
    "\\newcommand{ket}[1]{\\vert#1\\rangle}\n",
    "\\newcommand{Bra}[1]{\\left\\langle#1\\right\\vert}\n",
    "\\newcommand{Ket}[1]{\\left\\vert#1\\right\\rangle}\n",
    "\\newcommand{Braket}[2]{\\left\\langle #1\\vphantom{#2} \\mid #2\\vphantom{#1}\\right\\rangle}\n",
    "\\newcommand{op}[1]{\\hat{#1}}\n",
    "\\newcommand{Op}[1]{\\hat{#1}}\n",
    "\\newcommand{dd}[0]{\\,\\text{d}}\n",
    "\\newcommand{Liouville}[0]{\\mathcal{L}}\n",
    "\\newcommand{DynMap}[0]{\\mathcal{E}}\n",
    "\\newcommand{identity}[0]{\\mathbf{1}}\n",
    "\\newcommand{Norm}[1]{\\lVert#1\\rVert}\n",
    "\\newcommand{Abs}[1]{\\left\\vert#1\\right\\vert}\n",
    "\\newcommand{avg}[1]{\\langle#1\\rangle}\n",
    "\\newcommand{Avg}[1]{\\left\\langle#1\\right\\rangle}\n",
    "\\newcommand{AbsSq}[1]{\\left\\vert#1\\right\\vert^2}\n",
    "\\newcommand{Re}[0]{\\operatorname{Re}}\n",
    "\\newcommand{Im}[0]{\\operatorname{Im}}$"
   ]
  },
  {
   "cell_type": "markdown",
   "metadata": {},
   "source": [
    "## Model\n",
    "\n",
    "### One qubit Hamiltonian\n",
    "\n",
    "The qubits are realized in two hyperfine levels of a cesium atom. In addition to that, we also have an intermediate and a Rydberg level. The levels are depicted below:\n",
    "<center><img src=\"https://journals.aps.org/pra/article/10.1103/PhysRevA.90.032329/figures/1/medium\" width=\"300\"/></center>\n",
    "\n",
    "<center>This is Fig. 1 from the publication.</center>\n",
    "\n",
    "\n",
    "\n"
   ]
  },
  {
   "cell_type": "markdown",
   "metadata": {},
   "source": [
    "We use qutip to get the individual states and the unity matrix for one qubit, which will be frequently used:"
   ]
  },
  {
   "cell_type": "code",
   "execution_count": 3,
   "metadata": {},
   "outputs": [],
   "source": [
    "rydberg = qutip.basis(4,3)    # Rydberg level |r>\n",
    "intermd = qutip.basis(4,2)    # intermediate level |i>\n",
    "qb_excited = qutip.basis(4,1) # qubit excited state |1>\n",
    "qb_ground = qutip.basis(4,0)  # qubit ground state |0>\n",
    "\n",
    "unity_1q = qutip.qeye(4)"
   ]
  },
  {
   "cell_type": "markdown",
   "metadata": {},
   "source": [
    "Now we set up the parameters and construct the Hamiltonian according to the paper:\n",
    "\n",
    "\\begin{align*}\n",
    "\\hat{\\mathcal{H}}_{\\mathrm{1q}} &=  \\begin{pmatrix}\n",
    "0 & 0 & \\Omega_{\\mathrm{B}}(t) & 0 \\\\\n",
    "0 & E_1 & 0 & 0 \\\\\n",
    "\\Omega_{\\mathrm{B}}(t) & 0 & \\Delta_1 & \\Omega_{\\mathrm{R}}(t) \\\\\n",
    "0 & 0 & \\Omega_{\\mathrm{R}}(t) & \\Delta_2 \n",
    "\\end{pmatrix} \\\\\n",
    "&= \\Omega_{\\mathrm{B}}(t)\\bigg( \\ket{0}\\bra{i} + \\ket{i}\\bra{0} \\bigg) \\ \n",
    "        + \\ \\Omega_{\\mathrm{R}}(t)\\bigg( \\ket{r}\\bra{i} + \\ket{i}\\bra{r} \\bigg) \\ \n",
    "        + \\ \\text{diag}(0,E_1,\\Delta_1,\\Delta_2) \n",
    "\\end{align*}"
   ]
  },
  {
   "cell_type": "markdown",
   "metadata": {},
   "source": [
    "To account for the decay of the intermediate level, we add a coefficient $-\\frac{i\\gamma}{2}$, with $\\gamma=\\frac{1}{\\tau}>0$ to the intermediate level, leading to a non hermitian Hamiltonian (also c.f. [the notebook on the lambda system with non hermitian Hamiltonian](03_example_lambda_system_rwa_non_hermitian.ipynb)).\n",
    "To penalize the decay even further, we increase the decay value by a factor of 100:"
   ]
  },
  {
   "cell_type": "markdown",
   "metadata": {},
   "source": [
    "\\begin{align*}\n",
    "\\hat{\\mathcal{H}}_{\\mathrm{1q}} &=  \\begin{pmatrix}\n",
    "0 & 0 & \\Omega_{\\mathrm{B}}(t) & 0 \\\\\n",
    "0 & E_1 & 0 & 0 \\\\\n",
    "\\Omega_{\\mathrm{B}}(t) & 0 & \\Delta_1-\\frac{100i\\gamma}{2} & \\Omega_{\\mathrm{R}}(t) \\\\\n",
    "0 & 0 & \\Omega_{\\mathrm{R}}(t) & \\Delta_2 \n",
    "\\end{pmatrix} \n",
    "\\end{align*}"
   ]
  },
  {
   "cell_type": "code",
   "execution_count": 4,
   "metadata": {},
   "outputs": [],
   "source": [
    "# Rabi frequency blue\n",
    "Ω_blue = 1#171.5e-3 # in GHz\n",
    "\n",
    "# Rabi frequency red\n",
    "Ω_red = 1#148.4e-3 # in GHz\n",
    "\n",
    "# Diagonal\n",
    "## eigenenergies of the qubits\n",
    "E0   = 0     # in GHz\n",
    "E1   = 9.100 # in GHz\n",
    "## one-/two-photon detuning\n",
    "Δ1   = 1.273 # in GHz\n",
    "Δ2   = 0     # in GHz\n",
    "\n",
    "# decay time (in ns)\n",
    "τ = 150.0 "
   ]
  },
  {
   "cell_type": "code",
   "execution_count": 5,
   "metadata": {},
   "outputs": [],
   "source": [
    "def get_1q_hams(rabi_freq_blue=Ω_blue, rabi_freq_red=Ω_red, \n",
    "                diag=[E0,E1,Δ1,Δ2], γ=1./τ                   \n",
    "                ):\n",
    "    \n",
    "    blue_driving_hamiltonian = rabi_freq_blue * (qb_ground*intermd.dag() + intermd*qb_ground.dag())\n",
    "    red_driving_hamiltonian = rabi_freq_red * (rydberg*intermd.dag() + intermd*rydberg.dag())\n",
    "     \n",
    "    # adding diagonal + dissipation   \n",
    "    eigen_ham = qutip.qdiags(diag, 0) #+ qutip.qdiags([0,0,-100*.5j*γ,0], 0)\n",
    "        \n",
    "    return eigen_ham, blue_driving_hamiltonian, red_driving_hamiltonian"
   ]
  },
  {
   "cell_type": "markdown",
   "metadata": {},
   "source": [
    "### Two qubit Hamiltonian"
   ]
  },
  {
   "cell_type": "markdown",
   "metadata": {},
   "source": [
    "We define the controls for the left atom and compose the left and right atom single qubit Hamiltonian:\n",
    "\\begin{align}\n",
    "    \\op{\\mathcal{H}}_{\\text{1q}}^{\\ \\text{left }} &= \\op{\\mathcal{H}}_{\\text{1q}} \\otimes \\mathbb{1} & \n",
    "    \\op{\\mathcal{H}}_{\\text{1q}}^{\\ \\text{right}} &= \\mathbb{1} \\otimes \\op{\\mathcal{H}}_{\\text{1q}}\n",
    "\\end{align}\n",
    "\n",
    "and combine them to the two qubit Hamiltonian\n",
    "\n",
    "\\begin{equation}\n",
    "    \\op{\\mathcal{H}}_{\\text{2q}} = \\op{\\mathcal{H}}_{\\text{1q}}^{\\ \\text{right}} \n",
    "                                       + \\op{\\mathcal{H}}_{\\text{1q}}^{\\ \\text{left}}\n",
    "                                       - u \\ket{rr}\\bra{rr} \n",
    "\\end{equation}\n"
   ]
  },
  {
   "cell_type": "code",
   "execution_count": 6,
   "metadata": {},
   "outputs": [],
   "source": [
    "rydberg_coupling = 57.26e-3 # in GHz\n",
    "\n",
    "def get_ham_2q(u=rydberg_coupling, **kwargs):\n",
    "    \"\"\"  \"\"\"\n",
    "    \n",
    "    rr_ket = qutip.tensor(rydberg,rydberg)\n",
    "    rr_rr_ineraction = u * rr_ket*rr_ket.dag()\n",
    "    \n",
    "    #Get one qubit Hamiltonian\n",
    "    eigen_ham_l, blue_driving_hamiltonian_l, red_driving_hamiltonian_l = get_1q_hams(**kwargs)\n",
    "    \n",
    "    #Left atom Hamiltonian\n",
    "    ### get the non controlled part of the left atom Hamiltonian\n",
    "    ham_1q_l_0 = qutip.tensor(eigen_ham_l, unity_1q)\n",
    "    ### ... and the controlled parts\n",
    "    ham_1q_l_1_blue = [qutip.tensor(blue_driving_hamiltonian_l, unity_1q), lambda x: 1]\n",
    "    ham_1q_l_1_red  = [qutip.tensor(red_driving_hamiltonian_l, unity_1q), lambda x: 1]\n",
    "                 \n",
    "    #Get one qubit Hamiltonian\n",
    "    eigen_ham_r, blue_driving_hamiltonian_r, red_driving_hamiltonian_r = get_1q_hams(**kwargs)\n",
    "    \n",
    "    #right atom Hamiltonian\n",
    "    ### get the non controlled part of the left atom Hamiltonian\n",
    "    ham_1q_r_0 = qutip.tensor(unity_1q,eigen_ham_r)\n",
    "    ### ... and the controlled parts\n",
    "    ham_1q_r_1_blue = [qutip.tensor(unity_1q, blue_driving_hamiltonian_r), lambda x: 1 ]\n",
    "    ham_1q_r_1_red  = [qutip.tensor(unity_1q, red_driving_hamiltonian_r), lambda x: 1 ]\n",
    "    \n",
    "    \n",
    "    # get H_0 Hamiltonian (no controls) ...\n",
    "    ham_2q_0 = ham_1q_l_0 + ham_1q_r_0 - rr_rr_ineraction\n",
    "    # ... and add the controls\n",
    "    ham_2q = [ham_2q_0, ham_1q_l_1_blue, ham_1q_l_1_red, ham_1q_r_1_blue, ham_1q_r_1_red]\n",
    "    \n",
    "    \n",
    "    return ham_2q\n"
   ]
  },
  {
   "cell_type": "code",
   "execution_count": 7,
   "metadata": {},
   "outputs": [],
   "source": [
    "Ham = get_ham_2q()"
   ]
  },
  {
   "cell_type": "markdown",
   "metadata": {},
   "source": [
    "### Cphase gate"
   ]
  },
  {
   "cell_type": "markdown",
   "metadata": {},
   "source": [
    "The gate we are considering in this optimization example is the C-Phase gate.\n",
    "We use the qutip routine for the desired gate:"
   ]
  },
  {
   "cell_type": "code",
   "execution_count": 8,
   "metadata": {
    "scrolled": true
   },
   "outputs": [
    {
     "data": {
      "text/latex": [
       "Quantum object: dims = [[2, 2], [2, 2]], shape = (4, 4), type = oper, isherm = True\\begin{equation*}\\left(\\begin{array}{*{11}c}1.0 & 0.0 & 0.0 & 0.0\\\\0.0 & 1.0 & 0.0 & 0.0\\\\0.0 & 0.0 & 1.0 & 0.0\\\\0.0 & 0.0 & 0.0 & -1.0\\\\\\end{array}\\right)\\end{equation*}"
      ],
      "text/plain": [
       "Quantum object: dims = [[2, 2], [2, 2]], shape = (4, 4), type = oper, isherm = True\n",
       "Qobj data =\n",
       "[[ 1.  0.  0.  0.]\n",
       " [ 0.  1.  0.  0.]\n",
       " [ 0.  0.  1.  0.]\n",
       " [ 0.  0.  0. -1.]]"
      ]
     },
     "execution_count": 8,
     "metadata": {},
     "output_type": "execute_result"
    }
   ],
   "source": [
    "O = qutip.qip.cphase(np.pi)\n",
    "O"
   ]
  },
  {
   "cell_type": "markdown",
   "metadata": {},
   "source": [
    "## Optimization without ensembles"
   ]
  },
  {
   "cell_type": "markdown",
   "metadata": {},
   "source": [
    "For the pulse optimization, we need to define two guess pulses for each of the atoms.\n",
    "\n",
    "Therefore we first set up the a list of all times. Thereafter, we define function, which in turn return the guess pulse functions (this needs to be done to obtain different function objects for the Hamiltonian)."
   ]
  },
  {
   "cell_type": "code",
   "execution_count": 9,
   "metadata": {},
   "outputs": [],
   "source": [
    "t_start, t_stop, length = 0, 800, 1600 # in ns\n",
    "tlist = np.linspace(t_start, t_stop, length)\n",
    "\n",
    "left_atom_pi_duration = 425 # in ns\n",
    "\n",
    "def right_atom_pulse(t_start,t_stop, ampl = .1):\n",
    "    func = lambda t,args: ampl*(krotov.shapes.blackman(t,t_start,t_stop) +1e-16) #account for rounding\n",
    "    return func\n",
    "\n",
    "def left_atom_pulse(t_start,t_stop, pi_duration=left_atom_pi_duration, ampl = .05):\n",
    "    func = lambda t,args: ampl*(krotov.shapes.blackman(t,t_start,t_start+pi_duration)+ \\\n",
    "                          krotov.shapes.blackman(t,t_stop-pi_duration,t_stop)  + 2e-16) #account for rounding\n",
    "    return func"
   ]
  },
  {
   "cell_type": "markdown",
   "metadata": {},
   "source": [
    "The chosen guess pulses are chosen similar to the ones used in the paper by Goerz et al. and look like"
   ]
  },
  {
   "cell_type": "code",
   "execution_count": 10,
   "metadata": {},
   "outputs": [
    {
     "data": {
      "image/png": "[encoded data removed]",
      "text/plain": [
       "<Figure size 432x288 with 1 Axes>"
      ]
     },
     "metadata": {
      "needs_background": "light"
     },
     "output_type": "display_data"
    }
   ],
   "source": [
    "fig, ax = plt.subplots()\n",
    "ax.plot(tlist, right_atom_pulse(t_start,t_stop)(tlist,None),label='Right atom')\n",
    "ax.plot(tlist,  left_atom_pulse(t_start,t_stop)(tlist,None),label='Left atom' )\n",
    "plt.legend()\n",
    "ax.set_xlabel('time')\n",
    "ax.set_ylabel('amplitude')\n",
    "plt.show()"
   ]
  },
  {
   "cell_type": "markdown",
   "metadata": {},
   "source": [
    "After defining the pulses we add the pulses to the respective Hamiltonian"
   ]
  },
  {
   "cell_type": "code",
   "execution_count": 12,
   "metadata": {},
   "outputs": [],
   "source": [
    "Ham[1][1] =  left_atom_pulse(t_start,t_stop) #  left atom blue\n",
    "Ham[2][1] =  left_atom_pulse(t_start,t_stop) #  left atom red\n",
    "Ham[3][1] = right_atom_pulse(t_start,t_stop) # right atom blue\n",
    "Ham[4][1] = right_atom_pulse(t_start,t_stop) # right atom red"
   ]
  },
  {
   "cell_type": "code",
   "execution_count": 13,
   "metadata": {},
   "outputs": [],
   "source": [
    "Ham[1][1] =  left_atom_pulse(t_start,t_stop, ampl=.1475, pi_duration=50) #  left atom blue\n",
    "Ham[2][1] =  left_atom_pulse(t_start,t_stop, ampl=.1475, pi_duration=50) #  left atom red\n",
    "Ham[3][1] = right_atom_pulse(t_start,t_stop, ampl=.055) # right atom blue\n",
    "Ham[4][1] = right_atom_pulse(t_start,t_stop, ampl=.055) # right atom red"
   ]
  },
  {
   "cell_type": "markdown",
   "metadata": {},
   "source": [
    "*Again: Note, that the function calls return function objects in this case!*"
   ]
  },
  {
   "cell_type": "markdown",
   "metadata": {},
   "source": [
    "### Taking into account the gate"
   ]
  },
  {
   "cell_type": "markdown",
   "metadata": {},
   "source": [
    "Before we can start, we need to specify the basis states, on which the gate should act. These are given by $\\big\\{\\ket{00}$, $\\ket{01}$, $\\ket{10}$, $\\ket{11}\\big\\}$. "
   ]
  },
  {
   "cell_type": "code",
   "execution_count": 14,
   "metadata": {},
   "outputs": [],
   "source": [
    "basis_states = [qutip.tensor(A,B) for A,B in itertools.product([qb_ground,qb_excited],repeat=2)]\n",
    "basis_proj   = [bs*bs.dag() for bs in basis_states]"
   ]
  },
  {
   "cell_type": "markdown",
   "metadata": {},
   "source": [
    "Using krotov's `gate_objectives` function, we get the objectives for the gate, which returns a list of the four objectives."
   ]
  },
  {
   "cell_type": "code",
   "execution_count": 15,
   "metadata": {},
   "outputs": [],
   "source": [
    "objectives = krotov.gate_objectives(\n",
    "    basis_states=basis_states, gate=O, H=Ham)"
   ]
  },
  {
   "cell_type": "code",
   "execution_count": 16,
   "metadata": {},
   "outputs": [
    {
     "data": {
      "text/plain": [
       "'[Herm[4⊗4,4⊗4], [Herm[4⊗4,4⊗4], u1(t)], [Herm[4⊗4,4⊗4], u2(t)], [Herm[4⊗4,4⊗4], u3(t)], [Herm[4⊗4,4⊗4], u4(t)]]'"
      ]
     },
     "execution_count": 16,
     "metadata": {},
     "output_type": "execute_result"
    }
   ],
   "source": [
    "krotov.objectives.summarize_qobj(Ham)"
   ]
  },
  {
   "cell_type": "code",
   "execution_count": 17,
   "metadata": {},
   "outputs": [
    {
     "data": {
      "text/plain": [
       "4"
      ]
     },
     "execution_count": 17,
     "metadata": {},
     "output_type": "execute_result"
    }
   ],
   "source": [
    "len(objectives)"
   ]
  },
  {
   "cell_type": "markdown",
   "metadata": {},
   "source": [
    "### Pulse options"
   ]
  },
  {
   "cell_type": "markdown",
   "metadata": {},
   "source": [
    "In addition to the objectives, we need to specify the `pulse_options` for each of the control Hamiltonians.\n",
    "For the shape of the pulses, we choose the guess pulse."
   ]
  },
  {
   "cell_type": "code",
   "execution_count": 18,
   "metadata": {},
   "outputs": [],
   "source": [
    "lambda_11 = lambda_21 = lambda_31 = lambda_41 = .25\n",
    "\n",
    "\n",
    "pulse_options = {\n",
    "    Ham[1][1]: dict(lambda_a=lambda_11, shape=lambda t: Ham[1][1](t,None)/np.amax(Ham[1][1](tlist,None))),\n",
    "    Ham[2][1]: dict(lambda_a=lambda_21, shape=lambda t: Ham[2][1](t,None)/np.amax(Ham[2][1](tlist,None))),\n",
    "    Ham[3][1]: dict(lambda_a=lambda_31, shape=lambda t: Ham[3][1](t,None)/np.amax(Ham[3][1](tlist,None))),\n",
    "    Ham[4][1]: dict(lambda_a=lambda_41, shape=lambda t: Ham[4][1](t,None)/np.amax(Ham[4][1](tlist,None))),\n",
    "    }\n"
   ]
  },
  {
   "cell_type": "markdown",
   "metadata": {},
   "source": [
    "In addition to that, we also specify a function, which we can add as 'info_hook' in the optimize function. This allows us to see the fidelity after each iteration."
   ]
  },
  {
   "cell_type": "code",
   "execution_count": 19,
   "metadata": {},
   "outputs": [],
   "source": [
    "def print_fidelity(**args): \n",
    "    F_re = np.average(np.array(args['tau_vals']).real)\n",
    "    print(\"Iteration {:d}: \\tF = {:f}\".format(args['iteration'], F_re))\n",
    "    return F_re"
   ]
  },
  {
   "cell_type": "markdown",
   "metadata": {},
   "source": [
    "### Simulate the dynamics of the guess pulse"
   ]
  },
  {
   "cell_type": "markdown",
   "metadata": {},
   "source": [
    "To get an overview of the dynamics, we again plot the pulses ..."
   ]
  },
  {
   "cell_type": "code",
   "execution_count": 20,
   "metadata": {},
   "outputs": [],
   "source": [
    "def plot_pulse(pulse, tlist):\n",
    "    fig, ax = plt.subplots()\n",
    "    if callable(pulse):\n",
    "        pulse = np.array([pulse(t, None) for t in tlist])\n",
    "    ax.plot(tlist, pulse)\n",
    "    ax.set_xlabel('time')\n",
    "    ax.set_ylabel('pulse amplitude')\n",
    "    plt.show(fig)"
   ]
  },
  {
   "cell_type": "code",
   "execution_count": 21,
   "metadata": {},
   "outputs": [
    {
     "data": {
      "image/png": "[encoded data removed]",
      "text/plain": [
       "<Figure size 432x288 with 1 Axes>"
      ]
     },
     "metadata": {
      "needs_background": "light"
     },
     "output_type": "display_data"
    },
    {
     "data": {
      "image/png": "[encoded data removed]",
      "text/plain": [
       "<Figure size 432x288 with 1 Axes>"
      ]
     },
     "metadata": {
      "needs_background": "light"
     },
     "output_type": "display_data"
    },
    {
     "data": {
      "image/png": "[encoded data removed]",
      "text/plain": [
       "<Figure size 432x288 with 1 Axes>"
      ]
     },
     "metadata": {
      "needs_background": "light"
     },
     "output_type": "display_data"
    },
    {
     "data": {
      "image/png": "[encoded data removed]",
      "text/plain": [
       "<Figure size 432x288 with 1 Axes>"
      ]
     },
     "metadata": {
      "needs_background": "light"
     },
     "output_type": "display_data"
    }
   ],
   "source": [
    "plot_pulse(Ham[1][1], tlist)\n",
    "plot_pulse(Ham[2][1], tlist)\n",
    "plot_pulse(Ham[3][1], tlist)\n",
    "plot_pulse(Ham[4][1], tlist)"
   ]
  },
  {
   "cell_type": "markdown",
   "metadata": {},
   "source": [
    "... and obtain the dynamics for the guess pulses by using qutip's mesolve routine."
   ]
  },
  {
   "cell_type": "code",
   "execution_count": 24,
   "metadata": {},
   "outputs": [],
   "source": [
    "guess_dynamics = [objctv.mesolve(tlist, e_ops=basis_proj) for objctv in objectives] "
   ]
  },
  {
   "cell_type": "code",
   "execution_count": 23,
   "metadata": {},
   "outputs": [],
   "source": [
    "def plot_population(results):\n",
    "    fig, axs = plt.subplots(2,2)\n",
    "    for idx,ax in enumerate(axs.flatten()):\n",
    "        ax.plot(results[idx].times, results[idx].expect[0], label='00')\n",
    "        ax.plot(results[idx].times, results[idx].expect[1], label='01')\n",
    "        ax.plot(results[idx].times, results[idx].expect[2], label='10')\n",
    "        ax.plot(results[idx].times, results[idx].expect[3], label='11')\n",
    "        ax.legend()\n",
    "        ax.set_xlabel('time')\n",
    "        ax.set_ylabel('population')\n",
    "    plt.show(fig)"
   ]
  },
  {
   "cell_type": "code",
   "execution_count": 25,
   "metadata": {},
   "outputs": [
    {
     "data": {
      "image/png": "[encoded data removed]",
      "text/plain": [
       "<Figure size 432x288 with 4 Axes>"
      ]
     },
     "metadata": {
      "needs_background": "light"
     },
     "output_type": "display_data"
    }
   ],
   "source": [
    "plot_population(guess_dynamics)"
   ]
  },
  {
   "cell_type": "markdown",
   "metadata": {},
   "source": [
    "### Optimize"
   ]
  },
  {
   "cell_type": "markdown",
   "metadata": {},
   "source": [
    "With everything set up properly, we can now start the optimization of the pulses by invoking krotov's `optimize_pulses` routine."
   ]
  },
  {
   "cell_type": "code",
   "execution_count": 24,
   "metadata": {},
   "outputs": [
    {
     "name": "stdout",
     "output_type": "stream",
     "text": [
      "Iteration 0: \tF = -0.016712\n",
      "Iteration 1: \tF = 0.490407\n",
      "Iteration 2: \tF = 0.653577\n",
      "Iteration 3: \tF = 0.688633\n",
      "Iteration 4: \tF = 0.707792\n",
      "Iteration 5: \tF = 0.724785\n",
      "Iteration 6: \tF = 0.744309\n",
      "Iteration 7: \tF = 0.771054\n",
      "Iteration 8: \tF = 0.796112\n",
      "Iteration 9: \tF = 0.811290\n",
      "Iteration 10: \tF = 0.817151\n",
      "Iteration 11: \tF = 0.819278\n",
      "Iteration 12: \tF = 0.820213\n",
      "Iteration 13: \tF = 0.820675\n",
      "Iteration 14: \tF = 0.820917\n",
      "Iteration 15: \tF = 0.821048\n",
      "Iteration 16: \tF = 0.821119\n",
      "Iteration 17: \tF = 0.821159\n",
      "Iteration 18: \tF = 0.821182\n",
      "Iteration 19: \tF = 0.821194\n",
      "Iteration 20: \tF = 0.821201\n",
      "Iteration 21: \tF = 0.821206\n",
      "Iteration 22: \tF = 0.821208\n",
      "Iteration 23: \tF = 0.821209\n",
      "Iteration 24: \tF = 0.821210\n",
      "Iteration 25: \tF = 0.821211\n",
      "Iteration 26: \tF = 0.821211\n",
      "Iteration 27: \tF = 0.821211\n",
      "Iteration 28: \tF = 0.821212\n",
      "Iteration 29: \tF = 0.821212\n",
      "Iteration 30: \tF = 0.821212\n",
      "CPU times: user 22min 23s, sys: 1.42 s, total: 22min 24s\n",
      "Wall time: 22min 24s\n"
     ]
    }
   ],
   "source": [
    "%%time\n",
    "# This takes some time\n",
    "oct_result = krotov.optimize_pulses(\n",
    "    objectives, pulse_options, tlist,\n",
    "    propagator=krotov.propagators.expm,\n",
    "    chi_constructor=krotov.functionals.chis_re,\n",
    "    info_hook=print_fidelity, iter_stop=30\n",
    "    )"
   ]
  },
  {
   "cell_type": "code",
   "execution_count": null,
   "metadata": {},
   "outputs": [],
   "source": [
    "%%time\n",
    "# This does not work!\n",
    "prop = krotov.propagators.StateHamODEPropagator()\n",
    "oct_result = krotov.optimize_pulses(\n",
    "    objectives, pulse_options, tlist,\n",
    "    propagator=prop,\n",
    "    chi_constructor=krotov.functionals.chis_re,\n",
    "    info_hook=print_fidelity, iter_stop=3,\n",
    "    parallel_map=qutip.parallel.serial_map,\n",
    "    )"
   ]
  },
  {
   "cell_type": "markdown",
   "metadata": {},
   "source": [
    "--------"
   ]
  },
  {
   "cell_type": "markdown",
   "metadata": {},
   "source": [
    "<div class=\"alert alert-block alert-warning\">\n",
    "From here on it is just some testing and preliminary stuff\n",
    "</div>"
   ]
  },
  {
   "cell_type": "markdown",
   "metadata": {},
   "source": [
    "--------"
   ]
  },
  {
   "cell_type": "code",
   "execution_count": null,
   "metadata": {},
   "outputs": [],
   "source": [
    "#oct_result = krotov.result.Result().load(\"ensemble_results/res.krotov\")"
   ]
  },
  {
   "cell_type": "markdown",
   "metadata": {},
   "source": [
    "After the optimization has finished, we can have a look on the optimized control pulses ..."
   ]
  },
  {
   "cell_type": "code",
   "execution_count": null,
   "metadata": {},
   "outputs": [],
   "source": [
    "plot_pulse(oct_result.optimized_controls[0], tlist)\n",
    "plot_pulse(oct_result.optimized_controls[1], tlist)\n",
    "plot_pulse(oct_result.optimized_controls[2], tlist)\n",
    "plot_pulse(oct_result.optimized_controls[3], tlist)"
   ]
  },
  {
   "cell_type": "markdown",
   "metadata": {},
   "source": [
    "... and verify the results"
   ]
  },
  {
   "cell_type": "code",
   "execution_count": null,
   "metadata": {},
   "outputs": [],
   "source": [
    "opt_dynamics = [opt_objctv.mesolve( tlist, e_ops=basis_proj) for opt_objctv in oct_result.optimized_objectives]"
   ]
  },
  {
   "cell_type": "code",
   "execution_count": null,
   "metadata": {},
   "outputs": [],
   "source": [
    "plot_population(opt_dynamics)"
   ]
  },
  {
   "cell_type": "code",
   "execution_count": null,
   "metadata": {},
   "outputs": [],
   "source": [
    "[basis_states[i].dag()*oct_result.states[i] for i in range(4)]"
   ]
  },
  {
   "cell_type": "code",
   "execution_count": null,
   "metadata": {},
   "outputs": [],
   "source": [
    "oct_result.tau_vals[-1]"
   ]
  },
  {
   "cell_type": "markdown",
   "metadata": {},
   "source": [
    "## Optimization *with* ensembles"
   ]
  },
  {
   "cell_type": "markdown",
   "metadata": {},
   "source": [
    "Now, that we have seen, that we are able to optimize our system with the given Hamiltonian, we want to make it more robust with respect to fluctuations in the pulse amplitude and the Rydberg level.\n",
    "For this we choose an ensemble with N=9 Hamiltonians, each sampling the values of $\\Delta_{\\mathrm{ryd}}= \\pm 300\\mathrm{kHz}$ and the the dipole coupling strength $\\pm 5\\%$ "
   ]
  },
  {
   "cell_type": "markdown",
   "metadata": {},
   "source": [
    "###  Getting the ensemble of Hamiltonians"
   ]
  },
  {
   "cell_type": "markdown",
   "metadata": {},
   "source": [
    "Now we do exactly the same thing as [above](#Optimization-without-ensembles), but we vary the parameters of $\\Delta_{\\mathrm{ryd}}$ and the dipole coupling strength. The resulting Hamiltonians (`ensemble_hamiltonian`) and the corresponding pulse options are stored in a list and dictionary, respectively."
   ]
  },
  {
   "cell_type": "code",
   "execution_count": null,
   "metadata": {},
   "outputs": [],
   "source": [
    "ham_ensemble=[]\n",
    "pulse_option_ensemble = pulse_options.copy()\n",
    "\n",
    "for Δryd in [-.3e-3,0,.3e-3]:\n",
    "    for dipl_coupl_str_factor in [.95,1.,1.05]:\n",
    "        # continue if no variation present\n",
    "        if Δryd == 0 and dipl_coupl_str_factor==1:\n",
    "            continue\n",
    "            \n",
    "        ensemble_hamiltonian = \\\n",
    "            get_ham_2q(rabi_freq_blue=dipl_coupl_str_factor*rabi_freq_blue,\n",
    "                       rabi_freq_red =dipl_coupl_str_factor*rabi_freq_red, \n",
    "                       diag=[0,e1,delta_1,delta_2+Δryd])\n",
    "        \n",
    "        #adding pulse options for the whole ensemble\n",
    "        ensemble_hamiltonian[1][1] = Ham[1][1] #  left atom blue\n",
    "        ensemble_hamiltonian[2][1] = Ham[2][1] #  left atom red\n",
    "        ensemble_hamiltonian[3][1] = Ham[3][1] # right atom blue\n",
    "        ensemble_hamiltonian[4][1] = Ham[4][1] # right atom red\n",
    "        \n",
    "        pulse_option_ensemble.update(\n",
    "         {  ensemble_hamiltonian[1][1]: krotov.PulseOptions(\n",
    "                            lambda_a=lambda_11, \n",
    "                            shape=lambda t: (ensemble_hamiltonian[1][1](t,None)\n",
    "                                             /np.amax(ensemble_hamiltonian[1][1](tlist,None))),\n",
    "            ensemble_hamiltonian[2][1]: krotov.PulseOptions(\n",
    "                            lambda_a=lambda_21, \n",
    "                            shape=lambda t: (ensemble_hamiltonian[2][1](t,None)\n",
    "                                             /np.amax(ensemble_hamiltonian[2][1](tlist,None))),\n",
    "            ensemble_hamiltonian[3][1]: krotov.PulseOptions(\n",
    "                            lambda_a=lambda_31, \n",
    "                            shape=lambda t: (ensemble_hamiltonian[3][1](t,None)\n",
    "                                             /np.amax(ensemble_hamiltonian[3][1](tlist,None))),\n",
    "            ensemble_hamiltonian[4][1]: krotov.PulseOptions(\n",
    "                            lambda_a=lambda_41, \n",
    "                            shape=lambda t: (ensemble_hamiltonian[4][1](t,None)\n",
    "                                             /np.amax(ensemble_hamiltonian[4][1](tlist,None))),\n",
    "          })\n",
    "                \n",
    "        ham_ensemble.append(ensemble_hamiltonian)\n"
   ]
  },
  {
   "cell_type": "markdown",
   "metadata": {},
   "source": [
    "Finally, we can create the ensemble objectives by using the `ensemble_objectives` routine of the krotov package..."
   ]
  },
  {
   "cell_type": "code",
   "execution_count": null,
   "metadata": {},
   "outputs": [],
   "source": [
    "ensemble_objectives = krotov.objectives.ensemble_objectives(objectives, ham_ensemble)"
   ]
  },
  {
   "cell_type": "markdown",
   "metadata": {},
   "source": [
    "... to optimize the pulses with them, as we did before"
   ]
  },
  {
   "cell_type": "code",
   "execution_count": null,
   "metadata": {},
   "outputs": [],
   "source": [
    "%%time\n",
    "oct_result_ensemble = krotov.optimize_pulses(\n",
    "    ensemble_objectives, pulse_option_ensemble, tlist,\n",
    "    propagator=krotov.propagators.expm,\n",
    "    chi_constructor=krotov.functionals.chis_re,\n",
    "    info_hook=print_fidelity, iter_stop=4\n",
    "    )"
   ]
  },
  {
   "cell_type": "code",
   "execution_count": null,
   "metadata": {},
   "outputs": [],
   "source": [
    "plot_pulse(oct_result_ensemble.optimized_controls[0], tlist)\n",
    "plot_pulse(oct_result_ensemble.optimized_controls[1], tlist)\n",
    "plot_pulse(oct_result_ensemble.optimized_controls[2], tlist)\n",
    "plot_pulse(oct_result_ensemble.optimized_controls[3], tlist)"
   ]
  },
  {
   "cell_type": "code",
   "execution_count": null,
   "metadata": {},
   "outputs": [],
   "source": []
  },
  {
   "cell_type": "code",
   "execution_count": null,
   "metadata": {},
   "outputs": [],
   "source": []
  },
  {
   "cell_type": "code",
   "execution_count": null,
   "metadata": {},
   "outputs": [],
   "source": []
  },
  {
   "cell_type": "code",
   "execution_count": null,
   "metadata": {},
   "outputs": [],
   "source": []
  }
 ],
 "metadata": {
  "kernelspec": {
   "display_name": "Python 3",
   "language": "python",
   "name": "python3"
  },
  "language_info": {
   "codemirror_mode": {
    "name": "ipython",
    "version": 3
   },
   "file_extension": ".py",
   "mimetype": "text/x-python",
   "name": "python",
   "nbconvert_exporter": "python",
   "pygments_lexer": "ipython3",
   "version": "3.6.8"
  }
 },
 "nbformat": 4,
 "nbformat_minor": 2
}
