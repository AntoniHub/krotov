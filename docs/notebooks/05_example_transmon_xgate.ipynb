{
 "cells": [
  {
   "cell_type": "markdown",
   "metadata": {},
   "source": [
    "# Optimization of an X-Gate for a Transmon Qubit"
   ]
  },
  {
   "cell_type": "code",
   "execution_count": 1,
   "metadata": {},
   "outputs": [
    {
     "name": "stdout",
     "output_type": "stream",
     "text": [
      "scipy            1.2.0\n",
      "matplotlib       3.0.2\n",
      "krotov           0.1.0.post1+dev\n",
      "qutip            4.3.1\n",
      "numpy            1.15.4\n",
      "matplotlib.pylab 1.15.4\n",
      "CPython 3.6.8\n",
      "IPython 7.2.0\n"
     ]
    }
   ],
   "source": [
    "# NBVAL_IGNORE_OUTPUT\n",
    "%load_ext watermark\n",
    "import qutip\n",
    "import numpy as np\n",
    "import scipy\n",
    "import matplotlib\n",
    "import matplotlib.pylab as plt\n",
    "import krotov\n",
    "%watermark -v --iversions"
   ]
  },
  {
   "cell_type": "markdown",
   "metadata": {},
   "source": [
    "$\\newcommand{tr}[0]{\\operatorname{tr}}\n",
    "\\newcommand{diag}[0]{\\operatorname{diag}}\n",
    "\\newcommand{abs}[0]{\\operatorname{abs}}\n",
    "\\newcommand{pop}[0]{\\operatorname{pop}}\n",
    "\\newcommand{aux}[0]{\\text{aux}}\n",
    "\\newcommand{opt}[0]{\\text{opt}}\n",
    "\\newcommand{tgt}[0]{\\text{tgt}}\n",
    "\\newcommand{init}[0]{\\text{init}}\n",
    "\\newcommand{lab}[0]{\\text{lab}}\n",
    "\\newcommand{rwa}[0]{\\text{rwa}}\n",
    "\\newcommand{bra}[1]{\\langle#1\\vert}\n",
    "\\newcommand{ket}[1]{\\vert#1\\rangle}\n",
    "\\newcommand{Bra}[1]{\\left\\langle#1\\right\\vert}\n",
    "\\newcommand{Ket}[1]{\\left\\vert#1\\right\\rangle}\n",
    "\\newcommand{Braket}[2]{\\left\\langle #1\\vphantom{#2} \\mid #2\\vphantom{#1}\\right\\rangle}\n",
    "\\newcommand{op}[1]{\\hat{#1}}\n",
    "\\newcommand{Op}[1]{\\hat{#1}}\n",
    "\\newcommand{dd}[0]{\\,\\text{d}}\n",
    "\\newcommand{Liouville}[0]{\\mathcal{L}}\n",
    "\\newcommand{DynMap}[0]{\\mathcal{E}}\n",
    "\\newcommand{identity}[0]{\\mathbf{1}}\n",
    "\\newcommand{Norm}[1]{\\lVert#1\\rVert}\n",
    "\\newcommand{Abs}[1]{\\left\\vert#1\\right\\vert}\n",
    "\\newcommand{avg}[1]{\\langle#1\\rangle}\n",
    "\\newcommand{Avg}[1]{\\left\\langle#1\\right\\rangle}\n",
    "\\newcommand{AbsSq}[1]{\\left\\vert#1\\right\\vert^2}\n",
    "\\newcommand{Re}[0]{\\operatorname{Re}}\n",
    "\\newcommand{Im}[0]{\\operatorname{Im}}$"
   ]
  },
  {
   "cell_type": "markdown",
   "metadata": {},
   "source": [
    "## Define the Hamiltonian"
   ]
  },
  {
   "cell_type": "markdown",
   "metadata": {
    "lines_to_next_cell": 2
   },
   "source": [
    "The effective Hamiltonian of a single transmon depends on the capacitive energy $E_C=e^2/2C$ and the Josephson energy $E_J$, an energy due to the Josephson junction working as a nonlinear inductor periodic with the flux $\\Phi$. In the so-called transmon limit the ratio between these two energies lie around $E_J / E_C \\approx 45$. The time-independent Hamiltonian can be described then as\n",
    "\n",
    "\\begin{equation*}\n",
    "\\op{H}_{0} = 4 E_C (\\hat{n}-n_g)^2 - E_J \\cos(\\hat{\\Phi})\n",
    "\\end{equation*}\n",
    "\n",
    "where $\\hat{n}$ is the number operator, which count how many Cooper pairs cross the junction, and $n_g$ being the effective offset charge measured in Cooper pair charge units. The aforementioned equation can be written in a truncated charge basis defined by the number operator $\\op{n} \\ket{n} = n \\ket{n}$ such that\n",
    "\n",
    "\\begin{equation*}\n",
    "\\op{H}_{0} = 4 E_C \\sum_{j=-N} ^N (j-n_g)^2 |j \\rangle \\langle j| - \\frac{E_J}{2} \\sum_{j=-N} ^{N-1} ( |j+1\\rangle\\langle j| + |j\\rangle\\langle j+1|).\n",
    "\\end{equation*}\n",
    "\n",
    "If we apply a potential $V(t)$ to the qubit the complete Hamiltonian is changed to\n",
    "\n",
    "\\begin{equation*}\n",
    "\\op{H} = \\op{H}_{0} + V(t) \\cdot \\op{H}_{1}\n",
    "\\end{equation*}\n",
    "\n",
    "The interaction Hamiltonian $\\op{H}_1$ is then equivalent to the charge operator $\\op{q}$, which in the truncated charge basis can be written as\n",
    "\n",
    "\\begin{equation*}\n",
    "\\op{H}_1 = \\op{q} = \\sum_{j=-N} ^N -2n \\ket{n} \\bra{n}.\n",
    "\\end{equation*}\n",
    "\n",
    "Note that the -2 coefficient is just indicating that the charge carriers here are Cooper pairs, each with a charge of $-2e$.\n",
    "\n",
    "We define the logic states $\\ket{0_l}$ and $\\ket{1_l}$ (not to be confused with the charge states $\\ket{n=0}$ and $\\ket{n=1}$) as the eigenstates of the free Hamiltonian $\\op{H}_0$ with the lowest energy. The problem to solve is find a potential $V_{opt}(t)$ such that after a given final time $T$ can\n",
    "\n"
   ]
  },
  {
   "cell_type": "code",
   "execution_count": 2,
   "metadata": {
    "ExecuteTime": {
     "end_time": "2019-01-31T00:29:08.505350Z",
     "start_time": "2019-01-31T00:29:08.492253Z"
    },
    "lines_to_next_cell": 2
   },
   "outputs": [],
   "source": [
    "def transmon_ham_and_states(\n",
    "    Ec=0.386, EjEc=45, nstates=8, ng=0.0, T=10.0, steps=1000\n",
    "):\n",
    "    \"\"\"Transmon Hamiltonian\"\"\"\n",
    "    # Ec       :  capacitive energy\n",
    "    # EjEc     :  ratio Ej / Ec\n",
    "    # nstates  :  defines the maximum and minimum states for the basis. The truncated basis\n",
    "    #             will have a total of 2*nstates + 1 states\n",
    "\n",
    "    Ej = EjEc * Ec\n",
    "    n = np.arange(-nstates, nstates + 1)\n",
    "    up = np.diag(np.ones(2 * nstates), k=-1)\n",
    "    do = up.T\n",
    "    H0 = qutip.Qobj(np.diag(4 * Ec * (n - ng) ** 2) - Ej * (up + do) / 2.0)\n",
    "    H1 = qutip.Qobj(-2 * np.diag(n))\n",
    "\n",
    "    eigenvals, eigenvecs = scipy.linalg.eig(H0.full())\n",
    "    ndx = np.argsort(eigenvals.real)\n",
    "    E = eigenvals[ndx].real\n",
    "    V = eigenvecs[:, ndx]\n",
    "    w01 = E[1] - E[0]  # Transition energy between states\n",
    "\n",
    "    psi0 = qutip.Qobj(V[:, 0])\n",
    "    psi1 = qutip.Qobj(V[:, 1])\n",
    "\n",
    "    profile = lambda t: np.exp(-40.0 * (t / T - 0.5) ** 2)\n",
    "    eps0 = lambda t, args: 0.5 * profile(t) * np.cos(8 * np.pi * w01 * t)\n",
    "    return ([H0, [H1, eps0]], psi0, psi1)"
   ]
  },
  {
   "cell_type": "code",
   "execution_count": 3,
   "metadata": {
    "ExecuteTime": {
     "end_time": "2019-01-31T00:29:08.524967Z",
     "start_time": "2019-01-31T00:29:08.509095Z"
    }
   },
   "outputs": [],
   "source": [
    "H, psi0, psi1 = transmon_ham_and_states()"
   ]
  },
  {
   "cell_type": "markdown",
   "metadata": {},
   "source": [
    "We introduce the projectors $P_i = \\ket{\\psi _i}\\bra{\\psi _i}$ for the logic states $\\ket{\\psi _i} \\in \\{\\ket{0_l}, \\ket{1_l}\\}$"
   ]
  },
  {
   "cell_type": "code",
   "execution_count": 4,
   "metadata": {
    "ExecuteTime": {
     "end_time": "2019-01-31T00:29:08.538557Z",
     "start_time": "2019-01-31T00:29:08.530210Z"
    }
   },
   "outputs": [],
   "source": [
    "proj0 = psi0 * psi0.dag()\n",
    "proj1 = psi1 * psi1.dag()"
   ]
  },
  {
   "cell_type": "markdown",
   "metadata": {},
   "source": [
    "## Optimization target"
   ]
  },
  {
   "cell_type": "markdown",
   "metadata": {},
   "source": [
    "We choose our X-gate to be defined during a time interval starting at $t_{0} = 0$ and ending at $T = 10$, with a total of $nt = 1000$ time steps."
   ]
  },
  {
   "cell_type": "code",
   "execution_count": 5,
   "metadata": {
    "ExecuteTime": {
     "end_time": "2019-01-31T00:29:08.555125Z",
     "start_time": "2019-01-31T00:29:08.542874Z"
    }
   },
   "outputs": [],
   "source": [
    "tlist = np.linspace(0, 10, 1000)"
   ]
  },
  {
   "cell_type": "markdown",
   "metadata": {},
   "source": [
    "We make use of the $\\sigma _{x}$ operator included in QuTiP to define our objective:"
   ]
  },
  {
   "cell_type": "code",
   "execution_count": 6,
   "metadata": {
    "ExecuteTime": {
     "end_time": "2019-01-31T00:29:08.569805Z",
     "start_time": "2019-01-31T00:29:08.557781Z"
    }
   },
   "outputs": [],
   "source": [
    "objectives = krotov.gate_objectives(\n",
    "    basis_states=[psi0, psi1], gate=qutip.operators.sigmax(), H=H\n",
    ")"
   ]
  },
  {
   "cell_type": "markdown",
   "metadata": {},
   "source": [
    "We define the desired shape of the pulse and the update factor $\\lambda _a$"
   ]
  },
  {
   "cell_type": "code",
   "execution_count": 7,
   "metadata": {
    "ExecuteTime": {
     "end_time": "2019-01-31T00:29:08.583127Z",
     "start_time": "2019-01-31T00:29:08.573188Z"
    }
   },
   "outputs": [],
   "source": [
    "def S(t):\n",
    "    \"\"\"Shape function for the pulse update\"\"\"\n",
    "    dt = tlist[1] - tlist[0]\n",
    "    steps = len(tlist)\n",
    "    return np.exp(-40.0 * (t / ((steps - 1) * dt) - 0.5) ** 2)\n",
    "\n",
    "\n",
    "pulse_options = {H[1][1]: dict(lambda_a=1, shape=S)}\n"
   ]
  },
  {
   "cell_type": "markdown",
   "metadata": {
    "lines_to_next_cell": 2
   },
   "source": [
    "It may be useful to check the fidelity after each iteration. To achieve this, we define a simple function that will be used by the main routine\n"
   ]
  },
  {
   "cell_type": "code",
   "execution_count": 8,
   "metadata": {
    "ExecuteTime": {
     "end_time": "2019-01-31T00:29:08.593176Z",
     "start_time": "2019-01-31T00:29:08.587397Z"
    },
    "lines_to_next_cell": 2
   },
   "outputs": [],
   "source": [
    "def print_fidelity(**args):\n",
    "    F_re = np.average(np.array(args['tau_vals']).real)\n",
    "    print(\"Iteration %d: \\tF = %f\" % (args['iteration'], F_re))\n",
    "    return F_re"
   ]
  },
  {
   "cell_type": "markdown",
   "metadata": {
    "lines_to_next_cell": 2
   },
   "source": [
    "## Simulate dynamics of the guess pulse\n"
   ]
  },
  {
   "cell_type": "code",
   "execution_count": 9,
   "metadata": {
    "ExecuteTime": {
     "end_time": "2019-01-31T00:29:08.603274Z",
     "start_time": "2019-01-31T00:29:08.596453Z"
    }
   },
   "outputs": [],
   "source": [
    "def plot_pulse(pulse, tlist):\n",
    "    fig, ax = plt.subplots()\n",
    "    if callable(pulse):\n",
    "        pulse = np.array([pulse(t, None) for t in tlist])\n",
    "    ax.plot(tlist, pulse)\n",
    "    ax.set_xlabel('time')\n",
    "    ax.set_ylabel('pulse amplitude')\n",
    "    plt.show(fig)"
   ]
  },
  {
   "cell_type": "code",
   "execution_count": 10,
   "metadata": {
    "ExecuteTime": {
     "end_time": "2019-01-31T00:29:08.800235Z",
     "start_time": "2019-01-31T00:29:08.606206Z"
    }
   },
   "outputs": [
    {
     "data": {
      "image/png": "[encoded data removed]",
      "text/plain": [
       "<Figure size 432x288 with 1 Axes>"
      ]
     },
     "metadata": {
      "needs_background": "light"
     },
     "output_type": "display_data"
    }
   ],
   "source": [
    "plot_pulse(H[1][1], tlist)"
   ]
  },
  {
   "cell_type": "markdown",
   "metadata": {},
   "source": [
    "Once we are sure to have obtained the desired guess pulse, the dynamics for the initial guess can be found easily"
   ]
  },
  {
   "cell_type": "code",
   "execution_count": 11,
   "metadata": {
    "ExecuteTime": {
     "end_time": "2019-01-31T00:29:09.932858Z",
     "start_time": "2019-01-31T00:29:08.802261Z"
    },
    "lines_to_next_cell": 2
   },
   "outputs": [],
   "source": [
    "guess_dynamics = [\n",
    "    objectives[x].mesolve(tlist, e_ops=[proj0, proj1]) for x in [0, 1]\n",
    "]\n",
    "# using initial state psi0 = objectives[0].initial_state"
   ]
  },
  {
   "cell_type": "code",
   "execution_count": 12,
   "metadata": {
    "ExecuteTime": {
     "end_time": "2019-01-31T00:29:09.939485Z",
     "start_time": "2019-01-31T00:29:09.934975Z"
    }
   },
   "outputs": [],
   "source": [
    "def plot_population(result):\n",
    "    fig, ax = plt.subplots()\n",
    "    ax.plot(result.times, result.expect[0], label='0')\n",
    "    ax.plot(result.times, result.expect[1], label='1')\n",
    "    ax.legend()\n",
    "    ax.set_xlabel('time')\n",
    "    ax.set_ylabel('population')\n",
    "    plt.show(fig)"
   ]
  },
  {
   "cell_type": "code",
   "execution_count": 13,
   "metadata": {
    "ExecuteTime": {
     "end_time": "2019-01-31T00:29:10.291810Z",
     "start_time": "2019-01-31T00:29:09.942317Z"
    }
   },
   "outputs": [
    {
     "data": {
      "image/png": "[encoded data removed]",
      "text/plain": [
       "<Figure size 432x288 with 1 Axes>"
      ]
     },
     "metadata": {
      "needs_background": "light"
     },
     "output_type": "display_data"
    },
    {
     "data": {
      "image/png": "[encoded data removed]",
      "text/plain": [
       "<Figure size 432x288 with 1 Axes>"
      ]
     },
     "metadata": {
      "needs_background": "light"
     },
     "output_type": "display_data"
    }
   ],
   "source": [
    "plot_population(guess_dynamics[0])\n",
    "plot_population(guess_dynamics[1])"
   ]
  },
  {
   "cell_type": "markdown",
   "metadata": {},
   "source": [
    "It is obvioius that our initial guess is not even near the pulse that we are trying to achieve. However we will still use it and try to see what results that we can obtain."
   ]
  },
  {
   "cell_type": "markdown",
   "metadata": {},
   "source": [
    "## Optimize"
   ]
  },
  {
   "cell_type": "markdown",
   "metadata": {},
   "source": [
    "We now use all the information that we have gathered to initialize\n",
    "the optimization routine. That is:\n",
    "\n",
    "* The `objectives`: creating an X-gate in the given basis.\n",
    "\n",
    "* The `pulse_options`: initial pulses and their shapes restrictions.\n",
    "\n",
    "* The `tlist`: time grid used for the propagation.\n",
    "\n",
    "* The `propagator`: propagation method that will be used.\n",
    "\n",
    "* The `chi_constructor`: the optimization functional to use.\n",
    "\n",
    "* The `info_hook`: the subroutines to be called and data to be analized inbetween iterations.\n",
    "\n",
    "* The `iter_stop`: the number of iterations to perform the optimization."
   ]
  },
  {
   "cell_type": "code",
   "execution_count": 14,
   "metadata": {
    "ExecuteTime": {
     "end_time": "2019-01-31T00:30:08.456448Z",
     "start_time": "2019-01-31T00:29:43.409569Z"
    }
   },
   "outputs": [
    {
     "name": "stdout",
     "output_type": "stream",
     "text": [
      "Iteration 0: \tF = -0.000000\n",
      "Iteration 1: \tF = 0.107476\n",
      "Iteration 2: \tF = 0.410731\n",
      "Iteration 3: \tF = 0.694585\n",
      "Iteration 4: \tF = 0.757263\n",
      "Iteration 5: \tF = 0.773342\n"
     ]
    }
   ],
   "source": [
    "oct_result = krotov.optimize_pulses(\n",
    "    objectives,\n",
    "    pulse_options,\n",
    "    tlist,\n",
    "    propagator=krotov.propagators.expm,\n",
    "    chi_constructor=krotov.functionals.chis_re,\n",
    "    info_hook=print_fidelity,\n",
    "    iter_stop=5,\n",
    "    parallel_map=(\n",
    "        qutip.parallel_map,\n",
    "        qutip.parallel_map,\n",
    "        krotov.parallelization.parallel_map_fw_prop_step,\n",
    "    ),\n",
    ")"
   ]
  },
  {
   "cell_type": "markdown",
   "metadata": {},
   "source": [
    "## Simulate dynamics of the optimized pulse"
   ]
  },
  {
   "cell_type": "markdown",
   "metadata": {},
   "source": [
    "We want to see how much the results have improved after the optimization."
   ]
  },
  {
   "cell_type": "code",
   "execution_count": 15,
   "metadata": {
    "ExecuteTime": {
     "end_time": "2019-01-31T00:30:08.673427Z",
     "start_time": "2019-01-31T00:30:08.465991Z"
    }
   },
   "outputs": [
    {
     "data": {
      "image/png": "[encoded data removed]",
      "text/plain": [
       "<Figure size 432x288 with 1 Axes>"
      ]
     },
     "metadata": {
      "needs_background": "light"
     },
     "output_type": "display_data"
    }
   ],
   "source": [
    "plot_pulse(oct_result.optimized_controls[0], tlist)"
   ]
  },
  {
   "cell_type": "code",
   "execution_count": 16,
   "metadata": {
    "ExecuteTime": {
     "end_time": "2019-01-31T00:30:10.080643Z",
     "start_time": "2019-01-31T00:30:08.679560Z"
    }
   },
   "outputs": [],
   "source": [
    "opt_dynamics = [\n",
    "    oct_result.optimized_objectives[x].mesolve(tlist, e_ops=[proj0, proj1])\n",
    "    for x in [0, 1]\n",
    "]"
   ]
  },
  {
   "cell_type": "code",
   "execution_count": 17,
   "metadata": {
    "ExecuteTime": {
     "end_time": "2019-01-31T00:30:12.041672Z",
     "start_time": "2019-01-31T00:30:10.083759Z"
    }
   },
   "outputs": [],
   "source": [
    "opt_states = [\n",
    "    oct_result.optimized_objectives[x].mesolve(tlist) for x in [0, 1]\n",
    "]"
   ]
  },
  {
   "cell_type": "code",
   "execution_count": 18,
   "metadata": {
    "ExecuteTime": {
     "end_time": "2019-01-31T00:30:12.263068Z",
     "start_time": "2019-01-31T00:30:12.043673Z"
    }
   },
   "outputs": [
    {
     "data": {
      "image/png": "[encoded data removed]",
      "text/plain": [
       "<Figure size 432x288 with 1 Axes>"
      ]
     },
     "metadata": {
      "needs_background": "light"
     },
     "output_type": "display_data"
    }
   ],
   "source": [
    "plot_population(opt_dynamics[0])"
   ]
  },
  {
   "cell_type": "code",
   "execution_count": 19,
   "metadata": {
    "ExecuteTime": {
     "end_time": "2019-01-31T00:30:12.460131Z",
     "start_time": "2019-01-31T00:30:12.266370Z"
    },
    "lines_to_next_cell": 2
   },
   "outputs": [
    {
     "data": {
      "image/png": "[encoded data removed]",
      "text/plain": [
       "<Figure size 432x288 with 1 Axes>"
      ]
     },
     "metadata": {
      "needs_background": "light"
     },
     "output_type": "display_data"
    }
   ],
   "source": [
    "plot_population(opt_dynamics[1])"
   ]
  },
  {
   "cell_type": "markdown",
   "metadata": {
    "lines_to_next_cell": 2
   },
   "source": [
    "In this case we do not only care about the expected value for the states, but since we want to implement a gate it is necessary to check whether we are performing a coherent control. We are then interested in the phase difference that we obtain after propagating the states from the logic basis.\n"
   ]
  },
  {
   "cell_type": "code",
   "execution_count": 20,
   "metadata": {
    "ExecuteTime": {
     "end_time": "2019-01-31T00:30:12.470761Z",
     "start_time": "2019-01-31T00:30:12.462873Z"
    }
   },
   "outputs": [],
   "source": [
    "def plot_gate(result):\n",
    "\n",
    "    num = len(result[0].states)\n",
    "    overlap_0 = np.vectorize(\n",
    "        lambda i: np.angle(result[0].states[i].overlap(psi1))\n",
    "    )\n",
    "    overlap_1 = np.vectorize(\n",
    "        lambda i: np.angle(result[1].states[i].overlap(psi0))\n",
    "    )\n",
    "\n",
    "    rel_phase = (overlap_0(np.arange(num)) - overlap_1(np.arange(num))) % (\n",
    "        2 * np.pi\n",
    "    )\n",
    "\n",
    "    fig, ax = plt.subplots()\n",
    "    ax.plot(result[0].times, rel_phase / np.pi)\n",
    "    ax.set_xlabel('time')\n",
    "    ax.set_ylabel('relative phase (π)')\n",
    "    plt.show(fig)\n",
    "    print('Final relative phase = %.2e' % rel_phase[-1])"
   ]
  },
  {
   "cell_type": "code",
   "execution_count": 21,
   "metadata": {
    "ExecuteTime": {
     "end_time": "2019-01-31T00:30:12.712344Z",
     "start_time": "2019-01-31T00:30:12.474237Z"
    }
   },
   "outputs": [
    {
     "data": {
      "image/png": "[encoded data removed]",
      "text/plain": [
       "<Figure size 432x288 with 1 Axes>"
      ]
     },
     "metadata": {
      "needs_background": "light"
     },
     "output_type": "display_data"
    },
    {
     "name": "stdout",
     "output_type": "stream",
     "text": [
      "Final relative phase = 3.48e-01\n"
     ]
    }
   ],
   "source": [
    "plot_gate(opt_states)"
   ]
  },
  {
   "cell_type": "markdown",
   "metadata": {},
   "source": [
    "We may also propagate the optimization result using the same propagator that was\n",
    "used in the optimization (instead of `qutip.mesolve`). The main difference\n",
    "between the two propagations is that `mesolve` assumes piecewise constant pulses\n",
    "that switch between two points in `tlist`, whereas `propagate` assumes that\n",
    "pulses are constant on the intervals of `tlist`, and thus switches *on* the\n",
    "points in `tlist`."
   ]
  },
  {
   "cell_type": "code",
   "execution_count": 22,
   "metadata": {
    "ExecuteTime": {
     "end_time": "2019-01-31T00:30:15.558501Z",
     "start_time": "2019-01-31T00:30:12.715401Z"
    }
   },
   "outputs": [],
   "source": [
    "opt_dynamics2 = [\n",
    "    oct_result.optimized_objectives[x].propagate(\n",
    "        tlist, e_ops=[proj0, proj1], propagator=krotov.propagators.expm\n",
    "    )\n",
    "    for x in [0, 1]\n",
    "]"
   ]
  },
  {
   "cell_type": "markdown",
   "metadata": {},
   "source": [
    "The difference between the two propagations gives an indication of the \"time\n",
    "discretization error\". If this error were unacceptably large, we would need a\n",
    "smaller time step."
   ]
  },
  {
   "cell_type": "code",
   "execution_count": 23,
   "metadata": {
    "ExecuteTime": {
     "end_time": "2019-01-31T00:30:15.565275Z",
     "start_time": "2019-01-31T00:30:15.560602Z"
    }
   },
   "outputs": [
    {
     "data": {
      "text/plain": [
       "'1.27e-04'"
      ]
     },
     "execution_count": 23,
     "metadata": {},
     "output_type": "execute_result"
    }
   ],
   "source": [
    "\"%.2e\" % abs(opt_dynamics2[0].expect[1][-1] - opt_dynamics[0].expect[1][-1])"
   ]
  }
 ],
 "metadata": {
  "hide_input": false,
  "jupytext": {
   "formats": ""
  },
  "kernelspec": {
   "display_name": "Python 3",
   "language": "python",
   "name": "python3"
  },
  "language_info": {
   "codemirror_mode": {
    "name": "ipython",
    "version": 3
   },
   "file_extension": ".py",
   "mimetype": "text/x-python",
   "name": "python",
   "nbconvert_exporter": "python",
   "pygments_lexer": "ipython3",
   "version": "3.6.8"
  },
  "toc": {
   "base_numbering": 1,
   "nav_menu": {},
   "number_sections": true,
   "sideBar": true,
   "skip_h1_title": false,
   "title_cell": "Table of Contents",
   "title_sidebar": "Contents",
   "toc_cell": false,
   "toc_position": {},
   "toc_section_display": true,
   "toc_window_display": false
  },
  "varInspector": {
   "cols": {
    "lenName": 16,
    "lenType": 16,
    "lenVar": 40
   },
   "kernels_config": {
    "python": {
     "delete_cmd_postfix": "",
     "delete_cmd_prefix": "del ",
     "library": "var_list.py",
     "varRefreshCmd": "print(var_dic_list())"
    },
    "r": {
     "delete_cmd_postfix": ") ",
     "delete_cmd_prefix": "rm(",
     "library": "var_list.r",
     "varRefreshCmd": "cat(var_dic_list()) "
    }
   },
   "types_to_exclude": [
    "module",
    "function",
    "builtin_function_or_method",
    "instance",
    "_Feature"
   ],
   "window_display": false
  }
 },
 "nbformat": 4,
 "nbformat_minor": 2
}
