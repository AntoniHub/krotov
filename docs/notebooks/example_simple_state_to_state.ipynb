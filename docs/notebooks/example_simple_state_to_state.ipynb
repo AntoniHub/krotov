{
 "cells": [
  {
   "cell_type": "markdown",
   "metadata": {},
   "source": [
    "# Optimization of a State-to-State Transfer in a Two-Level-System"
   ]
  },
  {
   "cell_type": "code",
   "execution_count": 1,
   "metadata": {
    "attributes": {
     "classes": [],
     "id": "",
     "n": "1"
    }
   },
   "outputs": [
    {
     "name": "stdout",
     "output_type": "stream",
     "text": [
      "qutip       4.3.1\n",
      "numpy       1.15.4\n",
      "scipy       1.1.0\n",
      "matplotlib  3.0.2\n",
      "matplotlib.pylab  1.15.4\n",
      "krotov      0.0.1\n",
      "CPython 3.6.7\n",
      "IPython 7.1.1\n"
     ]
    }
   ],
   "source": [
    "# NBVAL_IGNORE_OUTPUT\n",
    "%load_ext watermark\n",
    "import qutip\n",
    "import numpy as np\n",
    "import scipy\n",
    "import matplotlib\n",
    "import matplotlib.pylab as plt\n",
    "import krotov\n",
    "%watermark -v --iversions"
   ]
  },
  {
   "cell_type": "markdown",
   "metadata": {},
   "source": [
    "$\\newcommand{tr}[0]{\\operatorname{tr}}\n",
    "\\newcommand{diag}[0]{\\operatorname{diag}}\n",
    "\\newcommand{abs}[0]{\\operatorname{abs}}\n",
    "\\newcommand{pop}[0]{\\operatorname{pop}}\n",
    "\\newcommand{aux}[0]{\\text{aux}}\n",
    "\\newcommand{opt}[0]{\\text{opt}}\n",
    "\\newcommand{tgt}[0]{\\text{tgt}}\n",
    "\\newcommand{init}[0]{\\text{init}}\n",
    "\\newcommand{lab}[0]{\\text{lab}}\n",
    "\\newcommand{rwa}[0]{\\text{rwa}}\n",
    "\\newcommand{bra}[1]{\\langle#1\\vert}\n",
    "\\newcommand{ket}[1]{\\vert#1\\rangle}\n",
    "\\newcommand{Bra}[1]{\\left\\langle#1\\right\\vert}\n",
    "\\newcommand{Ket}[1]{\\left\\vert#1\\right\\rangle}\n",
    "\\newcommand{Braket}[2]{\\left\\langle #1\\vphantom{#2} \\mid #2\\vphantom{#1}\\right\\rangle}\n",
    "\\newcommand{op}[1]{\\hat{#1}}\n",
    "\\newcommand{Op}[1]{\\hat{#1}}\n",
    "\\newcommand{dd}[0]{\\,\\text{d}}\n",
    "\\newcommand{Liouville}[0]{\\mathcal{L}}\n",
    "\\newcommand{DynMap}[0]{\\mathcal{E}}\n",
    "\\newcommand{identity}[0]{\\mathbf{1}}\n",
    "\\newcommand{Norm}[1]{\\lVert#1\\rVert}\n",
    "\\newcommand{Abs}[1]{\\left\\vert#1\\right\\vert}\n",
    "\\newcommand{avg}[1]{\\langle#1\\rangle}\n",
    "\\newcommand{Avg}[1]{\\left\\langle#1\\right\\rangle}\n",
    "\\newcommand{AbsSq}[1]{\\left\\vert#1\\right\\vert^2}\n",
    "\\newcommand{Re}[0]{\\operatorname{Re}}\n",
    "\\newcommand{Im}[0]{\\operatorname{Im}}$"
   ]
  },
  {
   "cell_type": "markdown",
   "metadata": {},
   "source": [
    "The purpose of this example is not to solve an especially interesting physical problem but to give a rather simple example of how the package can be used in order to solve an optimization problem."
   ]
  },
  {
   "cell_type": "markdown",
   "metadata": {},
   "source": [
    "## Define the Hamiltonian\n",
    "\n",
    "In the following the Hamiltonian, guess field and\n",
    "states are defined.\n",
    "\n",
    "The Hamiltonian $\\op{H}_{0} = - \\omega \\op{\\sigma}_{z}$ represents a\n",
    "simple qubit with energy\n",
    "level splitting $\\omega$ in the basis $\\{\\ket{0},\\ket{1}\\}$. The control\n",
    "field $\\epsilon(t)$ is assumed to couple via the\n",
    "Hamiltonian $\\op{H}_{1}(t) =\n",
    "\\epsilon(t) \\op{\\sigma}_{x}$ to the qubit, i.e., the control\n",
    "field effectively drives\n",
    "transitions between both qubit states. For now, we initialize the control field as constant."
   ]
  },
  {
   "cell_type": "code",
   "execution_count": 2,
   "metadata": {
    "attributes": {
     "classes": [],
     "id": "",
     "n": "2"
    }
   },
   "outputs": [],
   "source": [
    "def ham_and_states(omega=1.0, ampl0=0.1):\n",
    "    \"\"\"Two-level-system Hamiltonian\n",
    "    \n",
    "    Args:\n",
    "        omega (float): energy separation of the qubit levels\n",
    "        ampl0 (float): constant amplitude of the driving field\n",
    "    \"\"\"\n",
    "    H0 = qutip.Qobj(0.5*omega*np.diag([-1,1]))\n",
    "    H1 = qutip.Qobj(np.mat([[1,2],[3,4]]))\n",
    "\n",
    "    psi0 = qutip.Qobj(np.array([1,0]))\n",
    "    psi1 = qutip.Qobj(np.array([0,1]))\n",
    "\n",
    "    eps0 = lambda t, args: ampl0\n",
    "    return ([H0, [H1, eps0]], psi0, psi1)"
   ]
  },
  {
   "cell_type": "code",
   "execution_count": 3,
   "metadata": {
    "attributes": {
     "classes": [],
     "id": "",
     "n": "3"
    }
   },
   "outputs": [],
   "source": [
    "H, psi0, psi1 = ham_and_states()"
   ]
  },
  {
   "cell_type": "markdown",
   "metadata": {},
   "source": [
    "The projectors $\\op{P}_0 = \\ket{0}\\bra{0}$ and $\\op{P}_1 = \\ket{1}\\bra{1}$ are introduced since they allow for calculating the\n",
    "population in the respective states later on."
   ]
  },
  {
   "cell_type": "code",
   "execution_count": 4,
   "metadata": {
    "attributes": {
     "classes": [],
     "id": "",
     "n": "4"
    }
   },
   "outputs": [],
   "source": [
    "proj0 = psi0 * psi0.dag()\n",
    "proj1 = psi1 * psi1.dag()"
   ]
  },
  {
   "cell_type": "markdown",
   "metadata": {},
   "source": [
    "## Define the optimization target\n",
    "\n",
    "First we define the time grid of the\n",
    "dynamics, i.e., by taking the following\n",
    "values as an example, we define the\n",
    "initial state to be at time $t=0$ and\n",
    "consider a total propagation time of\n",
    "$T=5$. The entire time grid is divided into\n",
    "$n_{t}=500$ equidistant time steps."
   ]
  },
  {
   "cell_type": "code",
   "execution_count": 5,
   "metadata": {
    "attributes": {
     "classes": [],
     "id": "",
     "n": "5"
    }
   },
   "outputs": [],
   "source": [
    "tlist = np.linspace(0, 5, 500)"
   ]
  },
  {
   "cell_type": "markdown",
   "metadata": {},
   "source": [
    "Next, we define the optimization targets, which is technically a list of objectives, but here it has just one entry defining a simple state-to-state transfer\n",
    "from initial state $\\ket{\\Psi_{\\init}} = \\ket{0}$ to the target state\n",
    "$\\ket{\\Psi_{\\tgt}} = \\ket{1}$, which we want to reach at final time $T$. Note\n",
    "that we also have to pass the Hamiltonian $\\op{H}(t)$ that determines the dynamics of\n",
    "the system to the optimization objective."
   ]
  },
  {
   "cell_type": "code",
   "execution_count": 6,
   "metadata": {
    "attributes": {
     "classes": [],
     "id": "",
     "n": "6"
    }
   },
   "outputs": [],
   "source": [
    "objectives = [\n",
    "    krotov.Objective(initial_state=psi0, target_state=psi1, H=H)\n",
    "]"
   ]
  },
  {
   "cell_type": "markdown",
   "metadata": {},
   "source": [
    "In addition, we have to define and assign a shape function $S(t)$ for the update in each control iteration to each\n",
    "control field that will be updated. This shape usually takes care of\n",
    "experimental limits such as the necessity of finite ramps at the beginning and\n",
    "end of the control field or other conceivable limitations for field shapes: wherever $S(t)$ is zero, the optimization will not change the value of the control from the original guess."
   ]
  },
  {
   "cell_type": "code",
   "execution_count": 7,
   "metadata": {
    "attributes": {
     "classes": [],
     "id": "",
     "n": "7"
    }
   },
   "outputs": [],
   "source": [
    "def S(t):\n",
    "    \"\"\"Shape function for the field update\"\"\"\n",
    "    return krotov.shapes.flattop(t, t_start=0, t_stop=5, t_rise=0.3, t_fall=0.3, func='sinsq')"
   ]
  },
  {
   "cell_type": "markdown",
   "metadata": {},
   "source": [
    "At this point, we also change the initial control field $\\epsilon_{0}(t)$ from a constant to a shaped pulse that switches on smoothly from zero and again switches off at the final time $T$. We re-use the shape function $S(t)$ that we defined for the updates for this purpose (although generally, $S(t)$ for the updates has nothing to with the shape of the control field)."
   ]
  },
  {
   "cell_type": "code",
   "execution_count": 8,
   "metadata": {},
   "outputs": [],
   "source": [
    "def shape_field(eps0):\n",
    "    \"\"\"Applies the shape function S(t) to the guess field\"\"\"\n",
    "    eps0_shaped = lambda t, args: eps0(t, args)*S(t)\n",
    "    return eps0_shaped\n",
    "\n",
    "H[1][1] = shape_field(H[1][1])"
   ]
  },
  {
   "cell_type": "markdown",
   "metadata": {},
   "source": [
    "Having defined the shape function $S(t)$ and having shaped the guess field, we now tell the optimization to also use $S(t)$ as the update-shape for $\\epsilon_0(t)$. In addition, we have to choose `lambda_a` for each control field. It controls the update magnitude of the respective field in each iteration."
   ]
  },
  {
   "cell_type": "code",
   "execution_count": 9,
   "metadata": {},
   "outputs": [],
   "source": [
    "pulse_options = {\n",
    "    H[1][1]: krotov.PulseOptions(lambda_a=5, shape=S)\n",
    "}"
   ]
  },
  {
   "cell_type": "markdown",
   "metadata": {},
   "source": [
    "It is convenient to introduce the function `print_fidelity`, which can be passed to the optimization procedure and will be called after each iteration and thus provides additional feedback about the optimization progress. "
   ]
  },
  {
   "cell_type": "code",
   "execution_count": 10,
   "metadata": {},
   "outputs": [],
   "source": [
    "def print_fidelity(**args):\n",
    "    F_re = np.average(np.array(args['tau_vals']).real)\n",
    "    print(\"Iteration %d: \\tF = %f\" % (args['iteration'], F_re))\n",
    "    fw_state_T = args['fw_states_T'][0] # DEBUG\n",
    "    print(\"Norm: %f\" % fw_state_T.norm()) # DEBUG\n",
    "    return F_re"
   ]
  },
  {
   "cell_type": "markdown",
   "metadata": {},
   "source": [
    "## Simulate dynamics of the guess field\n",
    "\n",
    "Before heading towards the optimization\n",
    "procedure, we first simulate the\n",
    "dynamics under the guess field\n",
    "$\\epsilon_{0}(t)$."
   ]
  },
  {
   "cell_type": "code",
   "execution_count": 11,
   "metadata": {
    "attributes": {
     "classes": [],
     "id": "",
     "n": "8"
    }
   },
   "outputs": [],
   "source": [
    "def plot_pulse(pulse, tlist):\n",
    "    fig, ax = plt.subplots()\n",
    "    if callable(pulse):\n",
    "        pulse = np.array([pulse(t, args=None) for t in tlist])\n",
    "    ax.plot(tlist, pulse)\n",
    "    ax.set_xlabel('time')\n",
    "    ax.set_ylabel('pulse amplitude')\n",
    "    plt.show(fig)"
   ]
  },
  {
   "cell_type": "markdown",
   "metadata": {},
   "source": [
    "The following plot shows the guess field $\\epsilon_{0}(t)$, which is, as chosen\n",
    "above, just a constant field (with a smooth switch-on and switch-off)"
   ]
  },
  {
   "cell_type": "code",
   "execution_count": 12,
   "metadata": {
    "attributes": {
     "classes": [],
     "id": "",
     "n": "9"
    }
   },
   "outputs": [
    {
     "data": {
      "image/png": "[encoded data removed]",
      "text/plain": [
       "<Figure size 432x288 with 1 Axes>"
      ]
     },
     "metadata": {
      "needs_background": "light"
     },
     "output_type": "display_data"
    }
   ],
   "source": [
    "plot_pulse(H[1][1], tlist)"
   ]
  },
  {
   "cell_type": "markdown",
   "metadata": {},
   "source": [
    "The next line solves the equation of motion for the defined objective, which\n",
    "contains the initial state $\\ket{\\Psi_{\\init}}$ and the Hamiltonian $\\op{H}(t)$\n",
    "defining its evolution."
   ]
  },
  {
   "cell_type": "code",
   "execution_count": 13,
   "metadata": {
    "attributes": {
     "classes": [],
     "id": "",
     "n": "10"
    }
   },
   "outputs": [],
   "source": [
    "guess_dynamics = objectives[0].mesolve(tlist, e_ops=[proj0, proj1])"
   ]
  },
  {
   "cell_type": "markdown",
   "metadata": {},
   "source": [
    "The plot of the population dynamics shows that the guess field does not transfer\n",
    "the initial state $\\ket{\\Psi_{\\init}} = \\ket{0}$ to the desired target state\n",
    "$\\ket{\\Psi_{\\tgt}} = \\ket{1}$."
   ]
  },
  {
   "cell_type": "code",
   "execution_count": 14,
   "metadata": {
    "attributes": {
     "classes": [],
     "id": "",
     "n": "11"
    }
   },
   "outputs": [],
   "source": [
    "def plot_population(result):\n",
    "    fig, ax = plt.subplots()\n",
    "    ax.plot(result.times, result.expect[0], label='0')\n",
    "    ax.plot(result.times, result.expect[1], label='1')\n",
    "    ax.legend()\n",
    "    ax.set_xlabel('time')\n",
    "    ax.set_ylabel('population')\n",
    "    plt.show(fig)"
   ]
  },
  {
   "cell_type": "code",
   "execution_count": 15,
   "metadata": {
    "attributes": {
     "classes": [],
     "id": "",
     "n": "12"
    }
   },
   "outputs": [
    {
     "data": {
      "image/png": "[encoded data removed]",
      "text/plain": [
       "<Figure size 432x288 with 1 Axes>"
      ]
     },
     "metadata": {
      "needs_background": "light"
     },
     "output_type": "display_data"
    }
   ],
   "source": [
    "plot_population(guess_dynamics)"
   ]
  },
  {
   "cell_type": "markdown",
   "metadata": {},
   "source": [
    "## Optimize\n",
    "\n",
    "In the following we optimize the guess field $\\epsilon_{0}(t)$ such\n",
    "that the intended state-to-state transfer $\\ket{\\Psi_{\\init}} \\rightarrow \\ket{\\Psi_{\\tgt}}$ is solved."
   ]
  },
  {
   "cell_type": "markdown",
   "metadata": {},
   "source": [
    "The cell below carries out the optimization. Therefore, it requires, besides the\n",
    "previously defined optimization `objectives`, information about the\n",
    "optimization functional $F$ (via `chi_constructor`) and the propagation method that should be used. In\n",
    "addition, the number of total iterations is required and, as an option, we pass\n",
    "the hook `print_fidelity` which prints out the value of the optimization\n",
    "functional $F$ for each iterations.\n",
    "\n",
    "Here, we choose $F = F_{re}$ with\n",
    "\\begin{equation}\n",
    "F_{re}\n",
    "= \\Re\\Braket{\\Psi(T)}{\\Psi_{\\tgt}}\n",
    "\\end{equation}\n",
    "\n",
    "with $\\ket{\\Psi(T)}$ the forward propagated state of $\\ket{\\Psi_{\\init}}$."
   ]
  },
  {
   "cell_type": "code",
   "execution_count": 16,
   "metadata": {
    "attributes": {
     "classes": [],
     "id": "",
     "n": "14"
    }
   },
   "outputs": [
    {
     "name": "stdout",
     "output_type": "stream",
     "text": [
      "Iteration 0: \tF = 0.048817\n",
      "Norm: 1.000466\n",
      "Iteration 1: \tF = 0.727174\n",
      "Norm: 1.111513\n",
      "Iteration 2: \tF = 0.951359\n",
      "Norm: 1.157286\n",
      "Iteration 3: \tF = 1.072489\n",
      "Norm: 1.183959\n",
      "Iteration 4: \tF = 1.141277\n",
      "Norm: 1.200885\n",
      "Iteration 5: \tF = 1.179562\n",
      "Norm: 1.211402\n",
      "Iteration 6: \tF = 1.199019\n",
      "Norm: 1.217094\n"
     ]
    }
   ],
   "source": [
    "oct_result = krotov.optimize_pulses(\n",
    "    objectives, pulse_options, tlist,\n",
    "    propagator=krotov.propagators.expm,\n",
    "    chi_constructor=krotov.functionals.chis_re,\n",
    "    info_hook=print_fidelity, iter_stop=6)"
   ]
  },
  {
   "cell_type": "markdown",
   "metadata": {},
   "source": [
    "The following prints out information about the optimization procedure."
   ]
  },
  {
   "cell_type": "code",
   "execution_count": 17,
   "metadata": {
    "attributes": {
     "classes": [],
     "id": "",
     "n": "15"
    }
   },
   "outputs": [
    {
     "data": {
      "text/plain": [
       "Krotov Optimization Result\n",
       "--------------------------\n",
       "- Started at 2018-11-19 17:41:44\n",
       "- Number of objectives: 1\n",
       "- Number of iterations: 6\n",
       "- Ended at 2018-11-19 17:41:52"
      ]
     },
     "execution_count": 17,
     "metadata": {},
     "output_type": "execute_result"
    }
   ],
   "source": [
    "oct_result"
   ]
  },
  {
   "cell_type": "markdown",
   "metadata": {},
   "source": [
    "## Simulate dynamics of the optimized field\n",
    "\n",
    "Having obtained the optimized\n",
    "control field, we can now\n",
    "plot it and calculate the\n",
    "population dynamics under this field.\n",
    "\n",
    "The optimized field ranges from negative\n",
    "to positive values and has no\n",
    "particular shape."
   ]
  },
  {
   "cell_type": "code",
   "execution_count": 18,
   "metadata": {
    "attributes": {
     "classes": [],
     "id": "",
     "n": "17"
    }
   },
   "outputs": [
    {
     "data": {
      "image/png": "[encoded data removed]",
      "text/plain": [
       "<Figure size 432x288 with 1 Axes>"
      ]
     },
     "metadata": {
      "needs_background": "light"
     },
     "output_type": "display_data"
    }
   ],
   "source": [
    "plot_pulse(oct_result.optimized_controls[0], tlist)"
   ]
  },
  {
   "cell_type": "markdown",
   "metadata": {},
   "source": [
    "In contrast to the dynamics under the guess field, the optimized field indeed\n",
    "drives the initial state $\\ket{\\Psi_{\\init}} = \\ket{0}$ to the desired target\n",
    "state $\\ket{\\Psi_{\\tgt}} = \\ket{1}$."
   ]
  },
  {
   "cell_type": "code",
   "execution_count": 19,
   "metadata": {
    "attributes": {
     "classes": [],
     "id": "",
     "n": "18"
    }
   },
   "outputs": [],
   "source": [
    "opt_dynamics = oct_result.optimized_objectives[0].mesolve(\n",
    "    tlist, e_ops=[proj0, proj1]\n",
    ")"
   ]
  },
  {
   "cell_type": "code",
   "execution_count": 20,
   "metadata": {
    "attributes": {
     "classes": [],
     "id": "",
     "n": "19"
    }
   },
   "outputs": [
    {
     "data": {
      "image/png": "[encoded data removed]",
      "text/plain": [
       "<Figure size 432x288 with 1 Axes>"
      ]
     },
     "metadata": {
      "needs_background": "light"
     },
     "output_type": "display_data"
    }
   ],
   "source": [
    "plot_population(opt_dynamics)"
   ]
  }
 ],
 "metadata": {
  "kernelspec": {
   "display_name": "Python 3",
   "language": "python",
   "name": "python3"
  },
  "language_info": {
   "codemirror_mode": {
    "name": "ipython",
    "version": 3
   },
   "file_extension": ".py",
   "mimetype": "text/x-python",
   "name": "python",
   "nbconvert_exporter": "python",
   "pygments_lexer": "ipython3",
   "version": "3.6.7"
  }
 },
 "nbformat": 4,
 "nbformat_minor": 2
}
