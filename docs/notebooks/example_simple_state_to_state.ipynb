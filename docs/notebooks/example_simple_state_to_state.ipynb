{
 "cells": [
  {
   "cell_type": "markdown",
   "metadata": {},
   "source": [
    "# Optimization of a State-to-State Transfer in a Two-Level-System\n",
    "\n",
    "The purpose\n",
    "of this example is not to solve an especially interesting physical\n",
    "problem but\n",
    "to give a rather simple example of how the package can be used in\n",
    "order to solve\n",
    "an optimization probelm."
   ]
  },
  {
   "cell_type": "code",
   "execution_count": 1,
   "metadata": {
    "attributes": {
     "classes": [],
     "id": "",
     "n": "1"
    }
   },
   "outputs": [
    {
     "name": "stdout",
     "output_type": "stream",
     "text": [
      "qutip       4.3.1\n",
      "numpy       1.15.4\n",
      "scipy       1.1.0\n",
      "matplotlib  3.0.2\n",
      "matplotlib.pylab  1.15.4\n",
      "krotov      0.0.1\n",
      "CPython 3.6.7\n",
      "IPython 7.1.1\n"
     ]
    }
   ],
   "source": [
    "# NBVAL_IGNORE_OUTPUT\n",
    "%load_ext watermark\n",
    "import qutip\n",
    "import numpy as np\n",
    "import scipy\n",
    "import matplotlib\n",
    "import matplotlib.pylab as plt\n",
    "import krotov\n",
    "%watermark -v --iversions"
   ]
  },
  {
   "cell_type": "markdown",
   "metadata": {},
   "source": [
    "## Define the Hamiltonian\n",
    "\n",
    "In the following the Hamiltonian, guess field and\n",
    "states are defined.\n",
    "\n",
    "The\n",
    "Hamiltonian $H_{0} = - \\omega \\sigma_{z}$ represents a\n",
    "simple qubit with energy\n",
    "level splitting $\\omega$ in the basis $\\{|0\\rangle,\n",
    "|1\\rangle\\}$. The control\n",
    "field $\\epsilon(t)$ is assumed to couple via the\n",
    "Hamiltonian $H_{1}(t) =\n",
    "\\epsilon(t) \\sigma_{x}$ to the qubit, i.e., the control\n",
    "field effectively drives\n",
    "transitions between both qubit states. Here, for the\n",
    "sake of simplicity, we\n",
    "assume it to be constant."
   ]
  },
  {
   "cell_type": "code",
   "execution_count": 2,
   "metadata": {
    "attributes": {
     "classes": [],
     "id": "",
     "n": "2"
    }
   },
   "outputs": [],
   "source": [
    "def ham_and_states(omega=1.0, ampl0=0.1):\n",
    "    \"\"\"Two-level-system Hamiltonian\"\"\"\n",
    "    H0 = qutip.Qobj(0.5*omega*np.diag([-1,1]))\n",
    "    H1 = qutip.Qobj(np.mat([[1,2],[3,4]]))\n",
    "\n",
    "    psi0 = qutip.Qobj(np.array([1,0]))\n",
    "    psi1 = qutip.Qobj(np.array([0,1]))\n",
    "\n",
    "    eps0 = lambda t, args: ampl0\n",
    "    return ([H0, [H1, eps0]], psi0, psi1)"
   ]
  },
  {
   "cell_type": "code",
   "execution_count": 3,
   "metadata": {
    "attributes": {
     "classes": [],
     "id": "",
     "n": "3"
    }
   },
   "outputs": [],
   "source": [
    "H, psi0, psi1 = ham_and_states()"
   ]
  },
  {
   "cell_type": "markdown",
   "metadata": {},
   "source": [
    "The following projectors $P_0 = |0\\rangle\\langle0|$ and $P_1 =\n",
    "|1\\rangle\\langle1|$ are introduced since they allow for calculating the\n",
    "population in the respective states later on."
   ]
  },
  {
   "cell_type": "code",
   "execution_count": 4,
   "metadata": {
    "attributes": {
     "classes": [],
     "id": "",
     "n": "4"
    }
   },
   "outputs": [],
   "source": [
    "proj0 = psi0 * psi0.dag()\n",
    "proj1 = psi1 * psi1.dag()"
   ]
  },
  {
   "cell_type": "markdown",
   "metadata": {},
   "source": [
    "## Define the optimization target\n",
    "\n",
    "First we define the time grid of the\n",
    "dynamics, i.e., by taking the following\n",
    "values as an example, we define the\n",
    "initial state to be at time $t=0$ and\n",
    "consider a total propagation time of\n",
    "$T=5$. The entire time grid is divided into\n",
    "$n_{t}=500$ equidistant time steps."
   ]
  },
  {
   "cell_type": "code",
   "execution_count": 5,
   "metadata": {
    "attributes": {
     "classes": [],
     "id": "",
     "n": "5"
    }
   },
   "outputs": [],
   "source": [
    "tlist = np.linspace(0, 5, 500)"
   ]
  },
  {
   "cell_type": "markdown",
   "metadata": {},
   "source": [
    "In the next step we define the optimization targets, which is technically an\n",
    "array, but here it has just one entry defining a simple state-to-state transfer\n",
    "from initial state $|\\Psi_{init}\\rangle = |0\\rangle$ to desired target state\n",
    "$|\\Psi_{trg}\\rangle = |1\\rangle$, which we want to reach at final time $T$. Note\n",
    "that we also have to pass the Hamiltonian $H(t)$ that determines the dynamics of\n",
    "the system to the optimization objectives."
   ]
  },
  {
   "cell_type": "code",
   "execution_count": 6,
   "metadata": {
    "attributes": {
     "classes": [],
     "id": "",
     "n": "6"
    }
   },
   "outputs": [],
   "source": [
    "objectives = [\n",
    "    krotov.Objective(initial_state=psi0, target_state=psi1, H=H)\n",
    "]"
   ]
  },
  {
   "cell_type": "markdown",
   "metadata": {},
   "source": [
    "In addition, we have to define and assign a shape function $S(t)$ to each\n",
    "control field that will be updated. This shape usually takes care of\n",
    "experimental limits such as the necessity of finite ramps at the beginning and\n",
    "end of the control field or other conceivable limitations for field shapes.\n",
    "Moreover, from a technical perspective, special care must be taken when choosing\n",
    "`lambda_a`. It controls the update magnitude of the respective field in each\n",
    "iteration and must be chosen appropriately."
   ]
  },
  {
   "cell_type": "code",
   "execution_count": 7,
   "metadata": {
    "attributes": {
     "classes": [],
     "id": "",
     "n": "7"
    }
   },
   "outputs": [],
   "source": [
    "def S(t):\n",
    "    \"\"\"Shape function for the pulse update\"\"\"\n",
    "    return 1.0\n",
    "\n",
    "pulse_options = {\n",
    "    H[1][1]: krotov.PulseOptions(lambda_a=5, shape=S)\n",
    "}\n",
    "\n",
    "def print_fidelity(**args):\n",
    "    F_re = np.average(np.array(args['tau_vals']).real)\n",
    "    print(\"Iteration %d: \\tF = %f\" % (args['iteration'], F_re))\n",
    "    return F_re"
   ]
  },
  {
   "cell_type": "markdown",
   "metadata": {},
   "source": [
    "## Simulate dynamics of the guess field\n",
    "\n",
    "Before heading towards the optimization\n",
    "procedure, we first simulate the\n",
    "dynamics under the guess field\n",
    "$\\epsilon_{0}(t)$."
   ]
  },
  {
   "cell_type": "code",
   "execution_count": 8,
   "metadata": {
    "attributes": {
     "classes": [],
     "id": "",
     "n": "8"
    }
   },
   "outputs": [],
   "source": [
    "def plot_pulse(pulse, tlist):\n",
    "    fig, ax = plt.subplots()\n",
    "    if callable(pulse):\n",
    "        pulse = np.array([pulse(t, args=None) for t in tlist])\n",
    "    ax.plot(tlist, pulse)\n",
    "    ax.set_xlabel('time')\n",
    "    ax.set_ylabel('pulse amplitude')\n",
    "    plt.show(fig)"
   ]
  },
  {
   "cell_type": "markdown",
   "metadata": {},
   "source": [
    "The following plot shows the guess field $\\epsilon_{0}(t)$, which is, as chosen\n",
    "above, just a constant field."
   ]
  },
  {
   "cell_type": "code",
   "execution_count": 9,
   "metadata": {
    "attributes": {
     "classes": [],
     "id": "",
     "n": "9"
    }
   },
   "outputs": [
    {
     "data": {
      "image/png": "[encoded data removed]",
      "text/plain": [
       "<Figure size 432x288 with 1 Axes>"
      ]
     },
     "metadata": {
      "needs_background": "light"
     },
     "output_type": "display_data"
    }
   ],
   "source": [
    "plot_pulse(H[1][1], tlist)"
   ]
  },
  {
   "cell_type": "markdown",
   "metadata": {},
   "source": [
    "The next line solves the equation of motion for the defined objective, which\n",
    "contains the initial state $|\\Psi_{init}\\rangle$ and the Hamiltonian $H(t)$\n",
    "defining its evolution."
   ]
  },
  {
   "cell_type": "code",
   "execution_count": 10,
   "metadata": {
    "attributes": {
     "classes": [],
     "id": "",
     "n": "10"
    }
   },
   "outputs": [],
   "source": [
    "guess_dynamics = objectives[0].mesolve(tlist, e_ops=[proj0, proj1])"
   ]
  },
  {
   "cell_type": "markdown",
   "metadata": {},
   "source": [
    "The plot of the population dynamics shows that the guess field does not transfer\n",
    "the initial state $|\\Psi_{init}\\rangle = |0\\rangle$ to the desired target state\n",
    "$|\\Psi_{trg}\\rangle = |1\\rangle$."
   ]
  },
  {
   "cell_type": "code",
   "execution_count": 11,
   "metadata": {
    "attributes": {
     "classes": [],
     "id": "",
     "n": "11"
    }
   },
   "outputs": [],
   "source": [
    "def plot_population(result):\n",
    "    fig, ax = plt.subplots()\n",
    "    ax.plot(result.times, result.expect[0], label='0')\n",
    "    ax.plot(result.times, result.expect[1], label='1')\n",
    "    ax.legend()\n",
    "    ax.set_xlabel('time')\n",
    "    ax.set_ylabel('population')\n",
    "    plt.show(fig)"
   ]
  },
  {
   "cell_type": "code",
   "execution_count": 12,
   "metadata": {
    "attributes": {
     "classes": [],
     "id": "",
     "n": "12"
    }
   },
   "outputs": [
    {
     "data": {
      "image/png": "[encoded data removed]",
      "text/plain": [
       "<Figure size 432x288 with 1 Axes>"
      ]
     },
     "metadata": {
      "needs_background": "light"
     },
     "output_type": "display_data"
    }
   ],
   "source": [
    "plot_population(guess_dynamics)"
   ]
  },
  {
   "cell_type": "markdown",
   "metadata": {},
   "source": [
    "## Optimize\n",
    "\n",
    "In the following we optimize the guess field $\\epsilon_{0}(t)$ such\n",
    "that the\n",
    "intended state-to-state transfer $|\\Psi_{init}\\rangle \\rightarrow\n",
    "|\\Psi_{trg}\\rangle$ is solved."
   ]
  },
  {
   "cell_type": "code",
   "execution_count": 13,
   "metadata": {
    "attributes": {
     "classes": [],
     "id": "",
     "n": "13"
    }
   },
   "outputs": [],
   "source": [
    "import logging\n",
    "logger = logging.getLogger()\n",
    "logger.setLevel(logging.DEBUG)"
   ]
  },
  {
   "cell_type": "markdown",
   "metadata": {},
   "source": [
    "The next line carries out the optimization. Therefore, it requires, besides the\n",
    "previously defined optimization objectives `objectives`, information about the\n",
    "optimization functional $F$ and the propagation method that should be used. In\n",
    "addition, the number of total iterations is required and, as an option, we pass\n",
    "the hook `print_fidelity` which prints out the value of the optimization\n",
    "functional $F$ for each iterations.\n",
    "\n",
    "Here, we choose $F = F_{re}$ with\n",
    "\\begin{equation}\n",
    "F_{re}\n",
    "= 1 - \\mathrm{Re}\\{\\langle \\Psi(T) | \\Psi_{trg}\n",
    "\\rangle\\}\n",
    "\\end{equation}\n",
    "\n",
    "with\n",
    "$|\\Psi(T)\\rangle$ the forward propagated state of\n",
    "$|\\Psi_{init}\\rangle$."
   ]
  },
  {
   "cell_type": "code",
   "execution_count": 14,
   "metadata": {
    "attributes": {
     "classes": [],
     "id": "",
     "n": "14"
    }
   },
   "outputs": [
    {
     "name": "stderr",
     "output_type": "stream",
     "text": [
      "INFO:krotov:Initializing optimization with Krotov's method\n",
      "INFO:krotov:Started initial forward propagation of objective 0\n",
      "INFO:krotov:Finished initial forward propagation of objective 0\n",
      "INFO:krotov:Started Krotov iteration 1\n",
      "INFO:krotov:Started backward propagation of state 0\n"
     ]
    },
    {
     "name": "stdout",
     "output_type": "stream",
     "text": [
      "Iteration 0: \tF = 0.133400\n"
     ]
    },
    {
     "name": "stderr",
     "output_type": "stream",
     "text": [
      "INFO:krotov:Finished backward propagation of state 0\n",
      "INFO:krotov:Started forward propagation/pulse update\n",
      "INFO:krotov:Finished forward propagation/pulse update\n",
      "INFO:krotov:Finished Krotov iteration 1\n",
      "INFO:krotov:Started Krotov iteration 2\n",
      "INFO:krotov:Started backward propagation of state 0\n"
     ]
    },
    {
     "name": "stdout",
     "output_type": "stream",
     "text": [
      "Iteration 1: \tF = 0.800469\n"
     ]
    },
    {
     "name": "stderr",
     "output_type": "stream",
     "text": [
      "INFO:krotov:Finished backward propagation of state 0\n",
      "INFO:krotov:Started forward propagation/pulse update\n",
      "INFO:krotov:Finished forward propagation/pulse update\n",
      "INFO:krotov:Finished Krotov iteration 2\n",
      "INFO:krotov:Started Krotov iteration 3\n",
      "INFO:krotov:Started backward propagation of state 0\n"
     ]
    },
    {
     "name": "stdout",
     "output_type": "stream",
     "text": [
      "Iteration 2: \tF = 1.014176\n"
     ]
    },
    {
     "name": "stderr",
     "output_type": "stream",
     "text": [
      "INFO:krotov:Finished backward propagation of state 0\n",
      "INFO:krotov:Started forward propagation/pulse update\n",
      "INFO:krotov:Finished forward propagation/pulse update\n",
      "INFO:krotov:Finished Krotov iteration 3\n",
      "INFO:krotov:Started Krotov iteration 4\n",
      "INFO:krotov:Started backward propagation of state 0\n"
     ]
    },
    {
     "name": "stdout",
     "output_type": "stream",
     "text": [
      "Iteration 3: \tF = 1.116803\n"
     ]
    },
    {
     "name": "stderr",
     "output_type": "stream",
     "text": [
      "INFO:krotov:Finished backward propagation of state 0\n",
      "INFO:krotov:Started forward propagation/pulse update\n",
      "INFO:krotov:Finished forward propagation/pulse update\n",
      "INFO:krotov:Finished Krotov iteration 4\n",
      "INFO:krotov:Started Krotov iteration 5\n",
      "INFO:krotov:Started backward propagation of state 0\n"
     ]
    },
    {
     "name": "stdout",
     "output_type": "stream",
     "text": [
      "Iteration 4: \tF = 1.171907\n"
     ]
    },
    {
     "name": "stderr",
     "output_type": "stream",
     "text": [
      "INFO:krotov:Finished backward propagation of state 0\n",
      "INFO:krotov:Started forward propagation/pulse update\n",
      "INFO:krotov:Finished forward propagation/pulse update\n",
      "INFO:krotov:Finished Krotov iteration 5\n"
     ]
    },
    {
     "name": "stdout",
     "output_type": "stream",
     "text": [
      "Iteration 5: \tF = 1.200552\n"
     ]
    }
   ],
   "source": [
    "oct_result = krotov.optimize_pulses(\n",
    "    objectives, pulse_options, tlist,\n",
    "    propagator=krotov.propagators.expm,\n",
    "    chi_constructor=krotov.functionals.chis_re,\n",
    "    info_hook=print_fidelity, iter_stop=5)"
   ]
  },
  {
   "cell_type": "markdown",
   "metadata": {},
   "source": [
    "The following prints out information about the optimization procedure."
   ]
  },
  {
   "cell_type": "code",
   "execution_count": 15,
   "metadata": {
    "attributes": {
     "classes": [],
     "id": "",
     "n": "15"
    }
   },
   "outputs": [
    {
     "data": {
      "text/plain": [
       "Krotov Optimization Result\n",
       "--------------------------\n",
       "- Started at 2018-11-18 19:10:48\n",
       "- Number of objectives: 1\n",
       "- Number of iterations: 5\n",
       "- Ended at 2018-11-18 19:10:55"
      ]
     },
     "execution_count": 15,
     "metadata": {},
     "output_type": "execute_result"
    }
   ],
   "source": [
    "oct_result"
   ]
  },
  {
   "cell_type": "code",
   "execution_count": 16,
   "metadata": {
    "attributes": {
     "classes": [],
     "id": "",
     "n": "16"
    }
   },
   "outputs": [],
   "source": [
    "logger.setLevel(logging.WARN)"
   ]
  },
  {
   "cell_type": "markdown",
   "metadata": {},
   "source": [
    "## Simulate dynamics of the optimized field\n",
    "\n",
    "After we obtained the optimized\n",
    "control field in the previous steps, we can now\n",
    "plot it and calculate the\n",
    "population dynamics under this field.\n",
    "\n",
    "The optimized field ranges from negative\n",
    "to positive values and has no\n",
    "particular shape."
   ]
  },
  {
   "cell_type": "code",
   "execution_count": 17,
   "metadata": {
    "attributes": {
     "classes": [],
     "id": "",
     "n": "17"
    }
   },
   "outputs": [
    {
     "data": {
      "image/png": "[encoded data removed]",
      "text/plain": [
       "<Figure size 432x288 with 1 Axes>"
      ]
     },
     "metadata": {
      "needs_background": "light"
     },
     "output_type": "display_data"
    }
   ],
   "source": [
    "plot_pulse(oct_result.optimized_controls[0], tlist)"
   ]
  },
  {
   "cell_type": "markdown",
   "metadata": {},
   "source": [
    "In contrast to the dynamics under the guess field, the optimized field indeed\n",
    "drives the initial state $|\\Psi_{init}\\rangle = |0\\rangle$ to the desired target\n",
    "state $|\\Psi_{trg}\\rangle = |1\\rangle$."
   ]
  },
  {
   "cell_type": "code",
   "execution_count": 18,
   "metadata": {
    "attributes": {
     "classes": [],
     "id": "",
     "n": "18"
    }
   },
   "outputs": [],
   "source": [
    "opt_dynamics = oct_result.optimized_objectives[0].mesolve(tlist, e_ops=[proj0, proj1])"
   ]
  },
  {
   "cell_type": "code",
   "execution_count": 19,
   "metadata": {
    "attributes": {
     "classes": [],
     "id": "",
     "n": "19"
    }
   },
   "outputs": [
    {
     "data": {
      "image/png": "[encoded data removed]",
      "text/plain": [
       "<Figure size 432x288 with 1 Axes>"
      ]
     },
     "metadata": {
      "needs_background": "light"
     },
     "output_type": "display_data"
    }
   ],
   "source": [
    "plot_population(opt_dynamics)"
   ]
  }
 ],
 "metadata": {
  "kernelspec": {
   "display_name": "Python 3",
   "language": "python",
   "name": "python3"
  },
  "language_info": {
   "codemirror_mode": {
    "name": "ipython",
    "version": 3
   },
   "file_extension": ".py",
   "mimetype": "text/x-python",
   "name": "python",
   "nbconvert_exporter": "python",
   "pygments_lexer": "ipython3",
   "version": "3.6.7"
  }
 },
 "nbformat": 4,
 "nbformat_minor": 2
}
