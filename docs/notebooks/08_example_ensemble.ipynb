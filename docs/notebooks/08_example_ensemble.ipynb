{
 "cells": [
  {
   "cell_type": "markdown",
   "metadata": {},
   "source": [
    "# Ensemble Optimization for Robust Pulses"
   ]
  },
  {
   "cell_type": "code",
   "execution_count": 1,
   "metadata": {
    "attributes": {
     "classes": [],
     "id": "",
     "n": "1"
    }
   },
   "outputs": [
    {
     "name": "stdout",
     "output_type": "stream",
     "text": [
      "matplotlib       3.1.1\n",
      "scipy            1.2.2\n",
      "matplotlib.pylab 1.17.1\n",
      "qutip            4.4.1\n",
      "krotov           0.3.0+dev\n",
      "numpy            1.17.1\n",
      "CPython 3.7.3\n",
      "IPython 7.8.0\n"
     ]
    }
   ],
   "source": [
    "# NBVAL_IGNORE_OUTPUT\n",
    "%load_ext watermark\n",
    "import os\n",
    "import qutip\n",
    "import numpy as np\n",
    "import scipy\n",
    "import matplotlib\n",
    "import matplotlib.pylab as plt\n",
    "import krotov\n",
    "from qutip import Qobj\n",
    "import pickle\n",
    "\n",
    "%watermark -v --iversions"
   ]
  },
  {
   "cell_type": "markdown",
   "metadata": {},
   "source": [
    "$\\newcommand{tr}[0]{\\operatorname{tr}}\n",
    "\\newcommand{diag}[0]{\\operatorname{diag}}\n",
    "\\newcommand{abs}[0]{\\operatorname{abs}}\n",
    "\\newcommand{pop}[0]{\\operatorname{pop}}\n",
    "\\newcommand{aux}[0]{\\text{aux}}\n",
    "\\newcommand{opt}[0]{\\text{opt}}\n",
    "\\newcommand{tgt}[0]{\\text{tgt}}\n",
    "\\newcommand{init}[0]{\\text{init}}\n",
    "\\newcommand{lab}[0]{\\text{lab}}\n",
    "\\newcommand{rwa}[0]{\\text{rwa}}\n",
    "\\newcommand{bra}[1]{\\langle#1\\vert}\n",
    "\\newcommand{ket}[1]{\\vert#1\\rangle}\n",
    "\\newcommand{Bra}[1]{\\left\\langle#1\\right\\vert}\n",
    "\\newcommand{Ket}[1]{\\left\\vert#1\\right\\rangle}\n",
    "\\newcommand{Braket}[2]{\\left\\langle #1\\vphantom{#2} \\mid\n",
    "#2\\vphantom{#1}\\right\\rangle}\n",
    "\\newcommand{Ketbra}[2]{\\left\\vert#1\\vphantom{#2}\n",
    "\\right\\rangle \\hspace{-0.2em} \\left\\langle #2\\vphantom{#1} \\right\\vert}\n",
    "\\newcommand{op}[1]{\\hat{#1}}\n",
    "\\newcommand{Op}[1]{\\hat{#1}}\n",
    "\\newcommand{dd}[0]{\\,\\text{d}}\n",
    "\\newcommand{Liouville}[0]{\\mathcal{L}}\n",
    "\\newcommand{DynMap}[0]{\\mathcal{E}}\n",
    "\\newcommand{identity}[0]{\\mathbf{1}}\n",
    "\\newcommand{Norm}[1]{\\lVert#1\\rVert}\n",
    "\\newcommand{Abs}[1]{\\left\\vert#1\\right\\vert}\n",
    "\\newcommand{avg}[1]{\\langle#1\\rangle}\n",
    "\\newcommand{Avg}[1]{\\left\\langle#1\\right\\rangle}\n",
    "\\newcommand{AbsSq}[1]{\\left\\vert#1\\right\\vert^2}\n",
    "\\newcommand{Re}[0]{\\operatorname{Re}}\n",
    "\\newcommand{Im}[0]{\\operatorname{Im}}\n",
    "\\newcommand{toP}[0]{\\omega_{12}}\n",
    "\\newcommand{toS}[0]{\\omega_{23}}$\n",
    "\n",
    "This example revisits the [Optimization of a State-to-State Transfer in a\n",
    "Lambda System in the RWA](02_example_lambda_system_rwa_complex_pulse.ipynb),\n",
    "attempting to make the control pulses robustness with respect to variations in\n",
    "the pulse amplitude, through \"ensemble optimization\"."
   ]
  },
  {
   "cell_type": "markdown",
   "metadata": {},
   "source": [
    "**Note**: This notebook uses some parallelization features (`qutip.parallel_map`/`multiprocessing.Pool`). Unfortunately, on Windows, `multiprocessing.Pool` does not work correctly for functions defined in a Jupyter notebook (due to the [`spawn` method](https://docs.python.org/3/library/multiprocessing.html#contexts-and-start-methods) being used on Windows, instead of Unix-`fork`, see also https://stackoverflow.com/questions/45719956). We therefore replace `parallel_map` with `serial_map` when running on Windows."
   ]
  },
  {
   "cell_type": "code",
   "execution_count": 2,
   "metadata": {},
   "outputs": [],
   "source": [
    "import sys\n",
    "if sys.platform == 'win32':\n",
    "    from qutip import serial_map as parallel_map\n",
    "else:\n",
    "    from qutip import parallel_map"
   ]
  },
  {
   "cell_type": "markdown",
   "metadata": {},
   "source": [
    "## Control objectives for population transfer in the Lambda system\n",
    "\n",
    "As in the original example, we define the Hamiltonian for a Lambda system in\n",
    "the rotating wave approximation, like this:\n",
    "\n",
    "![Lambda system considered in this notebook](energylevels.png)\n",
    "\n",
    "We set up the control fields and the Hamiltonian exactly as before:"
   ]
  },
  {
   "cell_type": "code",
   "execution_count": 3,
   "metadata": {},
   "outputs": [],
   "source": [
    "def Omega_P1(t, args):\n",
    "    \"\"\"Guess for the real part of the pump pulse\"\"\"\n",
    "    Ω0 = 5.0\n",
    "    return Ω0 * krotov.shapes.blackman(t, t_start=2.0, t_stop=5.0)\n",
    "\n",
    "\n",
    "def Omega_P2(t, args):\n",
    "    \"\"\"Guess for the imaginary part of the pump pulse\"\"\"\n",
    "    return 0.0\n",
    "\n",
    "\n",
    "def Omega_S1(t, args):\n",
    "    \"\"\"Guess for the real part of the Stokes pulse\"\"\"\n",
    "    Ω0 = 5.0\n",
    "    return Ω0 * krotov.shapes.blackman(t, t_start=0.0, t_stop=3.0)\n",
    "\n",
    "\n",
    "def Omega_S2(t, args):\n",
    "    \"\"\"Guess for the imaginary part of the Stokes pulse\"\"\"\n",
    "    return 0.0"
   ]
  },
  {
   "cell_type": "code",
   "execution_count": 4,
   "metadata": {},
   "outputs": [],
   "source": [
    "tlist = np.linspace(0, 5, 500)"
   ]
  },
  {
   "cell_type": "code",
   "execution_count": 5,
   "metadata": {},
   "outputs": [],
   "source": [
    "def hamiltonian(E1=0.0, E2=10.0, E3=5.0, omega_P=9.5, omega_S=4.5):\n",
    "    \"\"\"Lambda-system Hamiltonian in the RWA\"\"\"\n",
    "\n",
    "    # detunings\n",
    "    ΔP = E1 + omega_P - E2\n",
    "    ΔS = E3 + omega_S - E2\n",
    "\n",
    "    H0 = Qobj([[ΔP, 0.0, 0.0], [0.0, 0.0, 0.0], [0.0, 0.0, ΔS]])\n",
    "\n",
    "    HP_re = -0.5 * Qobj([[0.0, 1.0, 0.0], [1.0, 0.0, 0.0], [0.0, 0.0, 0.0]])\n",
    "    HP_im = -0.5 * Qobj([[0.0, 1.0j, 0.0], [-1.0j, 0.0, 0.0], [0.0, 0.0, 0.0]])\n",
    "\n",
    "    HS_re = -0.5 * Qobj([[0.0, 0.0, 0.0], [0.0, 0.0, 1.0], [0.0, 1.0, 0.0]])\n",
    "    HS_im = -0.5 * Qobj([[0.0, 0.0, 0.0], [0.0, 0.0, 1.0j], [0.0, -1.0j, 0.0]])\n",
    "\n",
    "    return [\n",
    "        H0,\n",
    "        [HP_re, Omega_P1],\n",
    "        [HP_im, Omega_P2],\n",
    "        [HS_re, Omega_S1],\n",
    "        [HS_im, Omega_S2],\n",
    "    ]"
   ]
  },
  {
   "cell_type": "code",
   "execution_count": 6,
   "metadata": {},
   "outputs": [],
   "source": [
    "H = hamiltonian()"
   ]
  },
  {
   "cell_type": "markdown",
   "metadata": {},
   "source": [
    "The control objective is the realization of a phase sensitive $\\ket{1}\n",
    "\\rightarrow \\ket{3}$ transition in the lab frame. Thus, in the rotating frame,\n",
    "we must take into account an additional phase factor."
   ]
  },
  {
   "cell_type": "code",
   "execution_count": 7,
   "metadata": {},
   "outputs": [],
   "source": [
    "ket1 = qutip.Qobj(np.array([1.0, 0.0, 0.0]))\n",
    "ket2 = qutip.Qobj(np.array([0.0, 1.0, 0.0]))\n",
    "ket3 = qutip.Qobj(np.array([0.0, 0.0, 1.0]))"
   ]
  },
  {
   "cell_type": "code",
   "execution_count": 8,
   "metadata": {},
   "outputs": [],
   "source": [
    "def rwa_target_state(ket3, E2=10.0, omega_S=4.5, T=5):\n",
    "    return np.exp(1j * (E2 - omega_S) * T) * ket3"
   ]
  },
  {
   "cell_type": "code",
   "execution_count": 9,
   "metadata": {},
   "outputs": [],
   "source": [
    "psi_target = rwa_target_state(ket3)"
   ]
  },
  {
   "cell_type": "code",
   "execution_count": 10,
   "metadata": {},
   "outputs": [
    {
     "data": {
      "text/plain": [
       "[Objective[|Ψ₀(3)⟩ to |Ψ₁(3)⟩ via [H₀[3,3], [H₁[3,3], u₁(t)], [H₂[3,3], u₂(t)], [H₃[3,3], u₃(t)], [H₄[3,3], u₄(t)]]]]"
      ]
     },
     "execution_count": 10,
     "metadata": {},
     "output_type": "execute_result"
    }
   ],
   "source": [
    "objective = krotov.Objective(initial_state=ket1, target=psi_target, H=H)\n",
    "objectives = [objective]\n",
    "objectives"
   ]
  },
  {
   "cell_type": "markdown",
   "metadata": {},
   "source": [
    "## Robustness to amplitude fluctuations\n",
    "\n",
    "A potential source of error is fluctuations in the pulse amplitude between\n",
    "different runs of the experiment. To account for this, the `hamiltonian`\n",
    "function above include a parameter `mu` that scales the pulse amplitudes by the\n",
    "given factor.\n",
    "\n",
    "We can analyze the result of the [Optimization of a State-to-State Transfer in\n",
    "a Lambda System in the RWA](02_example_lambda_system_rwa_complex_pulse.ipynb)\n",
    "with respect to such fluctuations. We load the earlier optimization result from\n",
    "disk, and verify that the optimized controls produce the $\\ket{1} \\rightarrow\n",
    "\\ket{3}$ transition as desired."
   ]
  },
  {
   "cell_type": "code",
   "execution_count": 11,
   "metadata": {},
   "outputs": [],
   "source": [
    "opt_result_unperturbed = krotov.result.Result.load(\n",
    "    'lambda_rwa_opt_result.dump', objectives=[objective]\n",
    ")"
   ]
  },
  {
   "cell_type": "code",
   "execution_count": 12,
   "metadata": {},
   "outputs": [],
   "source": [
    "proj1 = qutip.ket2dm(ket1)\n",
    "proj2 = qutip.ket2dm(ket2)\n",
    "proj3 = qutip.ket2dm(ket3)"
   ]
  },
  {
   "cell_type": "code",
   "execution_count": 13,
   "metadata": {},
   "outputs": [],
   "source": [
    "opt_unperturbed_dynamics = opt_result_unperturbed.optimized_objectives[\n",
    "    0\n",
    "].mesolve(tlist, e_ops=[proj1, proj2, proj3])"
   ]
  },
  {
   "cell_type": "code",
   "execution_count": 14,
   "metadata": {},
   "outputs": [],
   "source": [
    "def plot_population(result):\n",
    "    fig, ax = plt.subplots()\n",
    "    ax.plot(result.times, result.expect[0], label='1')\n",
    "    ax.plot(result.times, result.expect[1], label='2')\n",
    "    ax.plot(result.times, result.expect[2], label='3')\n",
    "    ax.legend()\n",
    "    ax.set_xlabel('time')\n",
    "    ax.set_ylabel('population')\n",
    "    plt.show(fig)"
   ]
  },
  {
   "cell_type": "code",
   "execution_count": 15,
   "metadata": {
    "lines_to_next_cell": 2
   },
   "outputs": [
    {
     "data": {
      "image/png": "[encoded data removed]",
      "text/plain": [
       "<Figure size 432x288 with 1 Axes>"
      ]
     },
     "metadata": {
      "needs_background": "light"
     },
     "output_type": "display_data"
    }
   ],
   "source": [
    "plot_population(opt_unperturbed_dynamics)"
   ]
  },
  {
   "cell_type": "markdown",
   "metadata": {
    "lines_to_next_cell": 2
   },
   "source": [
    "Now we can analyze how robust this control is for variations of ±20% of the\n",
    "pulse amplitude. Numerically, this is achieved by scaling the control\n",
    "Hamiltonians with a pre-factor $\\mu$.\n",
    "\n",
    "\n",
    "\n",
    "\n",
    "\n"
   ]
  },
  {
   "cell_type": "code",
   "execution_count": 16,
   "metadata": {},
   "outputs": [],
   "source": [
    "def scale_control(H, *, mu):\n",
    "    \"\"\"Scale all control Hamiltonians by `mu`.\"\"\"\n",
    "    H_scaled = []\n",
    "    for spec in H:\n",
    "        if isinstance(spec, list):\n",
    "            H_scaled.append([mu * spec[0], spec[1]])\n",
    "        else:\n",
    "            H_scaled.append(spec)\n",
    "    return H_scaled"
   ]
  },
  {
   "cell_type": "markdown",
   "metadata": {},
   "source": [
    "For the analysis, we take the following sample of $\\mu$ values:"
   ]
  },
  {
   "cell_type": "code",
   "execution_count": 17,
   "metadata": {
    "lines_to_next_cell": 2
   },
   "outputs": [],
   "source": [
    "mu_vals = np.linspace(0.75, 1.25, 33)"
   ]
  },
  {
   "cell_type": "markdown",
   "metadata": {
    "lines_to_next_cell": 2
   },
   "source": [
    "We measure the success of the transfer via the \"population error\", i.e., the\n",
    "deviation from 1.0 of the population in state $\\ket{3}$ at final time $T$.\n",
    "\n",
    "\n",
    "\n",
    "\n"
   ]
  },
  {
   "cell_type": "code",
   "execution_count": 18,
   "metadata": {},
   "outputs": [],
   "source": [
    "def pop_error(obj, mu):\n",
    "    res = obj.mesolve(tlist, H=scale_control(obj.H, mu=mu), e_ops=[proj3])\n",
    "    return 1 - res.expect[0][-1]"
   ]
  },
  {
   "cell_type": "code",
   "execution_count": 19,
   "metadata": {
    "lines_to_next_cell": 2
   },
   "outputs": [],
   "source": [
    "def _f(mu):\n",
    "    # parallel_map needs a global function\n",
    "    return pop_error(opt_result_unperturbed.optimized_objectives[0], mu=mu)\n",
    "\n",
    "\n",
    "pop_errors_norobust = parallel_map(_f, mu_vals)"
   ]
  },
  {
   "cell_type": "code",
   "execution_count": 20,
   "metadata": {},
   "outputs": [],
   "source": [
    "def plot_robustness(mu_vals, pop_errors, pop_errors0=None):\n",
    "    fig, ax = plt.subplots()\n",
    "    ax.plot(mu_vals, pop_errors, label='1')\n",
    "    if pop_errors0 is not None:\n",
    "        ax.set_prop_cycle(None)  # reset colors\n",
    "        if isinstance(pop_errors0, list):\n",
    "            for (i, pop_errors_prev) in enumerate(pop_errors0):\n",
    "                ax.plot(\n",
    "                    mu_vals, pop_errors_prev, ls='dotted', label=(\"%d\" % (-i))\n",
    "                )\n",
    "        else:\n",
    "            ax.plot(mu_vals, pop_errors0, ls='dotted', label='0')\n",
    "    ax.set_xlabel(\"relative coupling strength\")\n",
    "    ax.set_ylabel(r\"$1 - \\vert \\langle \\Psi \\vert 3 \\rangle \\vert^2$\")\n",
    "    ax.axvspan(0.9, 1.1, alpha=0.25, color='red')\n",
    "    ax.set_yscale('log')\n",
    "    if pop_errors0 is not None:\n",
    "        ax.legend()\n",
    "    plt.show(fig)"
   ]
  },
  {
   "cell_type": "code",
   "execution_count": 21,
   "metadata": {},
   "outputs": [
    {
     "data": {
      "image/png": "[encoded data removed]",
      "text/plain": [
       "<Figure size 432x288 with 1 Axes>"
      ]
     },
     "metadata": {
      "needs_background": "light"
     },
     "output_type": "display_data"
    }
   ],
   "source": [
    "plot_robustness(mu_vals, pop_errors_norobust)"
   ]
  },
  {
   "cell_type": "markdown",
   "metadata": {},
   "source": [
    "The plot shows that as the pulse amplitude deviates from the optimal value, the\n",
    "error rises quickly: our previous optimization result is not robust.\n",
    "\n",
    "The highlighted region of ±10% is our \"region of interest\" within\n",
    "which we would like the control to be robust by applying optimal control."
   ]
  },
  {
   "cell_type": "markdown",
   "metadata": {},
   "source": [
    "## Setting the ensemble objectives"
   ]
  },
  {
   "cell_type": "markdown",
   "metadata": {},
   "source": [
    "They central idea of optimizing for robustness is to take multiple copies of\n",
    "the Hamiltonian, sampling over the space of variations to which would\n",
    "like to be robust, and optimize over the average of this ensemble.\n",
    "\n",
    "Here, we sample 5 values of $\\mu$ (including the unperturbed $\\mu=1$) in the\n",
    "region of interest, $\\mu \\in [0.9, 1.1]$."
   ]
  },
  {
   "cell_type": "code",
   "execution_count": 22,
   "metadata": {},
   "outputs": [],
   "source": [
    "ensemble_mu = [1.0, 0.9, 0.95, 1.05, 1.1]"
   ]
  },
  {
   "cell_type": "markdown",
   "metadata": {},
   "source": [
    "The corresponding perturbed Hamiltonians (excluding $\\mu=1$) are"
   ]
  },
  {
   "cell_type": "code",
   "execution_count": 23,
   "metadata": {},
   "outputs": [],
   "source": [
    "ham_ensemble = [scale_control(objective.H, mu=mu) for mu in ensemble_mu[1:]]"
   ]
  },
  {
   "cell_type": "markdown",
   "metadata": {},
   "source": [
    "The `krotov.objectives.ensemble_objectives` extends the original objective of a\n",
    "single unperturbed state-to-state transition with one additional objective for\n",
    "each ensemble Hamiltonian:"
   ]
  },
  {
   "cell_type": "code",
   "execution_count": 24,
   "metadata": {},
   "outputs": [
    {
     "data": {
      "text/plain": [
       "[Objective[|Ψ₀(3)⟩ to |Ψ₁(3)⟩ via [H₀[3,3], [H₁[3,3], u₁(t)], [H₂[3,3], u₂(t)], [H₃[3,3], u₃(t)], [H₄[3,3], u₄(t)]]],\n",
       " Objective[|Ψ₀(3)⟩ to |Ψ₁(3)⟩ via [H₀[3,3], [H₅[3,3], u₁(t)], [H₆[3,3], u₂(t)], [H₇[3,3], u₃(t)], [H₈[3,3], u₄(t)]]],\n",
       " Objective[|Ψ₀(3)⟩ to |Ψ₁(3)⟩ via [H₀[3,3], [H₉[3,3], u₁(t)], [H₁₀[3,3], u₂(t)], [H₁₁[3,3], u₃(t)], [H₁₂[3,3], u₄(t)]]],\n",
       " Objective[|Ψ₀(3)⟩ to |Ψ₁(3)⟩ via [H₀[3,3], [H₁₃[3,3], u₁(t)], [H₁₄[3,3], u₂(t)], [H₁₅[3,3], u₃(t)], [H₁₆[3,3], u₄(t)]]],\n",
       " Objective[|Ψ₀(3)⟩ to |Ψ₁(3)⟩ via [H₀[3,3], [H₁₇[3,3], u₁(t)], [H₁₈[3,3], u₂(t)], [H₁₉[3,3], u₃(t)], [H₂₀[3,3], u₄(t)]]]]"
      ]
     },
     "execution_count": 24,
     "metadata": {},
     "output_type": "execute_result"
    }
   ],
   "source": [
    "ensemble_objectives = krotov.objectives.ensemble_objectives(\n",
    "    objectives, ham_ensemble\n",
    ")\n",
    "ensemble_objectives"
   ]
  },
  {
   "cell_type": "markdown",
   "metadata": {},
   "source": [
    "It is important that all five objectives reference the same four control\n",
    "pulses, as is the case here."
   ]
  },
  {
   "cell_type": "markdown",
   "metadata": {},
   "source": [
    "## Optimize"
   ]
  },
  {
   "cell_type": "markdown",
   "metadata": {},
   "source": [
    "We use the same update shape $S(t)$ and $\\lambda_a$ value as in the original optimization:"
   ]
  },
  {
   "cell_type": "code",
   "execution_count": 25,
   "metadata": {},
   "outputs": [],
   "source": [
    "def S(t):\n",
    "    \"\"\"Scales the Krotov methods update of the pulse value at the time t\"\"\"\n",
    "    return krotov.shapes.flattop(t, 0.0, 5, 0.3, func='sinsq')\n",
    "\n",
    "\n",
    "λ = 0.5\n",
    "\n",
    "pulse_options = {\n",
    "    H[1][1]: dict(lambda_a=λ, update_shape=S),\n",
    "    H[2][1]: dict(lambda_a=λ, update_shape=S),\n",
    "    H[3][1]: dict(lambda_a=λ, update_shape=S),\n",
    "    H[4][1]: dict(lambda_a=λ, update_shape=S),\n",
    "}"
   ]
  },
  {
   "cell_type": "markdown",
   "metadata": {
    "lines_to_next_cell": 2
   },
   "source": [
    "It will be interesting to see how the optimization progresses for each\n",
    "individual element of the ensemble. Thus, we write an `info_hook` routine that\n",
    "prints out a tabular overview of $1 - \\Re\\Braket{\\Psi(T)}{3}_{\\Op{H}_i}$ for\n",
    "all $\\Op{H}_i$ in the ensemble, as well as their average (the total functional\n",
    "$J_T$ that is being minimized)\n",
    "\n",
    "\n",
    "\n",
    "\n",
    "\n"
   ]
  },
  {
   "cell_type": "code",
   "execution_count": 26,
   "metadata": {},
   "outputs": [],
   "source": [
    "def print_J_T_per_target(**kwargs):\n",
    "    iteration = kwargs['iteration']\n",
    "    N = len(ensemble_mu)\n",
    "    if iteration == 0:\n",
    "        print(\n",
    "            \"iteration \"\n",
    "            + \"%11s \" % \"J_T(avg)\"\n",
    "            + \" \".join([(\"J_T(μ=%.2f)\" % μ) for μ in ensemble_mu])\n",
    "        )\n",
    "    J_T_vals = 1 - kwargs['tau_vals'].real\n",
    "    J_T = np.sum(J_T_vals) / N\n",
    "    print(\n",
    "        (\"%9d \" % iteration)\n",
    "        + (\"%11.2e \" % J_T)\n",
    "        + \" \".join([(\"%11.2e\" % v) for v in J_T_vals])\n",
    "    )"
   ]
  },
  {
   "cell_type": "markdown",
   "metadata": {},
   "source": [
    "We'll also want to look at the output of ``krotov.info_hooks.print_table``, but\n",
    "in order to keep the output orderly, we will write that information to a file\n",
    "`ensemble_opt.log`."
   ]
  },
  {
   "cell_type": "code",
   "execution_count": 27,
   "metadata": {},
   "outputs": [],
   "source": [
    "log_fh = open(\"ensemble_opt.log\", \"w\", encoding=\"utf-8\")"
   ]
  },
  {
   "cell_type": "markdown",
   "metadata": {},
   "source": [
    "To speed up the optimization slightly, we parallelize across the five\n",
    "objectives with appropriate `parallel_map` functions.\n",
    "The optimization starts for the same guess pulses as the original [Optimization\n",
    "of a State-to-State Transfer in a Lambda System in the\n",
    "RWA](02_example_lambda_system_rwa_complex_pulse.ipynb). Generally, for a\n",
    "robustness ensemble optimization, this will yield better results than trying to\n",
    "take the optimized pulses for the unperturbed system as a guess.\n"
   ]
  },
  {
   "cell_type": "code",
   "execution_count": 28,
   "metadata": {
    "attributes": {
     "classes": [],
     "id": "",
     "n": "16"
    }
   },
   "outputs": [
    {
     "name": "stdout",
     "output_type": "stream",
     "text": [
      "iteration    J_T(avg) J_T(μ=1.00) J_T(μ=0.90) J_T(μ=0.95) J_T(μ=1.05) J_T(μ=1.10)\n",
      "        0    1.01e+00    1.01e+00    1.01e+00    1.01e+00    1.01e+00    1.01e+00\n",
      "        1    6.79e-01    6.75e-01    6.94e-01    6.83e-01    6.71e-01    6.71e-01\n",
      "        2    4.14e-01    4.07e-01    4.41e-01    4.21e-01    4.00e-01    4.00e-01\n",
      "        3    2.36e-01    2.27e-01    2.68e-01    2.43e-01    2.20e-01    2.23e-01\n",
      "        4    1.32e-01    1.21e-01    1.63e-01    1.37e-01    1.16e-01    1.22e-01\n",
      "        5    7.46e-02    6.29e-02    1.04e-01    7.78e-02    5.98e-02    6.86e-02\n",
      "        6    4.47e-02    3.24e-02    7.13e-02    4.58e-02    3.13e-02    4.26e-02\n",
      "        7    2.92e-02    1.66e-02    5.32e-02    2.88e-02    1.72e-02    3.04e-02\n",
      "        8    2.14e-02    8.59e-03    4.32e-02    1.96e-02    1.04e-02    2.50e-02\n",
      "        9    1.73e-02    4.48e-03    3.74e-02    1.46e-02    7.25e-03    2.28e-02\n",
      "       10    1.52e-02    2.38e-03    3.41e-02    1.19e-02    5.83e-03    2.21e-02\n",
      "       11    1.42e-02    1.29e-03    3.20e-02    1.03e-02    5.23e-03    2.20e-02\n",
      "       12    1.36e-02    7.20e-04    3.07e-02    9.37e-03    5.00e-03    2.20e-02\n"
     ]
    }
   ],
   "source": [
    "opt_result = krotov.optimize_pulses(\n",
    "    ensemble_objectives,\n",
    "    pulse_options,\n",
    "    tlist,\n",
    "    propagator=krotov.propagators.expm,\n",
    "    chi_constructor=krotov.functionals.chis_re,\n",
    "    info_hook=krotov.info_hooks.chain(\n",
    "        print_J_T_per_target,\n",
    "        krotov.info_hooks.print_table(\n",
    "            J_T=krotov.functionals.J_T_re, out=log_fh\n",
    "        ),\n",
    "    ),\n",
    "    check_convergence=krotov.convergence.Or(\n",
    "        krotov.convergence.value_below(1e-3, name='J_T'),\n",
    "        krotov.convergence.check_monotonic_error,\n",
    "    ),\n",
    "    parallel_map=(\n",
    "        qutip.parallel_map,\n",
    "        qutip.parallel_map,\n",
    "        krotov.parallelization.parallel_map_fw_prop_step,\n",
    "    ),\n",
    "    iter_stop=12,\n",
    ")"
   ]
  },
  {
   "cell_type": "markdown",
   "metadata": {},
   "source": [
    "After twelve iterations (which were sufficient to produce an error $<10^{-3}$\n",
    "in the original optimization), we find the average error over the ensemble to\n",
    "be still above $>10^{-2}$. However, the error for $\\mu = 1$ is only *slightly*\n",
    "larger than in the original optimization; the lack of success is entirely due\n",
    "to the large error for the other elements of the ensemble for $\\mu \\neq 1$.\n",
    "Achieving robustness is hard!\n",
    "\n",
    "We continue the optimization until the *average* error falls below $10^{-3}$:\n"
   ]
  },
  {
   "cell_type": "code",
   "execution_count": 29,
   "metadata": {},
   "outputs": [
    {
     "name": "stdout",
     "output_type": "stream",
     "text": [
      "iteration    J_T(avg) J_T(μ=1.00) J_T(μ=0.90) J_T(μ=0.95) J_T(μ=1.05) J_T(μ=1.10)\n",
      "        0    1.36e-02    7.20e-04    3.07e-02    9.37e-03    5.00e-03    2.20e-02\n",
      "      ...\n",
      "      670    1.05e-03    1.10e-04    2.80e-03    4.83e-04    5.22e-04    1.34e-03\n",
      "      671    1.05e-03    1.10e-04    2.79e-03    4.79e-04    5.20e-04    1.33e-03\n",
      "      672    1.04e-03    1.10e-04    2.77e-03    4.76e-04    5.17e-04    1.33e-03\n",
      "      673    1.03e-03    1.11e-04    2.76e-03    4.73e-04    5.14e-04    1.32e-03\n",
      "      674    1.03e-03    1.11e-04    2.74e-03    4.70e-04    5.11e-04    1.31e-03\n",
      "      675    1.02e-03    1.11e-04    2.72e-03    4.66e-04    5.08e-04    1.30e-03\n",
      "      676    1.02e-03    1.12e-04    2.71e-03    4.63e-04    5.06e-04    1.29e-03\n",
      "      677    1.01e-03    1.12e-04    2.69e-03    4.60e-04    5.03e-04    1.28e-03\n",
      "      678    1.00e-03    1.12e-04    2.68e-03    4.57e-04    5.00e-04    1.27e-03\n",
      "      679    9.99e-04    1.13e-04    2.67e-03    4.54e-04    4.98e-04    1.27e-03\n"
     ]
    }
   ],
   "source": [
    "dumpfile = \"./ensemble_opt_result.dump\"\n",
    "if os.path.isfile(dumpfile):\n",
    "    opt_result = krotov.result.Result.load(dumpfile, objectives)\n",
    "    print_J_T_per_target(iteration=0, tau_vals=opt_result.tau_vals[12])\n",
    "    print(\"      ...\")\n",
    "    n_iters = len(opt_result.tau_vals)\n",
    "    for i in range(n_iters - 10, n_iters):\n",
    "        print_J_T_per_target(iteration=i, tau_vals=opt_result.tau_vals[i])\n",
    "else:\n",
    "    opt_result = krotov.optimize_pulses(\n",
    "        ensemble_objectives,\n",
    "        pulse_options,\n",
    "        tlist,\n",
    "        propagator=krotov.propagators.expm,\n",
    "        chi_constructor=krotov.functionals.chis_re,\n",
    "        info_hook=krotov.info_hooks.chain(\n",
    "            print_J_T_per_target,\n",
    "            krotov.info_hooks.print_table(\n",
    "                J_T=krotov.functionals.J_T_re, out=log_fh\n",
    "            ),\n",
    "        ),\n",
    "        check_convergence=krotov.convergence.Or(\n",
    "            krotov.convergence.value_below(1e-3, name='J_T'),\n",
    "            krotov.convergence.check_monotonic_error,\n",
    "        ),\n",
    "        parallel_map=(\n",
    "            qutip.parallel_map,\n",
    "            qutip.parallel_map,\n",
    "            krotov.parallelization.parallel_map_fw_prop_step,\n",
    "        ),\n",
    "        iter_stop=1000,\n",
    "        continue_from=opt_result,\n",
    "    )\n",
    "    opt_result.dump(dumpfile)"
   ]
  },
  {
   "cell_type": "code",
   "execution_count": 30,
   "metadata": {},
   "outputs": [
    {
     "data": {
      "text/plain": [
       "Krotov Optimization Result\n",
       "--------------------------\n",
       "- Started at 2019-04-11 20:07:54\n",
       "- Number of objectives: 1\n",
       "- Number of iterations: 679\n",
       "- Reason for termination: Reached convergence: J_T < 0.001\n",
       "- Ended at 2019-04-11 21:45:38"
      ]
     },
     "execution_count": 30,
     "metadata": {},
     "output_type": "execute_result"
    }
   ],
   "source": [
    "opt_result"
   ]
  },
  {
   "cell_type": "code",
   "execution_count": 31,
   "metadata": {},
   "outputs": [],
   "source": [
    "log_fh.close()"
   ]
  },
  {
   "cell_type": "markdown",
   "metadata": {},
   "source": [
    "Even now, the ideal Hamiltonian ($\\mu = 1$) has the lowest error in the\n",
    "ensemble by a significant margin. However, notice that the error in the $J_T$\n",
    "for $\\mu = 1$ is actually rising, while the errors for values of $\\mu \\neq 1$\n",
    "are falling by a much larger value! This is a good thing: we sacrifice a little\n",
    "bit of fidelity in the unperturbed dynamics to an increase in robustness.\n",
    "\n",
    "The optimized \"robust\" pulse looks as follows:"
   ]
  },
  {
   "cell_type": "code",
   "execution_count": 32,
   "metadata": {},
   "outputs": [
    {
     "name": "stdout",
     "output_type": "stream",
     "text": [
      "pump pulse amplitude and phase:\n"
     ]
    },
    {
     "data": {
      "image/png": "[encoded data removed]",
      "text/plain": [
       "<Figure size 432x288 with 2 Axes>"
      ]
     },
     "metadata": {
      "needs_background": "light"
     },
     "output_type": "display_data"
    },
    {
     "name": "stdout",
     "output_type": "stream",
     "text": [
      "Stokes pulse amplitude and phase:\n"
     ]
    },
    {
     "data": {
      "image/png": "[encoded data removed]",
      "text/plain": [
       "<Figure size 432x288 with 2 Axes>"
      ]
     },
     "metadata": {
      "needs_background": "light"
     },
     "output_type": "display_data"
    }
   ],
   "source": [
    "def plot_pulse_amplitude_and_phase(pulse_real, pulse_imaginary, tlist):\n",
    "    ax1 = plt.subplot(211)\n",
    "    ax2 = plt.subplot(212)\n",
    "    amplitudes = [\n",
    "        np.sqrt(x * x + y * y) for x, y in zip(pulse_real, pulse_imaginary)\n",
    "    ]\n",
    "    phases = [\n",
    "        np.arctan2(y, x) / np.pi for x, y in zip(pulse_real, pulse_imaginary)\n",
    "    ]\n",
    "    ax1.plot(tlist, amplitudes)\n",
    "    ax1.set_xlabel('time')\n",
    "    ax1.set_ylabel('pulse amplitude')\n",
    "    ax2.plot(tlist, phases)\n",
    "    ax2.set_xlabel('time')\n",
    "    ax2.set_ylabel('pulse phase (π)')\n",
    "    plt.show()\n",
    "\n",
    "\n",
    "print(\"pump pulse amplitude and phase:\")\n",
    "plot_pulse_amplitude_and_phase(\n",
    "    opt_result.optimized_controls[0], opt_result.optimized_controls[1], tlist\n",
    ")\n",
    "print(\"Stokes pulse amplitude and phase:\")\n",
    "plot_pulse_amplitude_and_phase(\n",
    "    opt_result.optimized_controls[2], opt_result.optimized_controls[3], tlist\n",
    ")"
   ]
  },
  {
   "cell_type": "markdown",
   "metadata": {},
   "source": [
    "and produces the dynamics (in the unperturbed system) shown below:"
   ]
  },
  {
   "cell_type": "code",
   "execution_count": 33,
   "metadata": {},
   "outputs": [],
   "source": [
    "opt_robust_dynamics = opt_result.optimized_objectives[0].mesolve(\n",
    "    tlist, e_ops=[proj1, proj2, proj3]\n",
    ")"
   ]
  },
  {
   "cell_type": "code",
   "execution_count": 34,
   "metadata": {},
   "outputs": [
    {
     "data": {
      "image/png": "[encoded data removed]",
      "text/plain": [
       "<Figure size 432x288 with 1 Axes>"
      ]
     },
     "metadata": {
      "needs_background": "light"
     },
     "output_type": "display_data"
    }
   ],
   "source": [
    "plot_population(opt_robust_dynamics)"
   ]
  },
  {
   "cell_type": "markdown",
   "metadata": {},
   "source": [
    "### Robustness analysis"
   ]
  },
  {
   "cell_type": "markdown",
   "metadata": {},
   "source": [
    "When comparing the robustness of the \"robust\" optimized pulse to that obtained\n",
    "from the original optimization for the unperturbed Hamiltonian, we should make\n",
    "sure that we have converged to a comparable error: We would like to avoid the\n",
    "suspicion that the ensemble error is below our threshold only because the error\n",
    "for $\\mu = 1$ is so much lower. Therefore, we continue the original unperturbed\n",
    "optimization for a few more iterations, until we reach the same error $\\approx\n",
    "1.13 \\times 10^{-4}$ that we found as the result of the ensemble optimization,\n",
    "looking at $\\mu=1$ only:"
   ]
  },
  {
   "cell_type": "code",
   "execution_count": 35,
   "metadata": {},
   "outputs": [
    {
     "name": "stdout",
     "output_type": "stream",
     "text": [
      "J_T(μ=1) = 1.13e-04\n"
     ]
    }
   ],
   "source": [
    "print(\"J_T(μ=1) = %.2e\" % (1 - opt_result.tau_vals[-1][0].real))"
   ]
  },
  {
   "cell_type": "code",
   "execution_count": 36,
   "metadata": {},
   "outputs": [
    {
     "name": "stdout",
     "output_type": "stream",
     "text": [
      "  iter.        J_T   g_a_int_1   g_a_int_2   g_a_int_3   g_a_int_4     g_a_int          J  Delta_J_T    Delta J  secs\n",
      "      0   5.91e-04    0.00e+00    0.00e+00    0.00e+00    0.00e+00    0.00e+00   5.91e-04        n/a        n/a     1\n",
      "     13   3.25e-04    1.26e-04    1.98e-05    1.02e-04    1.84e-05    2.66e-04   5.90e-04  -2.66e-04  -3.54e-07     4\n",
      "     14   1.83e-04    6.32e-05    1.41e-05    5.12e-05    1.29e-05    1.41e-04   3.24e-04  -1.42e-04  -2.11e-07     6\n",
      "     15   1.06e-04    3.19e-05    1.00e-05    2.59e-05    9.11e-06    7.69e-05   1.83e-04  -7.70e-05  -1.27e-07     4\n"
     ]
    }
   ],
   "source": [
    "opt_result_unperturbed_cont = krotov.optimize_pulses(\n",
    "    [objective],\n",
    "    pulse_options,\n",
    "    tlist,\n",
    "    propagator=krotov.propagators.expm,\n",
    "    chi_constructor=krotov.functionals.chis_re,\n",
    "    info_hook=krotov.info_hooks.print_table(\n",
    "        J_T=krotov.functionals.J_T_re,\n",
    "        show_g_a_int_per_pulse=True,\n",
    "        unicode=False,\n",
    "    ),\n",
    "    check_convergence=krotov.convergence.Or(\n",
    "        krotov.convergence.value_below(1.13e-4, name='J_T'),\n",
    "        krotov.convergence.check_monotonic_error,\n",
    "    ),\n",
    "    iter_stop=50,\n",
    "    continue_from=opt_result_unperturbed,\n",
    ")"
   ]
  },
  {
   "cell_type": "markdown",
   "metadata": {},
   "source": [
    "Now, we can compare the robustness of the optimized pulses from the original\n",
    "unperturbed optimization (label \"-1\"), the continued unperturbed optimization\n",
    "(label \"0\"), and the ensemble optimization (label \"1\"):"
   ]
  },
  {
   "cell_type": "code",
   "execution_count": 37,
   "metadata": {},
   "outputs": [],
   "source": [
    "def _f(mu):\n",
    "    return pop_error(\n",
    "        opt_result_unperturbed_cont.optimized_objectives[0], mu=mu\n",
    "    )\n",
    "\n",
    "\n",
    "pop_errors_norobust_cont = parallel_map(_f, mu_vals)"
   ]
  },
  {
   "cell_type": "code",
   "execution_count": 38,
   "metadata": {},
   "outputs": [],
   "source": [
    "def _f(mu):\n",
    "    return pop_error(opt_result.optimized_objectives[0], mu=mu)\n",
    "\n",
    "\n",
    "pop_errors_robust = parallel_map(_f, mu_vals)"
   ]
  },
  {
   "cell_type": "code",
   "execution_count": 39,
   "metadata": {},
   "outputs": [
    {
     "data": {
      "image/png": "[encoded data removed]",
      "text/plain": [
       "<Figure size 432x288 with 1 Axes>"
      ]
     },
     "metadata": {
      "needs_background": "light"
     },
     "output_type": "display_data"
    }
   ],
   "source": [
    "plot_robustness(\n",
    "    mu_vals,\n",
    "    pop_errors_robust,\n",
    "    pop_errors0=[pop_errors_norobust_cont, pop_errors_norobust],\n",
    ")"
   ]
  },
  {
   "cell_type": "markdown",
   "metadata": {},
   "source": [
    "We see that without the ensemble optimization, we only lower the error for\n",
    "exactly $\\mu = 1$: the more we converge, the less robust the result. In\n",
    "contrast, the ensemble optimization results in considerably lower errors (order\n",
    "of magnitude!) throughout the highlighted \"region of interest\" and beyond."
   ]
  }
 ],
 "metadata": {
  "hide_input": false,
  "jupytext": {
   "formats": ""
  },
  "kernelspec": {
   "display_name": "Python 3",
   "language": "python",
   "name": "python3"
  },
  "language_info": {
   "codemirror_mode": {
    "name": "ipython",
    "version": 3
   },
   "file_extension": ".py",
   "mimetype": "text/x-python",
   "name": "python",
   "nbconvert_exporter": "python",
   "pygments_lexer": "ipython3",
   "version": "3.7.3"
  },
  "toc": {
   "base_numbering": 1,
   "nav_menu": {},
   "number_sections": true,
   "sideBar": true,
   "skip_h1_title": false,
   "title_cell": "Table of Contents",
   "title_sidebar": "Contents",
   "toc_cell": false,
   "toc_position": {},
   "toc_section_display": true,
   "toc_window_display": false
  },
  "varInspector": {
   "cols": {
    "lenName": 16,
    "lenType": 16,
    "lenVar": 40
   },
   "kernels_config": {
    "python": {
     "delete_cmd_postfix": "",
     "delete_cmd_prefix": "del ",
     "library": "var_list.py",
     "varRefreshCmd": "print(var_dic_list())"
    },
    "r": {
     "delete_cmd_postfix": ") ",
     "delete_cmd_prefix": "rm(",
     "library": "var_list.r",
     "varRefreshCmd": "cat(var_dic_list()) "
    }
   },
   "types_to_exclude": [
    "module",
    "function",
    "builtin_function_or_method",
    "instance",
    "_Feature"
   ],
   "window_display": false
  }
 },
 "nbformat": 4,
 "nbformat_minor": 2
}
