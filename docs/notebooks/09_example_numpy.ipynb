{
 "cells": [
  {
   "cell_type": "markdown",
   "metadata": {},
   "source": [
    "# Optimization with numpy Arrays"
   ]
  },
  {
   "cell_type": "code",
   "execution_count": 1,
   "metadata": {
    "ExecuteTime": {
     "end_time": "2019-02-12T04:19:15.953542Z",
     "start_time": "2019-02-12T04:19:14.691832Z"
    },
    "attributes": {
     "classes": [],
     "id": "",
     "n": "1"
    }
   },
   "outputs": [
    {
     "name": "stdout",
     "output_type": "stream",
     "text": [
      "numpy            1.16.2\n",
      "matplotlib       3.0.3\n",
      "krotov           0.3.0+dev\n",
      "matplotlib.pylab 1.16.2\n",
      "scipy            1.2.1\n",
      "CPython 3.6.8\n",
      "IPython 7.4.0\n"
     ]
    }
   ],
   "source": [
    "# NBVAL_IGNORE_OUTPUT\n",
    "%load_ext watermark\n",
    "import numpy as np\n",
    "import scipy\n",
    "import matplotlib\n",
    "import matplotlib.pylab as plt\n",
    "import krotov\n",
    "# note that qutip is NOT imported\n",
    "%watermark -v --iversions"
   ]
  },
  {
   "cell_type": "markdown",
   "metadata": {},
   "source": [
    "$\\newcommand{tr}[0]{\\operatorname{tr}}\n",
    "\\newcommand{diag}[0]{\\operatorname{diag}}\n",
    "\\newcommand{abs}[0]{\\operatorname{abs}}\n",
    "\\newcommand{pop}[0]{\\operatorname{pop}}\n",
    "\\newcommand{aux}[0]{\\text{aux}}\n",
    "\\newcommand{opt}[0]{\\text{opt}}\n",
    "\\newcommand{tgt}[0]{\\text{tgt}}\n",
    "\\newcommand{init}[0]{\\text{init}}\n",
    "\\newcommand{lab}[0]{\\text{lab}}\n",
    "\\newcommand{rwa}[0]{\\text{rwa}}\n",
    "\\newcommand{bra}[1]{\\langle#1\\vert}\n",
    "\\newcommand{ket}[1]{\\vert#1\\rangle}\n",
    "\\newcommand{Bra}[1]{\\left\\langle#1\\right\\vert}\n",
    "\\newcommand{Ket}[1]{\\left\\vert#1\\right\\rangle}\n",
    "\\newcommand{Braket}[2]{\\left\\langle #1\\vphantom{#2} \\mid\n",
    "#2\\vphantom{#1}\\right\\rangle}\n",
    "\\newcommand{op}[1]{\\hat{#1}}\n",
    "\\newcommand{Op}[1]{\\hat{#1}}\n",
    "\\newcommand{dd}[0]{\\,\\text{d}}\n",
    "\\newcommand{Liouville}[0]{\\mathcal{L}}\n",
    "\\newcommand{DynMap}[0]{\\mathcal{E}}\n",
    "\\newcommand{identity}[0]{\\mathbf{1}}\n",
    "\\newcommand{Norm}[1]{\\lVert#1\\rVert}\n",
    "\\newcommand{Abs}[1]{\\left\\vert#1\\right\\vert}\n",
    "\\newcommand{avg}[1]{\\langle#1\\rangle}\n",
    "\\newcommand{Avg}[1]{\\left\\langle#1\\right\\rangle}\n",
    "\\newcommand{AbsSq}[1]{\\left\\vert#1\\right\\vert^2}\n",
    "\\newcommand{Re}[0]{\\operatorname{Re}}\n",
    "\\newcommand{Im}[0]{\\operatorname{Im}}$"
   ]
  },
  {
   "cell_type": "markdown",
   "metadata": {},
   "source": [
    "The `krotov` package heavily builds on QuTiP. However, in rare circumstances\n",
    "the overhead of `qutip.Qobj` objects might limit numerical efficiency, in\n",
    "particular when QuTiP's automatic sparse storage is inappropriate. If you know\n",
    "what you are doing, it is possible to replace `Qobj`s with low-level objects\n",
    "such as numpy arrays.  This example revisits the [Optimization of a\n",
    "State-to-State Transfer in a Two-Level-System](01_example_simple_state_to_state.ipynb),\n",
    "but exclusively uses numpy objects for states and operators."
   ]
  },
  {
   "cell_type": "markdown",
   "metadata": {},
   "source": [
    "## Two-level-Hamiltonian"
   ]
  },
  {
   "cell_type": "markdown",
   "metadata": {},
   "source": [
    "We consider again the standard Hamiltonian of a two-level system, but now we\n",
    "construct the drift Hamiltonian `H0` and the control Hamiltonian `H1` as numpy\n",
    "matrices:"
   ]
  },
  {
   "cell_type": "code",
   "execution_count": 2,
   "metadata": {},
   "outputs": [],
   "source": [
    "def hamiltonian(omega=1.0, ampl0=0.2):\n",
    "    \"\"\"Two-level-system Hamiltonian\n",
    "\n",
    "    Args:\n",
    "        omega (float): energy separation of the qubit levels\n",
    "        ampl0 (float): constant amplitude of the driving field\n",
    "    \"\"\"\n",
    "    # .full() converts everything to numpy arrays\n",
    "    H0 = -0.5 * omega * np.array([[-1, 0], [0, 1]], dtype=np.complex128)\n",
    "    H1 = np.array([[0, 1], [1, 0]], dtype=np.complex128)\n",
    "\n",
    "    def guess_control(t, args):\n",
    "        return ampl0 * krotov.shapes.flattop(\n",
    "            t, t_start=0, t_stop=5, t_rise=0.3, func=\"sinsq\"\n",
    "        )\n",
    "\n",
    "    return [H0, [H1, guess_control]]\n"
   ]
  },
  {
   "cell_type": "code",
   "execution_count": 3,
   "metadata": {
    "lines_to_next_cell": 2
   },
   "outputs": [],
   "source": [
    "H = hamiltonian()"
   ]
  },
  {
   "cell_type": "markdown",
   "metadata": {},
   "source": [
    "## Optimization target\n",
    "\n",
    "By default, the `Objective` initializer checks that the objective is expressed with\n",
    "QuTiP objects. If we want to use low-level objects instead, we have to\n",
    "explicitly disable this:"
   ]
  },
  {
   "cell_type": "code",
   "execution_count": 4,
   "metadata": {},
   "outputs": [],
   "source": [
    "krotov.Objective.type_checking = False"
   ]
  },
  {
   "cell_type": "markdown",
   "metadata": {},
   "source": [
    "Now, we initialize the initial and target states,\n"
   ]
  },
  {
   "cell_type": "code",
   "execution_count": 5,
   "metadata": {},
   "outputs": [],
   "source": [
    "ket0 = np.array([[1], [0]], dtype=np.complex128)\n",
    "ket1 = np.array([[0], [1]], dtype=np.complex128)"
   ]
  },
  {
   "cell_type": "markdown",
   "metadata": {},
   "source": [
    "and instantiate the `Objective` for the state-to-state transfer:"
   ]
  },
  {
   "cell_type": "code",
   "execution_count": 6,
   "metadata": {},
   "outputs": [
    {
     "data": {
      "text/plain": [
       "[Objective[a₀[2,1] to a₁[2,1] via [a₂[2,2], [a₃[2,2], u₁(t)]]]]"
      ]
     },
     "execution_count": 6,
     "metadata": {},
     "output_type": "execute_result"
    }
   ],
   "source": [
    "objectives = [krotov.Objective(initial_state=ket0, target=ket1, H=H)]\n",
    "\n",
    "objectives"
   ]
  },
  {
   "cell_type": "markdown",
   "metadata": {},
   "source": [
    "Note how all objects are numpy arrays, as indicated by the symbol `a`."
   ]
  },
  {
   "cell_type": "markdown",
   "metadata": {},
   "source": [
    "## Simulate dynamics under the guess field\n",
    "\n",
    "To simulate the dynamics under the guess pulse, we can use the objective's\n",
    "`propagator` method. However, the propagator we use must take into account the\n",
    "format of the states and operators. We define a simple propagator that solve\n",
    "the dynamics within a single time step my matrix exponentiation of the\n",
    "Hamiltonian:"
   ]
  },
  {
   "cell_type": "code",
   "execution_count": 7,
   "metadata": {},
   "outputs": [],
   "source": [
    "def expm(H, state, dt, c_ops=None, backwards=False, initialize=False):\n",
    "    eqm_factor = -1j  # factor in front of H on rhs of the equation of motion\n",
    "    if backwards:\n",
    "        eqm_factor = eqm_factor.conjugate()\n",
    "    A = eqm_factor * H[0]\n",
    "    for part in H[1:]:\n",
    "        A += (eqm_factor * part[1]) * part[0]\n",
    "    return scipy.linalg.expm(A * dt) @ state"
   ]
  },
  {
   "cell_type": "markdown",
   "metadata": {},
   "source": [
    "We will want to analyze the population dynamics, and thus define the projectors\n",
    "on the ground and excited levels, again as numpy matrices:\n"
   ]
  },
  {
   "cell_type": "code",
   "execution_count": 8,
   "metadata": {},
   "outputs": [],
   "source": [
    "proj0 = np.array([[1, 0],[0, 0]], dtype=np.complex128)\n",
    "proj1 = np.array([[0, 0],[0, 1]], dtype=np.complex128)"
   ]
  },
  {
   "cell_type": "markdown",
   "metadata": {},
   "source": [
    "We will pass these as `e_ops` to the `propagate` method, but since `propagate`\n",
    "assumes that `e_ops` contains `Qobj` instances, we will have to teach it how to\n",
    "calculate expectation values:"
   ]
  },
  {
   "cell_type": "code",
   "execution_count": 9,
   "metadata": {},
   "outputs": [],
   "source": [
    "def expect(proj, state):\n",
    "    return complex(state.conj().T @ (proj @ state)).real"
   ]
  },
  {
   "cell_type": "markdown",
   "metadata": {},
   "source": [
    "Now we can simulate the dynamics over a time grid from $t=0$ to $T=5$ and plot\n",
    "the resulting dynamics."
   ]
  },
  {
   "cell_type": "code",
   "execution_count": 10,
   "metadata": {},
   "outputs": [],
   "source": [
    "tlist = np.linspace(0, 5, 500)"
   ]
  },
  {
   "cell_type": "code",
   "execution_count": 11,
   "metadata": {
    "ExecuteTime": {
     "end_time": "2019-02-12T04:19:16.422181Z",
     "start_time": "2019-02-12T04:19:16.265626Z"
    },
    "attributes": {
     "classes": [],
     "id": "",
     "n": "12"
    }
   },
   "outputs": [],
   "source": [
    "guess_dynamics = objectives[0].propagate(tlist, propagator=expm, e_ops=[proj0, proj1], expect=expect)"
   ]
  },
  {
   "cell_type": "code",
   "execution_count": 12,
   "metadata": {
    "ExecuteTime": {
     "end_time": "2019-02-12T04:19:16.429662Z",
     "start_time": "2019-02-12T04:19:16.424216Z"
    },
    "attributes": {
     "classes": [],
     "id": "",
     "n": "13"
    }
   },
   "outputs": [],
   "source": [
    "def plot_population(result):\n",
    "    fig, ax = plt.subplots()\n",
    "    ax.plot(result.times, result.expect[0], label='0')\n",
    "    ax.plot(result.times, result.expect[1], label='1')\n",
    "    ax.legend()\n",
    "    ax.set_xlabel('time')\n",
    "    ax.set_ylabel('population')\n",
    "    plt.show(fig)"
   ]
  },
  {
   "cell_type": "code",
   "execution_count": 13,
   "metadata": {
    "ExecuteTime": {
     "end_time": "2019-02-12T04:19:16.606020Z",
     "start_time": "2019-02-12T04:19:16.433034Z"
    },
    "attributes": {
     "classes": [],
     "id": "",
     "n": "14"
    }
   },
   "outputs": [
    {
     "data": {
      "image/png": "[encoded data removed]",
      "text/plain": [
       "<Figure size 432x288 with 1 Axes>"
      ]
     },
     "metadata": {
      "needs_background": "light"
     },
     "output_type": "display_data"
    }
   ],
   "source": [
    "plot_population(guess_dynamics)"
   ]
  },
  {
   "cell_type": "markdown",
   "metadata": {},
   "source": [
    "The result is the same as in the original example.\n",
    "\n",
    "## Optimize\n",
    "\n",
    "First, we define the update shape and step width as before:"
   ]
  },
  {
   "cell_type": "code",
   "execution_count": 14,
   "metadata": {},
   "outputs": [],
   "source": [
    "def S(t):\n",
    "    \"\"\"Shape function for the field update\"\"\"\n",
    "    return krotov.shapes.flattop(\n",
    "        t, t_start=0, t_stop=5, t_rise=0.3, t_fall=0.3, func='sinsq'\n",
    "    )"
   ]
  },
  {
   "cell_type": "code",
   "execution_count": 15,
   "metadata": {},
   "outputs": [],
   "source": [
    "pulse_options = {\n",
    "    H[1][1]: dict(lambda_a=5, shape=S)\n",
    "}"
   ]
  },
  {
   "cell_type": "markdown",
   "metadata": {},
   "source": [
    "Now we can run the optimization with only small additional adjustments. This is\n",
    "because Krotov's method internally does very little with the states and\n",
    "operators: nearly all of the numerical effort is in the propagator, which we\n",
    "have already defined above for the specific use of numpy arrays.\n",
    "\n",
    "Beyond this, the optimization only needs to know three things: First, it must\n",
    "know how to calculate and apply the operator $\\partial H/\\partial \\epsilon$. We\n",
    "can easily teach it how to do this:"
   ]
  },
  {
   "cell_type": "code",
   "execution_count": 16,
   "metadata": {},
   "outputs": [],
   "source": [
    "def mu(objectives, i_objective, pulses, pulses_mapping, i_pulse, time_index):\n",
    "    def _mu(state):\n",
    "        return H[1][0] @ state\n",
    "    return _mu"
   ]
  },
  {
   "cell_type": "markdown",
   "metadata": {},
   "source": [
    "Second, the pulse updates are calculated from an overlap of states, and we\n",
    "define an appropriate function for numpy arrays:"
   ]
  },
  {
   "cell_type": "code",
   "execution_count": 17,
   "metadata": {},
   "outputs": [],
   "source": [
    "def overlap(psi1, psi2):\n",
    "    return complex(psi1.conj().T @ psi2)"
   ]
  },
  {
   "cell_type": "markdown",
   "metadata": {},
   "source": [
    "Third, it must know how to calculate the norm of states, for which we can use `np.linalg.norm`."
   ]
  },
  {
   "cell_type": "markdown",
   "metadata": {},
   "source": [
    "By passing all these routines to `optimize_pulses`, we get the exact same\n",
    "results as in the original example, except much faster:"
   ]
  },
  {
   "cell_type": "code",
   "execution_count": 18,
   "metadata": {
    "ExecuteTime": {
     "end_time": "2019-02-12T04:19:31.206467Z",
     "start_time": "2019-02-12T04:19:16.608784Z"
    },
    "attributes": {
     "classes": [],
     "id": "",
     "n": "15"
    },
    "scrolled": false
   },
   "outputs": [
    {
     "name": "stdout",
     "output_type": "stream",
     "text": [
      "  iter.        J_T    ∫gₐ(t)dt          J       ΔJ_T         ΔJ  secs\n",
      "      0   1.00e+00    0.00e+00   1.00e+00        n/a        n/a     0\n",
      "      1   7.65e-01    2.33e-02   7.88e-01  -2.35e-01  -2.12e-01     0\n",
      "      2   5.56e-01    2.07e-02   5.77e-01  -2.09e-01  -1.88e-01     0\n",
      "      3   3.89e-01    1.66e-02   4.05e-01  -1.67e-01  -1.51e-01     0\n",
      "      4   2.65e-01    1.23e-02   2.77e-01  -1.24e-01  -1.12e-01     0\n",
      "      5   1.78e-01    8.63e-03   1.87e-01  -8.68e-02  -7.82e-02     0\n",
      "      6   1.19e-01    5.86e-03   1.25e-01  -5.89e-02  -5.30e-02     0\n",
      "      7   8.01e-02    3.91e-03   8.40e-02  -3.92e-02  -3.53e-02     0\n",
      "      8   5.42e-02    2.58e-03   5.68e-02  -2.59e-02  -2.33e-02     0\n",
      "      9   3.71e-02    1.70e-03   3.88e-02  -1.71e-02  -1.54e-02     0\n",
      "     10   2.58e-02    1.13e-03   2.70e-02  -1.13e-02  -1.02e-02     0\n"
     ]
    }
   ],
   "source": [
    "oct_result = krotov.optimize_pulses(\n",
    "    objectives,\n",
    "    pulse_options=pulse_options,\n",
    "    tlist=tlist,\n",
    "    propagator=expm,\n",
    "    chi_constructor=krotov.functionals.chis_re,\n",
    "    info_hook=krotov.info_hooks.print_table(J_T=krotov.functionals.J_T_re),\n",
    "    check_convergence=krotov.convergence.check_monotonic_error,\n",
    "    iter_stop=10,\n",
    "    norm=np.linalg.norm,\n",
    "    mu=mu,\n",
    "    overlap=overlap,\n",
    ")"
   ]
  },
  {
   "cell_type": "code",
   "execution_count": 19,
   "metadata": {
    "ExecuteTime": {
     "end_time": "2019-02-12T04:19:31.215151Z",
     "start_time": "2019-02-12T04:19:31.209159Z"
    },
    "attributes": {
     "classes": [],
     "id": "",
     "n": "16"
    }
   },
   "outputs": [
    {
     "data": {
      "text/plain": [
       "Krotov Optimization Result\n",
       "--------------------------\n",
       "- Started at 2019-04-21 18:33:30\n",
       "- Number of objectives: 1\n",
       "- Number of iterations: 10\n",
       "- Reason for termination: Reached 10 iterations\n",
       "- Ended at 2019-04-21 18:33:33"
      ]
     },
     "execution_count": 19,
     "metadata": {},
     "output_type": "execute_result"
    }
   ],
   "source": [
    "oct_result"
   ]
  }
 ],
 "metadata": {
  "hide_input": false,
  "kernelspec": {
   "display_name": "Python 3",
   "language": "python",
   "name": "python3"
  },
  "language_info": {
   "codemirror_mode": {
    "name": "ipython",
    "version": 3
   },
   "file_extension": ".py",
   "mimetype": "text/x-python",
   "name": "python",
   "nbconvert_exporter": "python",
   "pygments_lexer": "ipython3",
   "version": "3.6.8"
  },
  "toc": {
   "base_numbering": 1,
   "nav_menu": {},
   "number_sections": true,
   "sideBar": true,
   "skip_h1_title": false,
   "title_cell": "Table of Contents",
   "title_sidebar": "Contents",
   "toc_cell": false,
   "toc_position": {},
   "toc_section_display": true,
   "toc_window_display": false
  },
  "varInspector": {
   "cols": {
    "lenName": 16,
    "lenType": 16,
    "lenVar": 40
   },
   "kernels_config": {
    "python": {
     "delete_cmd_postfix": "",
     "delete_cmd_prefix": "del ",
     "library": "var_list.py",
     "varRefreshCmd": "print(var_dic_list())"
    },
    "r": {
     "delete_cmd_postfix": ") ",
     "delete_cmd_prefix": "rm(",
     "library": "var_list.r",
     "varRefreshCmd": "cat(var_dic_list()) "
    }
   },
   "types_to_exclude": [
    "module",
    "function",
    "builtin_function_or_method",
    "instance",
    "_Feature"
   ],
   "window_display": false
  }
 },
 "nbformat": 4,
 "nbformat_minor": 2
}