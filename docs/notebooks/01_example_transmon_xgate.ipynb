{
 "cells": [
  {
   "cell_type": "markdown",
   "metadata": {},
   "source": [
    "# Optimization of an X-Gate for a Transmon Qubit"
   ]
  },
  {
   "cell_type": "code",
   "execution_count": 1,
   "metadata": {
    "attributes": {
     "classes": [],
     "id": "",
     "n": "1"
    }
   },
   "outputs": [
    {
     "name": "stdout",
     "output_type": "stream",
     "text": [
      "qutip       4.3.1\n",
      "numpy       1.15.4\n",
      "scipy       1.1.0\n",
      "matplotlib  3.0.2\n",
      "matplotlib.pylab  1.15.4\n",
      "krotov      0.0.1\n",
      "CPython 3.6.7\n",
      "IPython 7.1.1\n"
     ]
    }
   ],
   "source": [
    "# NBVAL_IGNORE_OUTPUT\n",
    "%load_ext watermark\n",
    "import qutip\n",
    "import numpy as np\n",
    "import scipy\n",
    "import matplotlib\n",
    "import matplotlib.pylab as plt\n",
    "import krotov\n",
    "%watermark -v --iversions"
   ]
  },
  {
   "cell_type": "markdown",
   "metadata": {},
   "source": [
    "## Define the Hamiltonian"
   ]
  },
  {
   "cell_type": "code",
   "execution_count": 2,
   "metadata": {
    "attributes": {
     "classes": [],
     "id": "",
     "n": "2"
    }
   },
   "outputs": [],
   "source": [
    "def transmon_ham_and_states(Ec=0.386, EjEc=45, nstates=8, ng=0.0, T=10.0, steps=1000):\n",
    "    \"\"\"Transmon Hamiltonian\"\"\"\n",
    "    Ej = EjEc * Ec\n",
    "    n = np.arange(-nstates, nstates+1)\n",
    "    up = np.diag(np.ones(2*nstates),k=-1)\n",
    "    do = up.T\n",
    "    H0 = qutip.Qobj(np.diag(4*Ec*(n - ng)**2) - Ej*(up+do)/2.0)\n",
    "    H1 = qutip.Qobj(-2*np.diag(n))\n",
    "    \n",
    "    eigenvals, eigenvecs = scipy.linalg.eig(H0.full())\n",
    "    ndx = np.argsort(eigenvals.real)\n",
    "    E = eigenvals[ndx].real\n",
    "    V = eigenvecs[:,ndx]\n",
    "    w01 = E[1]-E[0] # Transition energy between states\n",
    "    \n",
    "    psi0 = qutip.Qobj(V[:, 0])\n",
    "    psi1 = qutip.Qobj(V[:, 1])    \n",
    "    \n",
    "    profile = lambda t: np.exp(-40.0*(t/T - 0.5)**2)\n",
    "    eps0 = lambda t, args: 0.5 * profile(t) * np.cos(8*np.pi*w01*t)\n",
    "    return ([H0, [H1, eps0]], psi0, psi1)"
   ]
  },
  {
   "cell_type": "code",
   "execution_count": 3,
   "metadata": {
    "attributes": {
     "classes": [],
     "id": "",
     "n": "3"
    }
   },
   "outputs": [],
   "source": [
    "H, psi0, psi1 = transmon_ham_and_states()"
   ]
  },
  {
   "cell_type": "code",
   "execution_count": 4,
   "metadata": {
    "attributes": {
     "classes": [],
     "id": "",
     "n": "4"
    }
   },
   "outputs": [],
   "source": [
    "proj0 = psi0 * psi0.dag()\n",
    "proj1 = psi1 * psi1.dag()"
   ]
  },
  {
   "cell_type": "code",
   "execution_count": 5,
   "metadata": {
    "attributes": {
     "classes": [],
     "id": "",
     "n": "5"
    }
   },
   "outputs": [],
   "source": [
    "tlist = np.linspace(0, 10, 1000)"
   ]
  },
  {
   "cell_type": "markdown",
   "metadata": {},
   "source": [
    "## Simulate dynamics of the guess pulse"
   ]
  },
  {
   "cell_type": "code",
   "execution_count": 6,
   "metadata": {
    "attributes": {
     "classes": [],
     "id": "",
     "n": "7"
    }
   },
   "outputs": [],
   "source": [
    "def plot_pulse(pulse, tlist):\n",
    "    fig, ax = plt.subplots()\n",
    "    if callable(pulse):\n",
    "        pulse = np.array([pulse(t, None) for t in tlist])\n",
    "    ax.plot(tlist, pulse)\n",
    "    ax.set_xlabel('time')\n",
    "    ax.set_ylabel('pulse amplitude')\n",
    "    plt.show(fig)"
   ]
  },
  {
   "cell_type": "code",
   "execution_count": 7,
   "metadata": {},
   "outputs": [
    {
     "data": {
      "image/png": "[encoded data removed]",
      "text/plain": [
       "<Figure size 432x288 with 1 Axes>"
      ]
     },
     "metadata": {
      "needs_background": "light"
     },
     "output_type": "display_data"
    }
   ],
   "source": [
    "plot_pulse(H[1][1], tlist)"
   ]
  },
  {
   "cell_type": "code",
   "execution_count": 8,
   "metadata": {
    "attributes": {
     "classes": [],
     "id": "",
     "n": "6"
    }
   },
   "outputs": [],
   "source": [
    "guess_dynamics = qutip.mesolve(H, psi0, e_ops=[proj0, proj1], tlist=tlist)"
   ]
  },
  {
   "cell_type": "code",
   "execution_count": 9,
   "metadata": {
    "attributes": {
     "classes": [],
     "id": "",
     "n": "7"
    }
   },
   "outputs": [],
   "source": [
    "def plot_population(result):\n",
    "    fig, ax = plt.subplots()\n",
    "    ax.plot(result.times, result.expect[0], label='0')\n",
    "    ax.plot(result.times, result.expect[1], label='1')\n",
    "    ax.legend()\n",
    "    ax.set_xlabel('time')\n",
    "    ax.set_ylabel('population')\n",
    "    plt.show(fig)"
   ]
  },
  {
   "cell_type": "code",
   "execution_count": 10,
   "metadata": {
    "attributes": {
     "classes": [],
     "id": "",
     "n": "8"
    }
   },
   "outputs": [
    {
     "data": {
      "image/png": "[encoded data removed]",
      "text/plain": [
       "<Figure size 432x288 with 1 Axes>"
      ]
     },
     "metadata": {
      "needs_background": "light"
     },
     "output_type": "display_data"
    }
   ],
   "source": [
    "plot_population(guess_dynamics)"
   ]
  },
  {
   "cell_type": "markdown",
   "metadata": {},
   "source": [
    "## Optimize"
   ]
  },
  {
   "cell_type": "code",
   "execution_count": 11,
   "metadata": {
    "attributes": {
     "classes": [],
     "id": "",
     "n": "9"
    }
   },
   "outputs": [],
   "source": [
    "import logging\n",
    "logger = logging.getLogger()\n",
    "logger.setLevel(logging.DEBUG)"
   ]
  },
  {
   "cell_type": "code",
   "execution_count": 12,
   "metadata": {
    "attributes": {
     "classes": [],
     "id": "",
     "n": "10"
    }
   },
   "outputs": [],
   "source": [
    "objectives = [\n",
    "    krotov.Objective(initial_state=psi0, target_state=psi1, H=H),\n",
    "    krotov.Objective(initial_state=psi1, target_state=psi0, H=H)\n",
    "]\n",
    "\n",
    "def S(t):\n",
    "    dt = tlist[1] - tlist[0]\n",
    "    steps = len(tlist)\n",
    "    return np.exp(-40.0*(t/((steps-1)*dt)-0.5)**2)\n",
    "\n",
    "pulse_options = {\n",
    "    H[1][1]: krotov.PulseOptions(lambda_a=1, shape=S)\n",
    "}\n",
    "\n",
    "def print_fidelity(**args): \n",
    "    F_re = np.average(np.array(args['tau_vals']).real)\n",
    "    print(\"Iteration %d: \\tF = %f\" % (args['iteration'], F_re))\n",
    "    return F_re"
   ]
  },
  {
   "cell_type": "code",
   "execution_count": 13,
   "metadata": {
    "attributes": {
     "classes": [],
     "id": "",
     "n": "11"
    }
   },
   "outputs": [
    {
     "name": "stderr",
     "output_type": "stream",
     "text": [
      "INFO:krotov:Initializing optimization with Krotov's method\n",
      "INFO:krotov:Started initial forward propagation of objective 0\n",
      "INFO:krotov:Finished initial forward propagation of objective 0\n",
      "INFO:krotov:Started initial forward propagation of objective 1\n",
      "INFO:krotov:Finished initial forward propagation of objective 1\n",
      "INFO:krotov:Started Krotov iteration 1\n",
      "INFO:krotov:Started backward propagation of state 0\n"
     ]
    },
    {
     "name": "stdout",
     "output_type": "stream",
     "text": [
      "Iteration 0: \tF = 0.000000\n"
     ]
    },
    {
     "name": "stderr",
     "output_type": "stream",
     "text": [
      "INFO:krotov:Finished backward propagation of state 0\n",
      "INFO:krotov:Started backward propagation of state 1\n",
      "INFO:krotov:Finished backward propagation of state 1\n",
      "INFO:krotov:Started forward propagation/pulse update\n",
      "INFO:krotov:Finished forward propagation/pulse update\n",
      "INFO:krotov:Finished Krotov iteration 1\n",
      "INFO:krotov:Started Krotov iteration 2\n",
      "INFO:krotov:Started backward propagation of state 0\n"
     ]
    },
    {
     "name": "stdout",
     "output_type": "stream",
     "text": [
      "Iteration 1: \tF = 0.107181\n"
     ]
    },
    {
     "name": "stderr",
     "output_type": "stream",
     "text": [
      "INFO:krotov:Finished backward propagation of state 0\n",
      "INFO:krotov:Started backward propagation of state 1\n",
      "INFO:krotov:Finished backward propagation of state 1\n",
      "INFO:krotov:Started forward propagation/pulse update\n",
      "INFO:krotov:Finished forward propagation/pulse update\n",
      "INFO:krotov:Finished Krotov iteration 2\n",
      "INFO:krotov:Started Krotov iteration 3\n",
      "INFO:krotov:Started backward propagation of state 0\n"
     ]
    },
    {
     "name": "stdout",
     "output_type": "stream",
     "text": [
      "Iteration 2: \tF = 0.410152\n"
     ]
    },
    {
     "name": "stderr",
     "output_type": "stream",
     "text": [
      "INFO:krotov:Finished backward propagation of state 0\n",
      "INFO:krotov:Started backward propagation of state 1\n",
      "INFO:krotov:Finished backward propagation of state 1\n",
      "INFO:krotov:Started forward propagation/pulse update\n",
      "INFO:krotov:Finished forward propagation/pulse update\n",
      "INFO:krotov:Finished Krotov iteration 3\n"
     ]
    },
    {
     "name": "stdout",
     "output_type": "stream",
     "text": [
      "Iteration 3: \tF = 0.694378\n"
     ]
    }
   ],
   "source": [
    "oct_result = krotov.optimize_pulses(\n",
    "    objectives, pulse_options, tlist,\n",
    "    propagator=krotov.propagators.expm,\n",
    "    chi_constructor=krotov.functionals.chis_re,\n",
    "    info_hook=print_fidelity, iter_stop=3)"
   ]
  },
  {
   "cell_type": "code",
   "execution_count": 14,
   "metadata": {
    "attributes": {
     "classes": [],
     "id": "",
     "n": "12"
    }
   },
   "outputs": [
    {
     "data": {
      "text/plain": [
       "Krotov Optimization Result\n",
       "--------------------------\n",
       "- Started at 2018-11-13 12:06:42\n",
       "- Number of objectives: 2\n",
       "- Number of iterations: 3\n",
       "- Ended at 2018-11-13 12:07:02"
      ]
     },
     "execution_count": 14,
     "metadata": {},
     "output_type": "execute_result"
    }
   ],
   "source": [
    "# NBVAL_IGNORE_OUTPUT\n",
    "oct_result"
   ]
  },
  {
   "cell_type": "code",
   "execution_count": 15,
   "metadata": {
    "attributes": {
     "classes": [],
     "id": "",
     "n": "13"
    }
   },
   "outputs": [
    {
     "data": {
      "text/plain": [
       "['1.94e-08', '1.07e-01', '4.10e-01', '6.94e-01']"
      ]
     },
     "execution_count": 15,
     "metadata": {},
     "output_type": "execute_result"
    }
   ],
   "source": [
    "[\"%.2e\" % F for F in oct_result.info_vals]"
   ]
  },
  {
   "cell_type": "code",
   "execution_count": 16,
   "metadata": {},
   "outputs": [],
   "source": [
    "logger.setLevel(logging.WARN)"
   ]
  },
  {
   "cell_type": "markdown",
   "metadata": {},
   "source": [
    "## Simulate dynamics of the optimized pulse"
   ]
  },
  {
   "cell_type": "code",
   "execution_count": 17,
   "metadata": {},
   "outputs": [],
   "source": [
    "oct_control = oct_result.optimized_controls[0]"
   ]
  },
  {
   "cell_type": "code",
   "execution_count": 18,
   "metadata": {},
   "outputs": [
    {
     "data": {
      "image/png": "[encoded data removed]",
      "text/plain": [
       "<Figure size 432x288 with 1 Axes>"
      ]
     },
     "metadata": {
      "needs_background": "light"
     },
     "output_type": "display_data"
    }
   ],
   "source": [
    "plot_pulse(oct_control, tlist)"
   ]
  },
  {
   "cell_type": "code",
   "execution_count": 19,
   "metadata": {},
   "outputs": [],
   "source": [
    "# this works around https://github.com/qutip/qutip/issues/932\n",
    "# once that issue is resolved, we can use oct_control directly\n",
    "T = tlist[-1]; nt=len(tlist)\n",
    "oct_control_func = lambda t, args: (0 if (t > float(T)) else oct_control[int(round(float(nt-1) * (t/float(T))))])"
   ]
  },
  {
   "cell_type": "code",
   "execution_count": 20,
   "metadata": {},
   "outputs": [],
   "source": [
    "H_opt = [H[0], [H[1][0], oct_control_func]]"
   ]
  },
  {
   "cell_type": "code",
   "execution_count": 21,
   "metadata": {},
   "outputs": [],
   "source": [
    "opt_dynamics = qutip.mesolve(H_opt, psi0, e_ops=[proj0, proj1], tlist=tlist)"
   ]
  },
  {
   "cell_type": "code",
   "execution_count": 22,
   "metadata": {},
   "outputs": [
    {
     "data": {
      "image/png": "[encoded data removed]",
      "text/plain": [
       "<Figure size 432x288 with 1 Axes>"
      ]
     },
     "metadata": {
      "needs_background": "light"
     },
     "output_type": "display_data"
    }
   ],
   "source": [
    "plot_population(opt_dynamics)"
   ]
  },
  {
   "cell_type": "code",
   "execution_count": null,
   "metadata": {},
   "outputs": [],
   "source": []
  }
 ],
 "metadata": {
  "kernelspec": {
   "display_name": "Python 3",
   "language": "python",
   "name": "python3"
  },
  "language_info": {
   "codemirror_mode": {
    "name": "ipython",
    "version": 3
   },
   "file_extension": ".py",
   "mimetype": "text/x-python",
   "name": "python",
   "nbconvert_exporter": "python",
   "pygments_lexer": "ipython3",
   "version": "3.6.7"
  }
 },
 "nbformat": 4,
 "nbformat_minor": 2
}
