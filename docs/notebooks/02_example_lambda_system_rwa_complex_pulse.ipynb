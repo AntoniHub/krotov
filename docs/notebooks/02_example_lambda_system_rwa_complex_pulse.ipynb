{
 "cells": [
  {
   "cell_type": "markdown",
   "metadata": {},
   "source": [
    "# Optimization of a state-to-state transfer in a lambda system with RWA"
   ]
  },
  {
   "cell_type": "code",
   "execution_count": 1,
   "metadata": {
    "ExecuteTime": {
     "end_time": "2019-02-12T04:40:55.751470Z",
     "start_time": "2019-02-12T04:40:52.635450Z"
    },
    "attributes": {
     "classes": [],
     "id": "",
     "n": "1"
    }
   },
   "outputs": [
    {
     "name": "stdout",
     "output_type": "stream",
     "text": [
      "qutip            4.3.1\n",
      "krotov           0.2.0+dev\n",
      "scipy            1.2.0\n",
      "matplotlib       3.0.2\n",
      "numpy            1.15.4\n",
      "matplotlib.pylab 1.15.4\n",
      "CPython 3.6.8\n",
      "IPython 7.2.0\n"
     ]
    }
   ],
   "source": [
    "# NBVAL_IGNORE_OUTPUT\n",
    "%load_ext watermark\n",
    "import numpy as np\n",
    "import scipy\n",
    "import matplotlib\n",
    "import matplotlib.pylab as plt\n",
    "import krotov\n",
    "import qutip\n",
    "from qutip import Qobj\n",
    "%watermark -v --iversions"
   ]
  },
  {
   "cell_type": "markdown",
   "metadata": {},
   "source": [
    "$\\newcommand{tr}[0]{\\operatorname{tr}}\n",
    "\\newcommand{diag}[0]{\\operatorname{diag}}\n",
    "\\newcommand{abs}[0]{\\operatorname{abs}}\n",
    "\\newcommand{pop}[0]{\\operatorname{pop}}\n",
    "\\newcommand{aux}[0]{\\text{aux}}\n",
    "\\newcommand{opt}[0]{\\text{opt}}\n",
    "\\newcommand{tgt}[0]{\\text{tgt}}\n",
    "\\newcommand{init}[0]{\\text{init}}\n",
    "\\newcommand{lab}[0]{\\text{lab}}\n",
    "\\newcommand{rwa}[0]{\\text{rwa}}\n",
    "\\newcommand{bra}[1]{\\langle#1\\vert}\n",
    "\\newcommand{ket}[1]{\\vert#1\\rangle}\n",
    "\\newcommand{Bra}[1]{\\left\\langle#1\\right\\vert}\n",
    "\\newcommand{Ket}[1]{\\left\\vert#1\\right\\rangle}\n",
    "\\newcommand{Braket}[2]{\\left\\langle #1\\vphantom{#2} \\mid\n",
    "#2\\vphantom{#1}\\right\\rangle}\n",
    "\\newcommand{Ketbra}[2]{\\left\\vert#1\\vphantom{#2}\n",
    "\\right\\rangle \\hspace{-0.2em} \\left\\langle #2\\vphantom{#1}\\right\\vert}\n",
    "\\newcommand{op}[1]{\\hat{#1}}\n",
    "\\newcommand{Op}[1]{\\hat{#1}}\n",
    "\\newcommand{dd}[0]{\\,\\text{d}}\n",
    "\\newcommand{Liouville}[0]{\\mathcal{L}}\n",
    "\\newcommand{DynMap}[0]{\\mathcal{E}}\n",
    "\\newcommand{identity}[0]{\\mathbf{1}}\n",
    "\\newcommand{Norm}[1]{\\lVert#1\\rVert}\n",
    "\\newcommand{Abs}[1]{\\left\\vert#1\\right\\vert}\n",
    "\\newcommand{avg}[1]{\\langle#1\\rangle}\n",
    "\\newcommand{Avg}[1]{\\left\\langle#1\\right\\rangle}\n",
    "\\newcommand{AbsSq}[1]{\\left\\vert#1\\right\\vert^2}\n",
    "\\newcommand{Re}[0]{\\operatorname{Re}}\n",
    "\\newcommand{Im}[0]{\\operatorname{Im}}\n",
    "\\newcommand{toP}[0]{\\omega_{12}}\n",
    "\\newcommand{toS}[0]{\\omega_{23}}\n",
    "\\newcommand{oft}[0]{\\left(t\\right)}$\n",
    "\n",
    "The purpose of this example is to illustrate and test the use of complex control\n",
    "fields.\n",
    "Essentially, this is accomplished by rewriting the Hamiltonian as the\n",
    "sum of two independent controls (real and imaginary parts).\n",
    "\n",
    "## Define the Hamiltonian\n",
    "\n",
    "The system consists of three levels $\\Ket{1}$,\n",
    "$\\Ket{2}$ and $\\Ket{3}$ with energy levels $E_{1}, E_{2}$ and $E_{3}$ which\n",
    "interact with a pair of pulses,\n",
    "with time-dependent frequencies of\n",
    "$\\omega_{P}=\\omega_{P}\\oft$ (pump laser) and \n",
    "$\\omega_{S} = \\omega_{S}\\oft$\n",
    "(stokes laser) respectively.\n",
    "The pulses each have time-dependent envelopes\n",
    "$\\varepsilon_{P}\\oft$ and $\\varepsilon_{S}\\oft$.\n",
    "Furthermore, it is assumed that\n",
    "the frequencies are tuned\n",
    "such that $\\omega_{P}=\\omega_{P}\\oft$ selectively\n",
    "addresses\n",
    "the $\\Ket{1} \\leftrightarrow \\Ket{2}$ and \n",
    "$\\omega_{S}=\\omega_{S}\\oft$\n",
    "addresses the $\\Ket{2} \\leftrightarrow \\Ket{3}$ transition.\n",
    "\n",
    "We transform into\n",
    "the interaction picture using the operator\n",
    "\n",
    "$$\\op{U}_{0} = \\Ketbra{1}{1}\n",
    "e^{-i\\left(E_{2} - \\omega_{P} \\right)t} + \\Ketbra{2}{2} e^{-iE_{2}t} +\n",
    "\\Ketbra{3}{3} e^{-i\\left(E_{2}-\\omega_{S}\\right)t}\\,\\,,$$\n",
    "\n",
    "where $\\toP$ and\n",
    "$\\toS$, the splittings between the first and second and between the second and\n",
    "third energy levels, are close to the central frequencies of $\\omega_{S}\\oft$\n",
    "and $\\omega_{P}\\oft$.\n",
    "\n",
    "In the rotating wave approximation, the fast rotating\n",
    "terms\n",
    "$e^{\\pm i\\left(\\toP + \\omega_{P}\\oft \\right)t}$ and \n",
    "$e^{\\pm i\\left(\\toS +\n",
    "\\omega_{S}\\oft \\right)t}$ can be neglegted.\n",
    " \n",
    "Consequently,\n",
    "\n",
    "$$ \\op{H}_{0} =\n",
    "\\Delta_{P} \\Ketbra{1}{1}  +\\Delta_{S} \\Ketbra{3}{3}$$\n",
    "\n",
    "describes the drift\n",
    "Hamiltonian of a system with the respective detunings $\\Delta_{P}=E_{1} +\n",
    "\\omega_{P} - E_{2}$ and $\\Delta_{S} = E_{3} + \\omega_{S} -E_{2}$.\n",
    "\n",
    "The control\n",
    "Hamiltonian is given by \n",
    "\n",
    "$$    \\op{H}_{1}\\oft = \\op{H}_{1,P}\\oft +\n",
    "\\op{H}_{1,S}\\oft = \\Omega_{P}\\oft \\Ketbra{1}{2} + \\Omega_{S}\\oft\\Ketbra{2}{3} +\n",
    "\\text{h.c.}\\,\\,,$$\n",
    "\n",
    "where $\\Omega_{P} = \\Omega_{P}\\oft = \\frac{\\mu_{21}\n",
    "\\varepsilon_{P}\\oft}{2} e^{-i\\Phi_{P}\\oft t}$ and\n",
    "$\\Omega_{S} = \\Omega_{S}\\oft =\n",
    "\\frac{\\mu_{23} \\varepsilon_{S}\\oft}{2} e^{-i\\Phi_{S}\\oft t}$\n",
    "with the phases\n",
    "$\\Phi_{P}\\oft = \\toP - \\omega_{P}\\oft$ and $\\Phi_{S}\\oft = \\toS -\n",
    "\\omega_{S}\\oft$\n",
    "and $\\mu_{ij}$ the $ij^{\\text{th}}$ dipole-transition moment.\n",
    "In order to optimize, we rewrite $\\Omega_{P}\\oft = \\Omega_{P}^\\text{Re}\\oft +\n",
    "i\\Omega_{P}^\\text{Im}\\oft$\n",
    "and $\\Omega_{S}\\oft = \\Omega_{S}^\\text{Re}\\oft +\n",
    "i\\Omega_{S}^\\text{Im}\\oft$, such that optimization of the pulses involves only\n",
    "real functions.\n",
    "\n",
    "\n",
    "## About the target transformation in the RWA\n",
    "\n",
    "Since we are working in the interaction picture with the RWA we have to convert\n",
    "the states from the lab frame to the rotating frame. This is made by \n",
    "following the next equation \n",
    "\n",
    "$$ \\ket{\\psi _{I}} = \\op{U}_{0} ^{-1}\\ket{\\psi}, $$\n",
    "\n",
    "with $\\op{U}_0$ the free evolution operator defined before. \n",
    "\n",
    "The initial states are defined at $t = 0$ and thus they remain the same in the \n",
    "rotating frame, but the target states may change. In our example, the \n",
    "target state is an eigenstate, and thus in the RWA frame it will be the same, \n",
    "except for a phase. However this phase will be overlooked by the functional that we are using. \n",
    "Nevertheless it is important to have this transformation in mind, specially if we\n",
    "are dealing with targets that are not pure eigenstates or if we are interested in \n",
    "creating a gate optimization."
   ]
  },
  {
   "cell_type": "code",
   "execution_count": 2,
   "metadata": {
    "ExecuteTime": {
     "end_time": "2019-02-12T04:40:55.781057Z",
     "start_time": "2019-02-12T04:40:55.755916Z"
    },
    "attributes": {
     "classes": [],
     "id": "",
     "n": "2"
    }
   },
   "outputs": [],
   "source": [
    "T = 5. \n",
    "\n",
    "def ham_and_states(T = T):\n",
    "    \"\"\"Lambda-system Hamiltonian\"\"\"\n",
    "    E1 = 0.\n",
    "    E2 = 10.\n",
    "    E3 = 5.\n",
    "    ω_P = 9.5\n",
    "    ω_S = 4.5\n",
    "    Ω_init = 5.\n",
    "    H0 =  Qobj([[E1+ω_P-E2, 0., 0.], \\\n",
    "                [0., 0., 0.],        \\\n",
    "                [0., 0., E3+ω_S-E2]])\n",
    "    \n",
    "        \n",
    "    H1P_re = Qobj([[0.,-1.,0.], [-1.,0.,0.],[0.,0.,0.]])    \n",
    "    H1P_im = Qobj([[0.,-1.j,0.],[1.j,0.,0.],[0.,0.,0.]])\n",
    "    ΩP_re = lambda t, args: Ω_init\n",
    "    ΩP_im = lambda t, args: Ω_init\n",
    "    \n",
    "    H1S_re = Qobj([[0.,0.,0.],[0.,0.,1.],[0.,1.,0.]])\n",
    "    H1S_im = Qobj([[0.,0.,0.],[0.,0.,1.j],[0.,-1.j,0.]])\n",
    "    ΩS_re = lambda t, args: Ω_init    \n",
    "    ΩS_im = lambda t, args: Ω_init\n",
    "    \n",
    "    \"\"\"Initial and target states\"\"\"\n",
    "    psi0 = qutip.Qobj(np.array([1.,0.,0.]))\n",
    "    psi1 = qutip.Qobj(np.array([0.,0.,1.]))    \n",
    "    \n",
    "    #State transformation to the rotating frame\n",
    "    psi1 *= np.exp(1j * (E2 - ω_S) * T)\n",
    "    \n",
    "    return ([H0, \\\n",
    "            [H1P_re, ΩP_re], [H1P_im, ΩP_im], \\\n",
    "            [H1S_re, ΩS_re], [H1S_im, ΩS_im]], \\\n",
    "            psi0, psi1)\n",
    "\n",
    "H, psi0, psi1 = ham_and_states()"
   ]
  },
  {
   "cell_type": "markdown",
   "metadata": {},
   "source": [
    "We introduce projectors for each of the three energy levels\n",
    "$\\op{P}_{i} =\n",
    "\\Ketbra{i}{i}$"
   ]
  },
  {
   "cell_type": "code",
   "execution_count": 3,
   "metadata": {
    "ExecuteTime": {
     "end_time": "2019-02-12T04:40:55.798666Z",
     "start_time": "2019-02-12T04:40:55.787265Z"
    },
    "attributes": {
     "classes": [],
     "id": "",
     "n": "3"
    }
   },
   "outputs": [],
   "source": [
    "proj1 = Qobj([[1.,0.,0.],[0.,0.,0.],[0.,0.,0.]])\n",
    "proj2 = Qobj([[0.,0.,0.],[0.,1.,0.],[0.,0.,0.]])\n",
    "proj3 = Qobj([[0.,0.,0.],[0.,0.,0.],[0.,0.,1.]])"
   ]
  },
  {
   "cell_type": "markdown",
   "metadata": {},
   "source": [
    "## Define the optimization target\n",
    "\n",
    "In the following we consider dynamics acting\n",
    "over a duration of $\\Delta_{t} = 5$, beginning at\n",
    "$t_{0} = 0$ and ending at $T =\n",
    "\\Delta_{t}$. \n",
    "The time grid is divided into $n_{t} = 500$ equidistant time\n",
    "steps."
   ]
  },
  {
   "cell_type": "code",
   "execution_count": 4,
   "metadata": {
    "ExecuteTime": {
     "end_time": "2019-02-12T04:40:55.809020Z",
     "start_time": "2019-02-12T04:40:55.802160Z"
    },
    "attributes": {
     "classes": [],
     "id": "",
     "n": "4"
    }
   },
   "outputs": [],
   "source": [
    "tlist = np.linspace(0.,T,500)"
   ]
  },
  {
   "cell_type": "markdown",
   "metadata": {},
   "source": [
    "Since the objective of this example is a state to state transfer from the\n",
    "initial state\n",
    "$\\Ket{\\Psi_{\\init}} = \\Ket{1}$ into the final state\n",
    "$\\Ket{\\Psi_{\\tgt}} = \\Ket{3}$ at the\n",
    "final time $t_{1}$, the optimization\n",
    "objective is set as"
   ]
  },
  {
   "cell_type": "code",
   "execution_count": 5,
   "metadata": {
    "ExecuteTime": {
     "end_time": "2019-02-12T04:40:55.816607Z",
     "start_time": "2019-02-12T04:40:55.813293Z"
    },
    "attributes": {
     "classes": [],
     "id": "",
     "n": "5"
    }
   },
   "outputs": [],
   "source": [
    "objective = krotov.Objective(initial_state=psi0, target=psi1, H=H)"
   ]
  },
  {
   "cell_type": "markdown",
   "metadata": {},
   "source": [
    "## Initial guess shapes\n",
    "\"Stimulated Raman adiabatic passage\" (STIRAP) is a\n",
    "process in which population in $\\Ket{1}$ is transferred into\n",
    "$\\Ket{3}$ without\n",
    "having to pass through $\\Ket{2}$ (which could for instance be a rapidly decaying\n",
    "level).\n",
    "In order for this process to occur, a temporally finite Stokes pulse of\n",
    "sufficient amplitude driving the $\\Ket{2} \\leftrightarrow \\Ket{3}$ transition is\n",
    "applied first, whilst second pump pulse of similar intensity follows some time\n",
    "later such that the pulses still have a partial temporal overlap.\n",
    "\n",
    "In order to\n",
    "demonstrate the Krotov's optimization method however, we choose an initial guess\n",
    "consisting of two low intensity and real Blackman pulses which are temporally\n",
    "disjoint.\n",
    "\n",
    "For the real components of the matrix elements, we supply our guess\n",
    "pulses shaped as Blackman window functions `S(t,offset)`, with an offset\n",
    "ensuring that the two pulses don't overlap.\n",
    "The imaginary components are coupled\n",
    "to pulses that are zero at all times."
   ]
  },
  {
   "cell_type": "code",
   "execution_count": 6,
   "metadata": {
    "ExecuteTime": {
     "end_time": "2019-02-12T04:40:55.829336Z",
     "start_time": "2019-02-12T04:40:55.819110Z"
    },
    "attributes": {
     "classes": [],
     "id": "",
     "n": "6"
    }
   },
   "outputs": [],
   "source": [
    "def S(t,offset):\n",
    "    \"\"\"Shape envelope function for the field update\"\"\"\n",
    "    return krotov.shapes.blackman(t,1.+offset,4.+offset)\n",
    "\n",
    "def shape_field_real(eps,offset):\n",
    "    \"\"\"Applies the total pulse shape to the real part of a guess pulse\"\"\"\n",
    "    field_shaped = lambda t, args: eps(t, args)*S(t,offset)\n",
    "    return field_shaped\n",
    "\n",
    "def shape_field_imag(eps,offset):\n",
    "    \"\"\"Initializes the imaginary parts of the guess pulses to zero\"\"\"\n",
    "    field_shaped = lambda t, args: eps(t, args)*0.\n",
    "    return field_shaped\n",
    "\n",
    "H[1][1] = shape_field_real(H[1][1],1.) # Re[Ωₚ]\n",
    "H[2][1] = shape_field_imag(H[2][1],1.) # Im[Ωₚ]\n",
    "H[3][1] = shape_field_real(H[3][1],-1.) # Re[Ωₛ]\n",
    "H[4][1] = shape_field_imag(H[4][1],-1.) # Im[Ωₛ]"
   ]
  },
  {
   "cell_type": "markdown",
   "metadata": {},
   "source": [
    "We choose an appropriate update factor $\\lambda_{a}$ for the problem at hand and\n",
    "make sure Krotov considers pulses which start and end with zero amplitude."
   ]
  },
  {
   "cell_type": "code",
   "execution_count": 7,
   "metadata": {
    "ExecuteTime": {
     "end_time": "2019-02-12T04:40:55.839565Z",
     "start_time": "2019-02-12T04:40:55.833234Z"
    },
    "attributes": {
     "classes": [],
     "id": "",
     "n": "7"
    }
   },
   "outputs": [],
   "source": [
    "def update_shape(t):\n",
    "    \"\"\"Scales the Krotov methods update of the pulse value at the time t\"\"\"\n",
    "    return krotov.shapes.flattop(t,0.,5.,0.3,func='sinsq')"
   ]
  },
  {
   "cell_type": "code",
   "execution_count": 8,
   "metadata": {
    "ExecuteTime": {
     "end_time": "2019-02-12T04:40:55.851044Z",
     "start_time": "2019-02-12T04:40:55.842793Z"
    }
   },
   "outputs": [],
   "source": [
    "opt_lambda = 2.\n",
    "pulse_options = { \n",
    "    H[1][1]: dict(lambda_a=opt_lambda, shape=update_shape),\n",
    "    H[2][1]: dict(lambda_a=opt_lambda, shape=update_shape),\n",
    "    H[3][1]: dict(lambda_a=opt_lambda, shape=update_shape),\n",
    "    H[4][1]: dict(lambda_a=opt_lambda, shape=update_shape)\n",
    "}"
   ]
  },
  {
   "cell_type": "markdown",
   "metadata": {},
   "source": [
    "## Simulate dynamics of the guess field"
   ]
  },
  {
   "cell_type": "code",
   "execution_count": 9,
   "metadata": {
    "ExecuteTime": {
     "end_time": "2019-02-12T04:40:55.858312Z",
     "start_time": "2019-02-12T04:40:55.853316Z"
    },
    "attributes": {
     "classes": [],
     "id": "",
     "n": "10"
    }
   },
   "outputs": [],
   "source": [
    "def plot_pulse(pulse, tlist, label):\n",
    "    fig, ax = plt.subplots()\n",
    "    if callable(pulse):\n",
    "        pulse = np.array([pulse(t, args=None) for t in tlist])\n",
    "    ax.plot(tlist, pulse)\n",
    "    ax.set_xlabel('time')\n",
    "    ax.set_ylabel('%s pulse amplitude' % label)\n",
    "    plt.show(fig)"
   ]
  },
  {
   "cell_type": "code",
   "execution_count": 10,
   "metadata": {
    "ExecuteTime": {
     "end_time": "2019-02-12T04:40:56.293915Z",
     "start_time": "2019-02-12T04:40:55.860421Z"
    },
    "attributes": {
     "classes": [],
     "id": "",
     "n": "11"
    }
   },
   "outputs": [
    {
     "data": {
      "image/png": "[encoded data removed]",
      "text/plain": [
       "<Figure size 432x288 with 1 Axes>"
      ]
     },
     "metadata": {
      "needs_background": "light"
     },
     "output_type": "display_data"
    },
    {
     "data": {
      "image/png": "[encoded data removed]",
      "text/plain": [
       "<Figure size 432x288 with 1 Axes>"
      ]
     },
     "metadata": {
      "needs_background": "light"
     },
     "output_type": "display_data"
    }
   ],
   "source": [
    "plot_pulse(H[1][1], tlist, 'Ωₚ')\n",
    "plot_pulse(H[3][1], tlist, 'Ωₛ')"
   ]
  },
  {
   "cell_type": "markdown",
   "metadata": {},
   "source": [
    "The imaginary parts are zero:"
   ]
  },
  {
   "cell_type": "code",
   "execution_count": 11,
   "metadata": {
    "ExecuteTime": {
     "end_time": "2019-02-12T04:40:56.300681Z",
     "start_time": "2019-02-12T04:40:56.295922Z"
    },
    "attributes": {
     "classes": [],
     "id": "",
     "n": "12"
    }
   },
   "outputs": [],
   "source": [
    "assert np.all([H[2][1](t, None) == 0 for t in tlist])\n",
    "assert np.all([H[4][1](t, None) == 0 for t in tlist])"
   ]
  },
  {
   "cell_type": "markdown",
   "metadata": {},
   "source": [
    "After assuring ourselves that our guess pulses appear as expected, we propagate\n",
    "the system using our guess. Since the pulses are temporally disjoint, we expect\n",
    "the first pulse to have no effect, whilst the second merely transfers population\n",
    "out of $\\Ket{1}$ into $\\Ket{2}$ and back again."
   ]
  },
  {
   "cell_type": "code",
   "execution_count": 12,
   "metadata": {
    "ExecuteTime": {
     "end_time": "2019-02-12T04:40:57.224259Z",
     "start_time": "2019-02-12T04:40:56.304263Z"
    },
    "attributes": {
     "classes": [],
     "id": "",
     "n": "13"
    }
   },
   "outputs": [],
   "source": [
    "guess_dynamics = objective.mesolve(tlist, e_ops=[proj1,proj2,proj3])"
   ]
  },
  {
   "cell_type": "code",
   "execution_count": 13,
   "metadata": {
    "ExecuteTime": {
     "end_time": "2019-02-12T04:40:57.232092Z",
     "start_time": "2019-02-12T04:40:57.226227Z"
    },
    "attributes": {
     "classes": [],
     "id": "",
     "n": "14"
    }
   },
   "outputs": [],
   "source": [
    "def plot_population(result):\n",
    "    fig, ax = plt.subplots()\n",
    "    ax.plot(result.times, result.expect[0], label='1')\n",
    "    ax.plot(result.times, result.expect[1], label='2')\n",
    "    ax.plot(result.times, result.expect[2], label='3')\n",
    "    ax.legend()\n",
    "    ax.set_xlabel('time')\n",
    "    ax.set_ylabel('population')\n",
    "    plt.show(fig)"
   ]
  },
  {
   "cell_type": "code",
   "execution_count": 14,
   "metadata": {
    "ExecuteTime": {
     "end_time": "2019-02-12T04:40:57.443794Z",
     "start_time": "2019-02-12T04:40:57.236490Z"
    },
    "attributes": {
     "classes": [],
     "id": "",
     "n": "15"
    }
   },
   "outputs": [
    {
     "data": {
      "image/png": "[encoded data removed]",
      "text/plain": [
       "<Figure size 432x288 with 1 Axes>"
      ]
     },
     "metadata": {
      "needs_background": "light"
     },
     "output_type": "display_data"
    }
   ],
   "source": [
    "plot_population(guess_dynamics)"
   ]
  },
  {
   "cell_type": "markdown",
   "metadata": {},
   "source": [
    "## Optimize\n",
    "We now supply Krotov with all the information it needs to optimize,\n",
    "consisting of the `objectives` (maximize population in $\\Ket{3}$ at $t_{1}$),\n",
    "`pulse_options` (the initial shapes of our pulses and how they may be changed)\n",
    "as well as the `propagator` to use, optimization functional (`chi_constructor`),\n",
    "`info_hook` (processing occuring inbetween iterations of optimization) and the\n",
    "maximum number of iterations to perform, `iter_stop`. We will stop the\n",
    "optimization when the error goes below $10^{-3}$ or the fidelity has converged\n",
    "to within 5 digits."
   ]
  },
  {
   "cell_type": "code",
   "execution_count": 15,
   "metadata": {
    "ExecuteTime": {
     "end_time": "2019-02-12T04:41:22.349155Z",
     "start_time": "2019-02-12T04:40:57.446355Z"
    },
    "attributes": {
     "classes": [],
     "id": "",
     "n": "16"
    },
    "scrolled": false
   },
   "outputs": [
    {
     "name": "stdout",
     "output_type": "stream",
     "text": [
      "  iter.        J_T   g_a_int_1   g_a_int_2   g_a_int_3   g_a_int_4     g_a_int          J  Delta_J_T    Delta J  secs\n",
      "      0   9.99e-01    0.00e+00    0.00e+00    0.00e+00    0.00e+00    0.00e+00   9.99e-01        n/a        n/a     0\n",
      "      1   9.96e-01    2.23e-04    2.29e-06    2.22e-04    2.28e-06    4.50e-04   9.97e-01  -2.53e-03  -2.08e-03     2\n",
      "      2   9.88e-01    7.40e-04    1.14e-05    7.36e-04    1.13e-05    1.50e-03   9.89e-01  -8.48e-03  -6.98e-03     2\n",
      "      3   9.60e-01    2.44e-03    3.96e-05    2.41e-03    3.84e-05    4.93e-03   9.65e-01  -2.78e-02  -2.28e-02     2\n",
      "      4   8.75e-01    7.72e-03    1.26e-04    7.38e-03    1.15e-04    1.53e-02   8.91e-01  -8.50e-02  -6.96e-02     2\n",
      "      5   6.62e-01    2.11e-02    3.48e-04    1.85e-02    2.76e-04    4.02e-02   7.03e-01  -2.13e-01  -1.73e-01     2\n",
      "      6   3.32e-01    3.91e-02    6.62e-04    2.84e-02    4.05e-04    6.86e-02   4.01e-01  -3.30e-01  -2.62e-01     2\n",
      "      7   9.83e-02    3.37e-02    5.85e-04    1.95e-02    2.93e-04    5.41e-02   1.52e-01  -2.34e-01  -1.80e-01     2\n",
      "      8   2.12e-02    1.22e-02    2.20e-04    6.32e-03    1.22e-04    1.89e-02   4.01e-02  -7.71e-02  -5.82e-02     2\n",
      "      9   4.17e-03    2.76e-03    5.91e-05    1.39e-03    3.97e-05    4.25e-03   8.42e-03  -1.70e-02  -1.28e-02     2\n",
      "     10   8.08e-04    5.45e-04    1.52e-05    2.76e-04    1.13e-05    8.47e-04   1.66e-03  -3.36e-03  -2.52e-03     2\n"
     ]
    }
   ],
   "source": [
    "oct_result = krotov.optimize_pulses(\n",
    "    [objective],\n",
    "    pulse_options,\n",
    "    tlist,\n",
    "    propagator=krotov.propagators.expm,\n",
    "    chi_constructor=krotov.functionals.chis_ss,\n",
    "    info_hook=krotov.info_hooks.print_table(\n",
    "        J_T=krotov.functionals.J_T_ss,\n",
    "        show_g_a_int_per_pulse=True,\n",
    "        unicode=False,\n",
    "    ),\n",
    "    check_convergence=krotov.convergence.Or(\n",
    "        krotov.convergence.value_below(1e-3, name='J_T'),\n",
    "        krotov.convergence.delta_below(1e-5),\n",
    "        krotov.convergence.check_monotonic_error,\n",
    "    ),\n",
    "    iter_stop=15,\n",
    ")"
   ]
  },
  {
   "cell_type": "code",
   "execution_count": 16,
   "metadata": {
    "ExecuteTime": {
     "end_time": "2019-02-12T04:41:22.361922Z",
     "start_time": "2019-02-12T04:41:22.354011Z"
    },
    "attributes": {
     "classes": [],
     "id": "",
     "n": "17"
    }
   },
   "outputs": [
    {
     "data": {
      "text/plain": [
       "Krotov Optimization Result\n",
       "--------------------------\n",
       "- Started at 2019-02-15 13:09:55\n",
       "- Number of objectives: 1\n",
       "- Number of iterations: 10\n",
       "- Reason for termination: Reached convergence: J_T < 0.001\n",
       "- Ended at 2019-02-15 13:10:18"
      ]
     },
     "execution_count": 16,
     "metadata": {},
     "output_type": "execute_result"
    }
   ],
   "source": [
    "oct_result"
   ]
  },
  {
   "cell_type": "markdown",
   "metadata": {},
   "source": [
    "We appear to have found pulse-shapes that fulfill our objective, but what do\n",
    "they look like?"
   ]
  },
  {
   "cell_type": "code",
   "execution_count": 17,
   "metadata": {
    "ExecuteTime": {
     "end_time": "2019-02-12T04:41:22.898498Z",
     "start_time": "2019-02-12T04:41:22.365141Z"
    },
    "attributes": {
     "classes": [],
     "id": "",
     "n": "18"
    }
   },
   "outputs": [
    {
     "name": "stdout",
     "output_type": "stream",
     "text": [
      "pump pulse amplitude and phase:\n"
     ]
    },
    {
     "data": {
      "image/png": "[encoded data removed]",
      "text/plain": [
       "<Figure size 432x288 with 2 Axes>"
      ]
     },
     "metadata": {
      "needs_background": "light"
     },
     "output_type": "display_data"
    },
    {
     "name": "stdout",
     "output_type": "stream",
     "text": [
      "Stokes pulse amplitude and phase:\n"
     ]
    },
    {
     "data": {
      "image/png": "[encoded data removed]",
      "text/plain": [
       "<Figure size 432x288 with 2 Axes>"
      ]
     },
     "metadata": {
      "needs_background": "light"
     },
     "output_type": "display_data"
    }
   ],
   "source": [
    "def plot_pulse_amplitude_and_phase(pulse_real, pulse_imaginary,tlist):\n",
    "    ax1 = plt.subplot(211)\n",
    "    ax2 = plt.subplot(212)\n",
    "    amplitudes = [np.sqrt(x*x + y*y) for x,y in zip(pulse_real,pulse_imaginary)]\n",
    "    phases = [np.arctan2(y,x)/np.pi for x,y in zip(pulse_real,pulse_imaginary)]\n",
    "    ax1.plot(tlist,amplitudes)\n",
    "    ax1.set_xlabel('time')\n",
    "    ax1.set_ylabel('pulse amplitude')\n",
    "    ax2.plot(tlist,phases)\n",
    "    ax2.set_xlabel('time')\n",
    "    ax2.set_ylabel('pulse phase (π)')    \n",
    "    plt.show()\n",
    "    \n",
    "print(\"pump pulse amplitude and phase:\")\n",
    "plot_pulse_amplitude_and_phase(\n",
    "    oct_result.optimized_controls[0], oct_result.optimized_controls[1], tlist)\n",
    "print(\"Stokes pulse amplitude and phase:\")\n",
    "plot_pulse_amplitude_and_phase(\n",
    "    oct_result.optimized_controls[2], oct_result.optimized_controls[3], tlist)"
   ]
  },
  {
   "cell_type": "markdown",
   "metadata": {},
   "source": [
    "And how does the population end up in $\\Ket{3}$?"
   ]
  },
  {
   "cell_type": "code",
   "execution_count": 18,
   "metadata": {
    "ExecuteTime": {
     "end_time": "2019-02-12T04:41:23.628149Z",
     "start_time": "2019-02-12T04:41:22.905901Z"
    },
    "attributes": {
     "classes": [],
     "id": "",
     "n": "19"
    }
   },
   "outputs": [
   ],
   "source": [
    "opt_dynamics = oct_result.optimized_objectives[0].mesolve(\n",
    "    tlist, e_ops=[proj1, proj2, proj3])"
   ]
  },
  {
   "cell_type": "code",
   "execution_count": 19,
   "metadata": {
    "ExecuteTime": {
     "end_time": "2019-02-12T04:41:23.853468Z",
     "start_time": "2019-02-12T04:41:23.633866Z"
    },
    "attributes": {
     "classes": [],
     "id": "",
     "n": "20"
    }
   },
   "outputs": [
    {
     "data": {
      "image/png": "[encoded data removed]",
      "text/plain": [
       "<Figure size 432x288 with 1 Axes>"
      ]
     },
     "metadata": {
      "needs_background": "light"
     },
     "output_type": "display_data"
    }
   ],
   "source": [
    "plot_population(opt_dynamics)"
   ]
  }
 ],
 "metadata": {
  "hide_input": false,
  "jupytext": {
   "main_language": "python",
   "text_representation": {
    "extension": ".md",
    "format_name": "markdown",
    "format_version": "1.0",
    "jupytext_version": "0.8.6"
   }
  },
  "kernelspec": {
   "display_name": "Python 3",
   "language": "python",
   "name": "python3"
  },
  "language_info": {
   "codemirror_mode": {
    "name": "ipython",
    "version": 3
   },
   "file_extension": ".py",
   "mimetype": "text/x-python",
   "name": "python",
   "nbconvert_exporter": "python",
   "pygments_lexer": "ipython3",
   "version": "3.6.8"
  },
  "toc": {
   "base_numbering": 1,
   "nav_menu": {},
   "number_sections": true,
   "sideBar": true,
   "skip_h1_title": false,
   "title_cell": "Table of Contents",
   "title_sidebar": "Contents",
   "toc_cell": false,
   "toc_position": {},
   "toc_section_display": true,
   "toc_window_display": false
  },
  "varInspector": {
   "cols": {
    "lenName": 16,
    "lenType": 16,
    "lenVar": 40
   },
   "kernels_config": {
    "python": {
     "delete_cmd_postfix": "",
     "delete_cmd_prefix": "del ",
     "library": "var_list.py",
     "varRefreshCmd": "print(var_dic_list())"
    },
    "r": {
     "delete_cmd_postfix": ") ",
     "delete_cmd_prefix": "rm(",
     "library": "var_list.r",
     "varRefreshCmd": "cat(var_dic_list()) "
    }
   },
   "types_to_exclude": [
    "module",
    "function",
    "builtin_function_or_method",
    "instance",
    "_Feature"
   ],
   "window_display": false
  }
 },
 "nbformat": 4,
 "nbformat_minor": 2
}
